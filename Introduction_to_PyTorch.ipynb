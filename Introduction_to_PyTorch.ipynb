{
  "cells": [
    {
      "cell_type": "markdown",
      "metadata": {
        "id": "view-in-github",
        "colab_type": "text"
      },
      "source": [
        "<a href=\"https://colab.research.google.com/github/AndreaWalrus/Esercitazione7-23-24/blob/main/Introduction_to_PyTorch.ipynb\" target=\"_parent\"><img src=\"https://colab.research.google.com/assets/colab-badge.svg\" alt=\"Open In Colab\"/></a>"
      ]
    },
    {
      "cell_type": "markdown",
      "metadata": {
        "id": "Mskoe63kxpSS"
      },
      "source": [
        "# Introduction to PyTorch\n",
        "\n",
        "\n",
        "[![View filled on Github](https://img.shields.io/static/v1.svg?logo=github&label=Repo&message=View%20On%20Github&color=lightgrey)](https://github.com/Sapienza-AI-Lab/esercitazione7-23-24/blob/main/Introduction_to_PyTorch.ipynb)\n",
        "[![Open filled In Collab](https://colab.research.google.com/assets/colab-badge.svg)](https://colab.research.google.com/github/Sapienza-AI-Lab/esercitazione7-23-24/blob/main/Introduction_to_PyTorch.ipynb)"
      ]
    },
    {
      "cell_type": "markdown",
      "metadata": {
        "id": "Zw9oSjR8AKvp"
      },
      "source": [
        "## Disclamer:\n",
        "Questo notebook è stato originalmente adattato da Sandeep Sabbella per il corso di AI-Lab dell'anno accademico\n",
        "2021-22. Il testo è in iglese, ma dovrebbe essere semplice da seguire.\n",
        "\n",
        "### The original notebook by Phillip Lippe can be found [here](https://uvadlc-notebooks.readthedocs.io/en/latest/tutorial_notebooks/tutorial2/Introduction_to_PyTorch.html)"
      ]
    },
    {
      "cell_type": "markdown",
      "metadata": {
        "id": "CNXRSonFAKvq"
      },
      "source": [
        "**Welcome to LabAI session for the Exercise 7.** In this exercise we focus on introducing the basic neural networks and how they function on the given datasets. The following notebook is meant to give a short introduction to PyTorch basics, and get you setup for writing your own neural networks. **There are no Tasks or Exercises in this notebook. But we recommend to understand and run through the code for the basics needed for the Neuralnetworks exercise accompanied in this lab session.** This colab notebook is an modification and implementation to University of Amsterdam [(UvA) DL site](https://uvadlc-notebooks.readthedocs.io/en/latest/tutorial_notebooks/tutorial2/Introduction_to_PyTorch.html).\n",
        "\n",
        "PyTorch is an open source machine learning framework that allows you to write your own neural networks and optimize them efficiently. However, PyTorch is not the only framework of its kind. Alternatives to PyTorch include [TensorFlow](https://www.tensorflow.org/), [JAX](https://github.com/google/jax#quickstart-colab-in-the-cloud) and [Caffe](http://caffe.berkeleyvision.org/).\n",
        "\n",
        "We choose to teach PyTorch because it is well established, has a huge developer community (originally developed by Facebook), is very flexible and especially used in research. Many current papers publish their code in PyTorch, and thus it is good to be familiar with PyTorch as well.\n",
        "\n",
        "Meanwhile, TensorFlow (developed by Google) is usually known for being a production-grade deep learning library. Still, if you know one machine learning framework in depth, it is very easy to learn another one because many of them use the same concepts and ideas. For instance, TensorFlow's version 2 was heavily inspired by the most popular features of PyTorch, making the frameworks even more similar.\n",
        "\n",
        "If you are already familiar with PyTorch and have created your own neural network projects, feel free to just skim this notebook.\n",
        "\n",
        "We are of course not the first ones to create a PyTorch tutorial. There are many great tutorials online, including the [\"60-min blitz\"](https://pytorch.org/tutorials/beginner/deep_learning_60min_blitz.html) on the official [PyTorch website](https://pytorch.org/tutorials/). We choose to create our own tutorial which is designed to give you the basics particularly necessary for the practicals, but still understand how PyTorch works under the hood.  \n",
        "\n",
        "We will use a set of standard libraries that are often used in machine learning projects. You are running this notebook on Google Colab, all libraries should be pre-installed."
      ]
    },
    {
      "cell_type": "code",
      "execution_count": 1,
      "metadata": {
        "ExecuteTime": {
          "end_time": "2023-04-27T10:57:58.035864Z",
          "start_time": "2023-04-27T10:57:57.982903Z"
        },
        "id": "gtFHgTFuxpSW"
      },
      "outputs": [],
      "source": [
        "## Standard libraries\n",
        "import os\n",
        "import math\n",
        "from matplotlib_inline.backend_inline import set_matplotlib_formats\n",
        "import numpy as np\n",
        "import time\n",
        "\n",
        "## Imports for plotting\n",
        "import matplotlib.pyplot as plt\n",
        "%matplotlib inline\n",
        "set_matplotlib_formats('svg', 'pdf') # For export\n",
        "from matplotlib.colors import to_rgba\n",
        "import seaborn as sns\n",
        "sns.set()\n",
        "\n",
        "## Progress bar\n",
        "from tqdm.notebook import tqdm"
      ]
    },
    {
      "cell_type": "markdown",
      "metadata": {
        "id": "880CzC1yxpSX"
      },
      "source": [
        "## The Basics of PyTorch\n",
        "\n",
        "We will start with reviewing the very basic concepts of PyTorch. As a prerequisite, we recommend to be familiar with the `numpy` package as most machine learning frameworks are based on very similar concepts. If you are not familiar with numpy yet, don't worry: here is a [tutorial](https://numpy.org/devdocs/user/quickstart.html) to go through.\n",
        "\n",
        "So, let's start with importing PyTorch. The package is called `torch`, based on its original framework [Torch](http://torch.ch/). As a first step, we can check its version:"
      ]
    },
    {
      "cell_type": "code",
      "execution_count": 2,
      "metadata": {
        "colab": {
          "base_uri": "https://localhost:8080/"
        },
        "id": "WxBniPWaxpSX",
        "outputId": "50abb7b2-5c7b-43d1-a785-080e65c7bc19",
        "pycharm": {
          "is_executing": true
        }
      },
      "outputs": [
        {
          "output_type": "stream",
          "name": "stdout",
          "text": [
            "Using torch 2.6.0+cu124\n"
          ]
        }
      ],
      "source": [
        "import torch\n",
        "print(\"Using torch\", torch.__version__)"
      ]
    },
    {
      "cell_type": "markdown",
      "metadata": {
        "id": "ZUicBq_5xpSY"
      },
      "source": [
        "At the time of writing this tutorial (mid of May 2022), the current stable version is 1.11. You should therefore see the output `Using torch 1.11.0` or `Using torch 1.10.0`, eventually with some extension for the CUDA version on Colab. In general, it is recommended to keep the PyTorch version updated to the newest one.\n",
        "\n",
        "As in every machine learning framework, PyTorch provides functions that are stochastic like generating random numbers. However, a very good practice is to setup your code to be reproducible with the exact same random numbers. This is why we set a seed below."
      ]
    },
    {
      "cell_type": "code",
      "execution_count": 3,
      "metadata": {
        "id": "eCxeQ1jaxpSY",
        "outputId": "7168498c-d5e0-46d5-bdc2-494d73c8d152",
        "pycharm": {
          "is_executing": true
        },
        "colab": {
          "base_uri": "https://localhost:8080/"
        }
      },
      "outputs": [
        {
          "output_type": "execute_result",
          "data": {
            "text/plain": [
              "<torch._C.Generator at 0x78de8cedb4f0>"
            ]
          },
          "metadata": {},
          "execution_count": 3
        }
      ],
      "source": [
        "torch.manual_seed(42) # Setting the seed"
      ]
    },
    {
      "cell_type": "markdown",
      "metadata": {
        "id": "CfTCmaBBxpSY"
      },
      "source": [
        "### Tensors\n",
        "\n",
        "Tensors are the PyTorch equivalent to Numpy arrays, with the addition to also have support for GPU acceleration (more on that later).\n",
        "The name \"tensor\" is a generalization of concepts you already know. For instance, a vector is a 1-D tensor, and a matrix a 2-D tensor. When working with neural networks, we will use tensors of various shapes and number of dimensions.\n",
        "\n",
        "Most common functions you know from numpy can be used on tensors as well. Actually, since numpy arrays are so similar to tensors, we can convert most tensors to numpy arrays (and back) but we don't need it too often.\n",
        "\n",
        "#### Initialization\n",
        "\n",
        "Let's first start by looking at different ways of creating a tensor. There are many possible options, the most simple one is to call `torch.Tensor` passing the desired shape as input argument:"
      ]
    },
    {
      "cell_type": "code",
      "execution_count": 4,
      "metadata": {
        "id": "8poE1VHSxpSZ",
        "pycharm": {
          "is_executing": true
        },
        "colab": {
          "base_uri": "https://localhost:8080/"
        },
        "outputId": "7bc68ef9-7105-4d3e-974d-2b341983ff39"
      },
      "outputs": [
        {
          "output_type": "stream",
          "name": "stdout",
          "text": [
            "tensor([[[0.0000e+00, 5.4045e-14, 1.3556e-19, 1.3563e-19, 7.1758e+22],\n",
            "         [1.8753e+28, 7.7128e+31, 1.2737e-14, 7.1450e+31, 1.2102e+25],\n",
            "         [6.6464e-33, 1.9515e-19, 3.0218e+32, 1.7701e+31, 1.2679e-14],\n",
            "         [1.6926e+22, 1.8037e+28, 9.1042e-12, 6.3793e+28, 8.9747e-33]],\n",
            "\n",
            "        [[1.3563e-19, 2.1973e-18, 2.0701e-19, 1.9432e-19, 1.6926e+22],\n",
            "         [4.7418e+30, 1.7749e+28, 7.1447e+31, 1.9603e-19, 1.7589e+22],\n",
            "         [1.2412e+28, 6.6830e+22, 1.8943e+23, 5.0848e+31, 2.9588e+21],\n",
            "         [7.1558e+22, 4.1076e+04, 8.3938e-33, 1.3563e-19, 3.3901e-15]]])\n"
          ]
        }
      ],
      "source": [
        "# the following code creates two tensor objects of size(shape) 4x5 andom values\n",
        "x = torch.Tensor(2, 4, 5)\n",
        "print(x)"
      ]
    },
    {
      "cell_type": "markdown",
      "metadata": {
        "id": "Rw9iIp3dxpSZ"
      },
      "source": [
        "The function `torch.Tensor` allocates memory for the desired tensor, but reuses any values that have already been in the memory. To directly assign values to the tensor during initialization, there are many alternatives including:\n",
        "\n",
        "* `torch.zeros`: Creates a tensor filled with zeros\n",
        "* `torch.ones`: Creates a tensor filled with ones\n",
        "* `torch.rand`: Creates a tensor with random values uniformly sampled between 0 and 1\n",
        "* `torch.randn`: Creates a tensor with random values sampled from a normal distribution with mean 0 and variance 1\n",
        "* `torch.arange`: Creates a tensor containing the values $N,N+1,N+2,...,M$\n",
        "* `torch.Tensor` (input list): Creates a tensor from the list elements you provide"
      ]
    },
    {
      "cell_type": "code",
      "execution_count": 5,
      "metadata": {
        "id": "3JUF0dNhxpSZ",
        "outputId": "a7e58ba1-249d-4097-c39e-8b3448bcae44",
        "pycharm": {
          "is_executing": true
        },
        "colab": {
          "base_uri": "https://localhost:8080/"
        }
      },
      "outputs": [
        {
          "output_type": "stream",
          "name": "stdout",
          "text": [
            "tensor([[1., 2.],\n",
            "        [3., 4.]])\n"
          ]
        }
      ],
      "source": [
        "# Create a tensor from a (nested) list\n",
        "x = torch.Tensor([[1, 2], [3, 4]])\n",
        "print(x)"
      ]
    },
    {
      "cell_type": "markdown",
      "metadata": {
        "id": "lRvw2xTv5jLF"
      },
      "source": [
        "A tensor can be constructed from a Python list or sequence using the `torch.tensor()` constructor:"
      ]
    },
    {
      "cell_type": "code",
      "execution_count": 6,
      "metadata": {
        "colab": {
          "base_uri": "https://localhost:8080/"
        },
        "id": "sYGz228-5cm9",
        "outputId": "812003f0-dec0-46ce-bf8c-8f8c03142cf6",
        "pycharm": {
          "is_executing": true
        }
      },
      "outputs": [
        {
          "output_type": "execute_result",
          "data": {
            "text/plain": [
              "tensor([[ 1., -1.],\n",
              "        [ 1., -1.]])"
            ]
          },
          "metadata": {},
          "execution_count": 6
        }
      ],
      "source": [
        "torch.tensor([[1., -1.], [1., -1.]])"
      ]
    },
    {
      "cell_type": "code",
      "execution_count": 7,
      "metadata": {
        "colab": {
          "base_uri": "https://localhost:8080/"
        },
        "id": "x24g86Z-5wB_",
        "outputId": "e0934aa2-28da-4833-aa72-fe74f47bcadd",
        "pycharm": {
          "is_executing": true
        }
      },
      "outputs": [
        {
          "output_type": "execute_result",
          "data": {
            "text/plain": [
              "tensor([[1, 2, 3],\n",
              "        [4, 5, 6]])"
            ]
          },
          "metadata": {},
          "execution_count": 7
        }
      ],
      "source": [
        "torch.tensor(np.array([[1, 2, 3], [4, 5, 6]]))"
      ]
    },
    {
      "cell_type": "code",
      "execution_count": 8,
      "metadata": {
        "id": "NfOoUadlxpSa",
        "outputId": "56910b89-77ae-41e7-90cd-4d84486e3dba",
        "pycharm": {
          "is_executing": true
        },
        "colab": {
          "base_uri": "https://localhost:8080/"
        }
      },
      "outputs": [
        {
          "output_type": "stream",
          "name": "stdout",
          "text": [
            "tensor([[[0.8823, 0.9150, 0.3829, 0.9593],\n",
            "         [0.3904, 0.6009, 0.2566, 0.7936],\n",
            "         [0.9408, 0.1332, 0.9346, 0.5936]],\n",
            "\n",
            "        [[0.8694, 0.5677, 0.7411, 0.4294],\n",
            "         [0.8854, 0.5739, 0.2666, 0.6274],\n",
            "         [0.2696, 0.4414, 0.2969, 0.8317]]])\n"
          ]
        }
      ],
      "source": [
        "# Create a tensor with random values between 0 and 1 with the shape [2, 3, 4]\n",
        "x = torch.rand(2, 3, 4)\n",
        "print(x)"
      ]
    },
    {
      "cell_type": "markdown",
      "metadata": {
        "id": "hwccZVBtxpSa"
      },
      "source": [
        "You can obtain the shape of a tensor in the same way as in numpy (`x.shape`), or using the `.size` method:"
      ]
    },
    {
      "cell_type": "code",
      "execution_count": 9,
      "metadata": {
        "id": "5WSLb04dxpSa",
        "outputId": "32556788-cf04-4af7-d270-c3d956da35a5",
        "pycharm": {
          "is_executing": true
        },
        "colab": {
          "base_uri": "https://localhost:8080/"
        }
      },
      "outputs": [
        {
          "output_type": "stream",
          "name": "stdout",
          "text": [
            "Shape: torch.Size([2, 3, 4])\n",
            "Size: torch.Size([2, 3, 4])\n",
            "Size: 2 3 4\n"
          ]
        }
      ],
      "source": [
        "shape = x.shape\n",
        "print(\"Shape:\", x.shape)\n",
        "\n",
        "size = x.size()\n",
        "print(\"Size:\", size)\n",
        "\n",
        "dim1, dim2, dim3 = x.size()\n",
        "print(\"Size:\", dim1, dim2, dim3)"
      ]
    },
    {
      "cell_type": "markdown",
      "metadata": {
        "id": "wjBBlzw_xpSa"
      },
      "source": [
        "#### Tensor to Numpy, and Numpy to Tensor\n",
        "\n",
        "Tensors can be converted to numpy arrays, and numpy arrays back to tensors. To transform a numpy array into a tensor, we can use the function `torch.from_numpy`:"
      ]
    },
    {
      "cell_type": "code",
      "execution_count": 10,
      "metadata": {
        "id": "AyMvilmnxpSa",
        "outputId": "baf24b9c-8a8d-4c7d-81fa-c07e140fa389",
        "pycharm": {
          "is_executing": true
        },
        "colab": {
          "base_uri": "https://localhost:8080/"
        }
      },
      "outputs": [
        {
          "output_type": "stream",
          "name": "stdout",
          "text": [
            "Numpy array: [[1 2]\n",
            " [3 4]]\n",
            "PyTorch tensor: tensor([[1, 2],\n",
            "        [3, 4]])\n"
          ]
        }
      ],
      "source": [
        "np_arr = np.array([[1, 2], [3, 4]])\n",
        "tensor = torch.from_numpy(np_arr)\n",
        "\n",
        "print(\"Numpy array:\", np_arr)\n",
        "print(\"PyTorch tensor:\", tensor)"
      ]
    },
    {
      "cell_type": "markdown",
      "metadata": {
        "id": "AVhj6aC9xpSb"
      },
      "source": [
        "To transform a PyTorch tensor back to a numpy array, we can use the function `.numpy()` on tensors:"
      ]
    },
    {
      "cell_type": "code",
      "execution_count": 11,
      "metadata": {
        "id": "wAbTQkiexpSb",
        "outputId": "18ada601-ac8a-4c29-a10f-96f430372c98",
        "pycharm": {
          "is_executing": true
        },
        "colab": {
          "base_uri": "https://localhost:8080/"
        }
      },
      "outputs": [
        {
          "output_type": "stream",
          "name": "stdout",
          "text": [
            "PyTorch tensor: tensor([0, 1, 2, 3])\n",
            "Numpy array: [0 1 2 3]\n"
          ]
        }
      ],
      "source": [
        "tensor = torch.arange(4)\n",
        "np_arr = tensor.numpy()\n",
        "\n",
        "print(\"PyTorch tensor:\", tensor)\n",
        "print(\"Numpy array:\", np_arr)"
      ]
    },
    {
      "cell_type": "markdown",
      "metadata": {
        "id": "-1b1DjEgxpSb"
      },
      "source": [
        "The conversion of tensors to numpy require the tensor to be on the CPU, and not the GPU (more on GPU support in a later section). In case you have a tensor on GPU, you need to call `.cpu()` on the tensor beforehand. Hence, you get a line like `np_arr = tensor.cpu().numpy()`."
      ]
    },
    {
      "cell_type": "markdown",
      "metadata": {
        "id": "mWvKQZTfxpSb"
      },
      "source": [
        "#### Operations\n",
        "\n",
        "Most operations that exist in numpy, also exist in PyTorch. A full list of operations can be found in the [PyTorch documentation](https://pytorch.org/docs/stable/tensors.html#), but we will review the most important ones here.\n",
        "\n",
        "The simplest operation is to add two tensors:"
      ]
    },
    {
      "cell_type": "code",
      "execution_count": 12,
      "metadata": {
        "id": "YQpjDsmaxpSb",
        "outputId": "f268e3f8-8fac-4c7f-8571-e357ece5ec66",
        "pycharm": {
          "is_executing": true
        },
        "colab": {
          "base_uri": "https://localhost:8080/"
        }
      },
      "outputs": [
        {
          "output_type": "stream",
          "name": "stdout",
          "text": [
            "X1 tensor([[0.1053, 0.2695, 0.3588],\n",
            "        [0.1994, 0.5472, 0.0062]])\n",
            "X2 tensor([[0.9516, 0.0753, 0.8860],\n",
            "        [0.5832, 0.3376, 0.8090]])\n",
            "Y tensor([[1.0569, 0.3448, 1.2448],\n",
            "        [0.7826, 0.8848, 0.8151]])\n"
          ]
        }
      ],
      "source": [
        "x1 = torch.rand(2, 3)\n",
        "x2 = torch.rand(2, 3)\n",
        "y = x1 + x2\n",
        "\n",
        "print(\"X1\", x1)\n",
        "print(\"X2\", x2)\n",
        "print(\"Y\", y)"
      ]
    },
    {
      "cell_type": "markdown",
      "metadata": {
        "id": "76eMuesaxpSb"
      },
      "source": [
        "Calling `x1 + x2` creates a new tensor containing the sum of the two inputs. However, we can also use in-place operations that are applied directly on the memory of a tensor. We therefore change the values of `x2` without the chance to re-accessing the values of `x2` before the operation. An example is shown below:"
      ]
    },
    {
      "cell_type": "code",
      "execution_count": 13,
      "metadata": {
        "id": "clbs5soyxpSb",
        "outputId": "457983d8-91b8-4f7e-b67e-f8579634d0bf",
        "pycharm": {
          "is_executing": true
        },
        "colab": {
          "base_uri": "https://localhost:8080/"
        }
      },
      "outputs": [
        {
          "output_type": "stream",
          "name": "stdout",
          "text": [
            "X1 (before) tensor([[0.5779, 0.9040, 0.5547],\n",
            "        [0.3423, 0.6343, 0.3644]])\n",
            "X2 (before) tensor([[0.7104, 0.9464, 0.7890],\n",
            "        [0.2814, 0.7886, 0.5895]])\n",
            "X1 (after) tensor([[0.5779, 0.9040, 0.5547],\n",
            "        [0.3423, 0.6343, 0.3644]])\n",
            "X2 (after) tensor([[1.2884, 1.8504, 1.3437],\n",
            "        [0.6237, 1.4230, 0.9539]])\n"
          ]
        }
      ],
      "source": [
        "x1 = torch.rand(2, 3)\n",
        "x2 = torch.rand(2, 3)\n",
        "print(\"X1 (before)\", x1)\n",
        "print(\"X2 (before)\", x2)\n",
        "\n",
        "x2.add_(x1)\n",
        "print(\"X1 (after)\", x1)\n",
        "print(\"X2 (after)\", x2)"
      ]
    },
    {
      "cell_type": "markdown",
      "metadata": {
        "id": "Uw_TrksbxpSc"
      },
      "source": [
        "In-place operations are usually marked with a underscore postfix (e.g. \"add_\" instead of \"add\").\n",
        "\n",
        "Another common operation aims at changing the shape of a tensor. A tensor of size (2,3) can be re-organized to any other shape with the same number of elements (e.g. a tensor of size (6), or (3,2), ...). In PyTorch, this operation is called `view`:"
      ]
    },
    {
      "cell_type": "code",
      "execution_count": 14,
      "metadata": {
        "id": "Cb--VFZBxpSc",
        "outputId": "d9123305-251b-47eb-98c9-0731e5b2cfae",
        "pycharm": {
          "is_executing": true
        },
        "colab": {
          "base_uri": "https://localhost:8080/"
        }
      },
      "outputs": [
        {
          "output_type": "stream",
          "name": "stdout",
          "text": [
            "X tensor([0, 1, 2, 3, 4, 5])\n"
          ]
        }
      ],
      "source": [
        "x = torch.arange(6)\n",
        "print(\"X\", x)"
      ]
    },
    {
      "cell_type": "code",
      "execution_count": 15,
      "metadata": {
        "id": "kdKTmb4kxpSc",
        "outputId": "4b1625a7-d5ef-4336-d2de-ce963a856e3d",
        "pycharm": {
          "is_executing": true
        },
        "colab": {
          "base_uri": "https://localhost:8080/"
        }
      },
      "outputs": [
        {
          "output_type": "stream",
          "name": "stdout",
          "text": [
            "X tensor([[0, 1, 2],\n",
            "        [3, 4, 5]])\n"
          ]
        }
      ],
      "source": [
        "x = x.view(2, 3)\n",
        "print(\"X\", x)"
      ]
    },
    {
      "cell_type": "code",
      "execution_count": 16,
      "metadata": {
        "id": "Z6kOQBSLxpSc",
        "outputId": "5c735cff-d4c4-4fd9-d6af-1d11a78c64fb",
        "pycharm": {
          "is_executing": true
        },
        "colab": {
          "base_uri": "https://localhost:8080/"
        }
      },
      "outputs": [
        {
          "output_type": "stream",
          "name": "stdout",
          "text": [
            "X tensor([[0, 3],\n",
            "        [1, 4],\n",
            "        [2, 5]])\n"
          ]
        }
      ],
      "source": [
        "x = x.permute(1, 0) # Swapping dimension 0 and 1\n",
        "print(\"X\", x)"
      ]
    },
    {
      "cell_type": "markdown",
      "metadata": {
        "id": "OBvFwZndxpSc"
      },
      "source": [
        "Other commonly used operations include matrix multiplications, which are essential for neural networks. Quite often, we have an input vector $\\mathbf{x}$, which is transformed using a learned weight matrix $\\mathbf{W}$. There are multiple ways and functions to perform matrix multiplication, some of which we list below:\n",
        "\n",
        "* `torch.matmul`: Performs the matrix product over two tensors, where the specific behavior depends on the dimensions. If both inputs are matrices (2-dimensional tensors), it performs the standard matrix product. For higher dimensional inputs, the function supports broadcasting (for details see the [documentation](https://pytorch.org/docs/stable/generated/torch.matmul.html?highlight=matmul#torch.matmul)). Can also be written as `a @ b`, similar to numpy.\n",
        "* `torch.mm`: Performs the matrix product over two matrices, but doesn't support broadcasting (see [documentation](https://pytorch.org/docs/stable/generated/torch.mm.html?highlight=torch%20mm#torch.mm))\n",
        "* `torch.bmm`: Performs the matrix product with a support batch dimension. If the first tensor $T$ is of shape ($b\\times n\\times m$), and the second tensor $R$ ($b\\times m\\times p$), the output $O$ is of shape ($b\\times n\\times p$), and has been calculated by performing $b$ matrix multiplications of the submatrices of $T$ and $R$: $O_i = T_i @ R_i$\n",
        "* `torch.einsum`: Performs matrix multiplications and more (i.e. sums of products) using the Einstein summation convention. Explanation of the Einstein sum can be found in assignment 1.\n",
        "\n",
        "Usually, we use `torch.matmul` or `torch.bmm`. We can try a matrix multiplication with `torch.matmul` below."
      ]
    },
    {
      "cell_type": "code",
      "execution_count": 17,
      "metadata": {
        "id": "qhhUWio2xpSc",
        "outputId": "1a15c1f6-2959-41d3-a272-45bfe5498892",
        "pycharm": {
          "is_executing": true
        },
        "colab": {
          "base_uri": "https://localhost:8080/"
        }
      },
      "outputs": [
        {
          "output_type": "stream",
          "name": "stdout",
          "text": [
            "X tensor([[0, 1, 2],\n",
            "        [3, 4, 5]])\n"
          ]
        }
      ],
      "source": [
        "x = torch.arange(6)\n",
        "x = x.view(2, 3)\n",
        "print(\"X\", x)"
      ]
    },
    {
      "cell_type": "code",
      "execution_count": 18,
      "metadata": {
        "id": "eEoYtmiJxpSd",
        "outputId": "3a2de0e3-af5a-4521-fa4d-bb269bf8bee5",
        "pycharm": {
          "is_executing": true
        },
        "colab": {
          "base_uri": "https://localhost:8080/"
        }
      },
      "outputs": [
        {
          "output_type": "stream",
          "name": "stdout",
          "text": [
            "W tensor([[0, 1, 2],\n",
            "        [3, 4, 5],\n",
            "        [6, 7, 8]])\n"
          ]
        }
      ],
      "source": [
        "W = torch.arange(9).view(3, 3) # We can also stack multiple operations in a single line\n",
        "print(\"W\", W)"
      ]
    },
    {
      "cell_type": "code",
      "execution_count": 19,
      "metadata": {
        "id": "DkbcbFV6xpSd",
        "outputId": "4f1e2814-63f4-4d8a-bb35-6ed9c5db16c9",
        "pycharm": {
          "is_executing": true
        },
        "colab": {
          "base_uri": "https://localhost:8080/"
        }
      },
      "outputs": [
        {
          "output_type": "stream",
          "name": "stdout",
          "text": [
            "h tensor([[15, 18, 21],\n",
            "        [42, 54, 66]])\n"
          ]
        }
      ],
      "source": [
        "h = torch.matmul(x, W) # Verify the result by calculating it by hand too!\n",
        "print(\"h\", h)"
      ]
    },
    {
      "cell_type": "markdown",
      "metadata": {
        "id": "-DHZ2CTXxpSd"
      },
      "source": [
        "#### Indexing\n",
        "\n",
        "We often have the situation where we need to select a part of a tensor. Indexing works just like in numpy, so let's try it:"
      ]
    },
    {
      "cell_type": "code",
      "execution_count": 20,
      "metadata": {
        "id": "YDSxbzUvxpSd",
        "outputId": "3179223c-f161-45ac-eefb-011b3ae74cc8",
        "pycharm": {
          "is_executing": true
        },
        "colab": {
          "base_uri": "https://localhost:8080/"
        }
      },
      "outputs": [
        {
          "output_type": "stream",
          "name": "stdout",
          "text": [
            "X tensor([[ 0,  1,  2,  3],\n",
            "        [ 4,  5,  6,  7],\n",
            "        [ 8,  9, 10, 11]])\n"
          ]
        }
      ],
      "source": [
        "x = torch.arange(12).view(3, 4)\n",
        "print(\"X\", x)"
      ]
    },
    {
      "cell_type": "code",
      "execution_count": 21,
      "metadata": {
        "id": "Zp6kBvZLxpSd",
        "outputId": "4f0f8cb7-305b-4a52-e936-93625f0bc2c6",
        "pycharm": {
          "is_executing": true
        },
        "colab": {
          "base_uri": "https://localhost:8080/"
        }
      },
      "outputs": [
        {
          "output_type": "stream",
          "name": "stdout",
          "text": [
            "tensor([1, 5, 9])\n"
          ]
        }
      ],
      "source": [
        "print(x[:, 1])   # Second column"
      ]
    },
    {
      "cell_type": "code",
      "execution_count": 22,
      "metadata": {
        "id": "sJitnmoDxpSd",
        "outputId": "bae643c1-569c-49c5-f510-1aaa6842d657",
        "pycharm": {
          "is_executing": true
        },
        "colab": {
          "base_uri": "https://localhost:8080/"
        }
      },
      "outputs": [
        {
          "output_type": "stream",
          "name": "stdout",
          "text": [
            "tensor([0, 1, 2, 3])\n"
          ]
        }
      ],
      "source": [
        "print(x[0])      # First row"
      ]
    },
    {
      "cell_type": "code",
      "execution_count": 23,
      "metadata": {
        "id": "w1z-xoboxpSd",
        "outputId": "7ee06786-f334-46cd-a3f0-25f10f962283",
        "pycharm": {
          "is_executing": true
        },
        "colab": {
          "base_uri": "https://localhost:8080/"
        }
      },
      "outputs": [
        {
          "output_type": "stream",
          "name": "stdout",
          "text": [
            "tensor([3, 7])\n"
          ]
        }
      ],
      "source": [
        "print(x[:2, -1]) # First two rows, last column"
      ]
    },
    {
      "cell_type": "code",
      "execution_count": 24,
      "metadata": {
        "id": "Q3jCDST_xpSe",
        "outputId": "4a9be588-4a2c-4a00-8857-ec35230e7d0d",
        "pycharm": {
          "is_executing": true
        },
        "colab": {
          "base_uri": "https://localhost:8080/"
        }
      },
      "outputs": [
        {
          "output_type": "stream",
          "name": "stdout",
          "text": [
            "tensor([[ 4,  5,  6,  7],\n",
            "        [ 8,  9, 10, 11]])\n"
          ]
        }
      ],
      "source": [
        "print(x[1:3, :]) # Middle two rows"
      ]
    },
    {
      "cell_type": "markdown",
      "metadata": {
        "id": "VNyar28pxpSe"
      },
      "source": [
        "### Dynamic Computation Graph and Backpropagation\n",
        "\n",
        "One of the main reasons for using PyTorch in Deep Learning projects is that we can automatically get **gradients/derivatives** of functions that we define. We will mainly use PyTorch for implementing neural networks, and they are just fancy functions. If we use weight matrices in our function that we want to learn, then those are called the **parameters** or simply the **weights**.\n",
        "\n",
        "If our neural network would output a single scalar value, we would talk about taking the **derivative**, but you will see that quite often we will have **multiple** output variables (\"values\"); in that case we talk about **gradients**. It's a more general term.\n",
        "\n",
        "Given an input $\\mathbf{x}$, we define our function by **manipulating** that input, usually by matrix-multiplications with weight matrices and additions with so-called bias vectors. As we manipulate our input, we are automatically creating a **computational graph**. This graph shows how to arrive at our output from our input.\n",
        "PyTorch is a **define-by-run** framework; this means that we can just do our manipulations, and PyTorch will keep track of that graph for us. Thus, we create a dynamic computation graph along the way.\n",
        "\n",
        "So, to recap: the only thing we have to do is to compute the **output**, and then we can ask PyTorch to automatically get the **gradients**.\n",
        "\n",
        "> **Note:  Why do we want gradients?** Consider that we have defined a function, a neural net, that is supposed to compute a certain output $y$ for an input vector $\\mathbf{x}$. We then define an **error measure** that tells us how wrong our network is; how bad it is in predicting output $y$ from input $\\mathbf{x}$. Based on this error measure, we can use the gradients to **update** the weights $\\mathbf{W}$ that were responsible for the output, so that the next time we present input $\\mathbf{x}$ to our network, the output will be closer to what we want.\n",
        "\n",
        "The first thing we have to do is to specify which tensors require gradients. By default, when we create a tensor, it does not require gradients."
      ]
    },
    {
      "cell_type": "code",
      "execution_count": 25,
      "metadata": {
        "id": "inLRZzkHxpSe",
        "outputId": "8df727f2-da24-49c1-fcbe-d69a5e9af86c",
        "pycharm": {
          "is_executing": true
        },
        "colab": {
          "base_uri": "https://localhost:8080/"
        }
      },
      "outputs": [
        {
          "output_type": "stream",
          "name": "stdout",
          "text": [
            "False\n"
          ]
        }
      ],
      "source": [
        "x = torch.ones((3,))\n",
        "print(x.requires_grad)"
      ]
    },
    {
      "cell_type": "markdown",
      "metadata": {
        "id": "ruvVv6MvxpSe"
      },
      "source": [
        "We can change this for an existing tensor using the function `requires_grad_()` (underscore indicating that this is a in-place operation). Alternatively, when creating a tensor, you can pass the argument `requires_grad=True` to most initializers we have seen above."
      ]
    },
    {
      "cell_type": "code",
      "execution_count": 26,
      "metadata": {
        "id": "qjxpdWXXxpSe",
        "outputId": "d25bd6d2-edc7-466f-d56d-4a8852fa7152",
        "pycharm": {
          "is_executing": true
        },
        "colab": {
          "base_uri": "https://localhost:8080/"
        }
      },
      "outputs": [
        {
          "output_type": "stream",
          "name": "stdout",
          "text": [
            "True\n"
          ]
        }
      ],
      "source": [
        "x.requires_grad_(True)\n",
        "print(x.requires_grad)"
      ]
    },
    {
      "cell_type": "markdown",
      "metadata": {
        "id": "is-zGszoxpSe"
      },
      "source": [
        "In order to get familiar with the concept of a computation graph, we will create one for the following function:\n",
        "\n",
        "$$y = \\frac{1}{|x|}\\sum_i \\left[(x_i + 2)^2 + 3\\right]$$\n",
        "\n",
        "You could imagine that $x$ are our parameters, and we want to optimize (either maximize or minimize) the output $y$. For this, we want to obtain the gradients $\\partial y / \\partial \\mathbf{x}$. For our example, we'll use $\\mathbf{x}=[0,1,2]$ as our input."
      ]
    },
    {
      "cell_type": "code",
      "execution_count": 27,
      "metadata": {
        "id": "GtZx8DCGxpSe",
        "outputId": "c46f6c21-5c5d-4c3a-a6d5-a8d781210f82",
        "pycharm": {
          "is_executing": true
        },
        "colab": {
          "base_uri": "https://localhost:8080/"
        }
      },
      "outputs": [
        {
          "output_type": "stream",
          "name": "stdout",
          "text": [
            "X tensor([0., 1., 2.], requires_grad=True)\n"
          ]
        }
      ],
      "source": [
        "x = torch.arange(3, dtype=torch.float32, requires_grad=True) # Only float tensors can have gradients\n",
        "print(\"X\", x)"
      ]
    },
    {
      "cell_type": "markdown",
      "metadata": {
        "id": "fRC_n_pNxpSe"
      },
      "source": [
        "Now let's build the computation graph step by step. You can combine multiple operations in a single line, but we will separate them here to get a better understanding of how each operation is added to the computation graph."
      ]
    },
    {
      "cell_type": "code",
      "execution_count": 28,
      "metadata": {
        "id": "mCmzxOrrxpSe",
        "outputId": "02fa2d35-608f-4a65-dece-e79996f33d20",
        "pycharm": {
          "is_executing": true
        },
        "colab": {
          "base_uri": "https://localhost:8080/"
        }
      },
      "outputs": [
        {
          "output_type": "stream",
          "name": "stdout",
          "text": [
            "Y tensor(12.6667, grad_fn=<MeanBackward0>)\n"
          ]
        }
      ],
      "source": [
        "a = x + 2\n",
        "b = a ** 2\n",
        "c = b + 3\n",
        "y = c.mean()\n",
        "print(\"Y\", y)"
      ]
    },
    {
      "cell_type": "markdown",
      "metadata": {
        "id": "T2cDAk-UxpSe"
      },
      "source": [
        "Using the statements above, we have created a computation graph that looks similar to the figure below:\n",
        "\n",
        "<center style=\"width: 100%\"><img src=\"https://github.com/phlippe/uvadlc_notebooks/blob/master/docs/tutorial_notebooks/tutorial2/pytorch_computation_graph.svg?raw=1\" width=\"200px\"></center>\n",
        "\n",
        "We calculate $a$ based on the inputs $x$ and the constant $2$, $b$ is $a$ squared, and so on. The visualization is an abstraction of the dependencies between inputs and outputs of the operations we have applied.\n",
        "Each node of the computation graph has automatically defined a function for calculating the gradients with respect to its inputs, `grad_fn`. You can see this when we printed the output tensor $y$. This is why the computation graph is usually visualized in the reverse direction (arrows point from the result to the inputs). We can perform backpropagation on the computation graph by calling the function `backward()` on the last output, which effectively calculates the gradients for each tensor that has the property `requires_grad=True`:"
      ]
    },
    {
      "cell_type": "code",
      "execution_count": 29,
      "metadata": {
        "id": "4HTPAotkxpSf",
        "pycharm": {
          "is_executing": true
        }
      },
      "outputs": [],
      "source": [
        "y.backward()"
      ]
    },
    {
      "cell_type": "markdown",
      "metadata": {
        "id": "Ivdaa8PzxpSf"
      },
      "source": [
        "`x.grad` will now contain the gradient $\\partial y/ \\partial \\mathcal{x}$, and this gradient indicates how a change in $\\mathbf{x}$ will affect output $y$ given the current input $\\mathbf{x}=[0,1,2]$:"
      ]
    },
    {
      "cell_type": "code",
      "execution_count": 30,
      "metadata": {
        "id": "pJ3jTTRlxpSf",
        "outputId": "316db49e-de8e-461e-dbf3-ed94c94736c1",
        "pycharm": {
          "is_executing": true
        },
        "colab": {
          "base_uri": "https://localhost:8080/"
        }
      },
      "outputs": [
        {
          "output_type": "stream",
          "name": "stdout",
          "text": [
            "tensor([1.3333, 2.0000, 2.6667])\n"
          ]
        }
      ],
      "source": [
        "print(x.grad)"
      ]
    },
    {
      "cell_type": "markdown",
      "metadata": {
        "id": "HN5ljCzMxpSf"
      },
      "source": [
        "We can also verify these gradients by hand. We will calculate the gradients using the chain rule, in the same way as PyTorch did it:\n",
        "\n",
        "$$\\frac{\\partial y}{\\partial x_i} = \\frac{\\partial y}{\\partial c_i}\\frac{\\partial c_i}{\\partial b_i}\\frac{\\partial b_i}{\\partial a_i}\\frac{\\partial a_i}{\\partial x_i}$$\n",
        "\n",
        "Note that we have simplified this equation to index notation, and by using the fact that all operation besides the mean do not combine the elements in the tensor. The partial derivatives are:\n",
        "\n",
        "$$\n",
        "\\frac{\\partial a_i}{\\partial x_i} = 1,\\hspace{1cm}\n",
        "\\frac{\\partial b_i}{\\partial a_i} = 2\\cdot a_i\\hspace{1cm}\n",
        "\\frac{\\partial c_i}{\\partial b_i} = 1\\hspace{1cm}\n",
        "\\frac{\\partial y}{\\partial c_i} = \\frac{1}{3}\n",
        "$$\n",
        "\n",
        "Hence, with the input being $\\mathbf{x}=[0,1,2]$, our gradients are $\\partial y/\\partial \\mathbf{x}=[4/3,2,8/3]$. The previous code cell should have printed the same result."
      ]
    },
    {
      "cell_type": "markdown",
      "metadata": {
        "id": "s7wMiUqVxpSf"
      },
      "source": [
        "### GPU support\n",
        "\n",
        "A crucial feature of PyTorch is the support of GPUs, short for Graphics Processing Unit. A GPU can perform many thousands of small operations in parallel, making it very well suitable for performing large matrix operations in neural networks. When comparing GPUs to CPUs, we can list the following main differences (credit: [Kevin Krewell, 2009](https://blogs.nvidia.com/blog/2009/12/16/whats-the-difference-between-a-cpu-and-a-gpu/))\n",
        "\n",
        "<center style=\"width: 100%\"><img src=\"https://github.com/phlippe/uvadlc_notebooks/blob/master/docs/tutorial_notebooks/tutorial2/comparison_CPU_GPU.png?raw=1\" width=\"700px\"></center>\n",
        "\n",
        "CPUs and GPUs have both different advantages and disadvantages, which is why many computers contain both components and use them for different tasks. In case you are not familiar with GPUs, you can read up more details in this [NVIDIA blog post](https://blogs.nvidia.com/blog/2009/12/16/whats-the-difference-between-a-cpu-and-a-gpu/) or [here](https://www.intel.com/content/www/us/en/products/docs/processors/what-is-a-gpu.html).\n",
        "\n",
        "GPUs can accelerate the training of your network up to a factor of $100$ which is essential for large neural networks. PyTorch implements a lot of functionality for supporting GPUs (mostly those of NVIDIA due to the libraries [CUDA](https://developer.nvidia.com/cuda-zone) and [cuDNN](https://developer.nvidia.com/cudnn)). First, let's check whether you have a GPU available:"
      ]
    },
    {
      "cell_type": "code",
      "execution_count": 31,
      "metadata": {
        "id": "SLvtgRbzxpSf",
        "outputId": "0db0d242-d02b-433c-baf8-7f2dc25480c4",
        "pycharm": {
          "is_executing": true
        },
        "colab": {
          "base_uri": "https://localhost:8080/"
        }
      },
      "outputs": [
        {
          "output_type": "stream",
          "name": "stdout",
          "text": [
            "Is the GPU available? True\n"
          ]
        }
      ],
      "source": [
        "gpu_avail = torch.cuda.is_available()\n",
        "print(f\"Is the GPU available? {gpu_avail}\")"
      ]
    },
    {
      "cell_type": "markdown",
      "metadata": {
        "id": "-O0rJu-0xpSf"
      },
      "source": [
        "If you have a GPU on your computer but the command above returns False, make sure you have the correct CUDA-version installed. The `dl2021` environment comes with the CUDA-toolkit 11.3, which is selected for the Lisa supercomputer. Please change it if necessary (CUDA 11.1 is currently common on Colab). On Google Colab, make sure that you have selected a GPU in your runtime setup (in the menu, check under `Runtime -> Change runtime type`).\n",
        "\n",
        "By default, all tensors you create are stored on the CPU. We can push a tensor to the GPU by using the function `.to(...)`, or `.cuda()`. However, it is often a good practice to define a `device` object in your code which points to the GPU if you have one, and otherwise to the CPU. Then, you can write your code with respect to this device object, and it allows you to run the same code on both a CPU-only system, and one with a GPU. Let's try it below. We can specify the device as follows:"
      ]
    },
    {
      "cell_type": "code",
      "execution_count": 32,
      "metadata": {
        "colab": {
          "base_uri": "https://localhost:8080/"
        },
        "id": "8rGuEsR7xpSf",
        "outputId": "4288dc31-d07b-47c0-d69b-e5a8a5704f6b",
        "pycharm": {
          "is_executing": true
        }
      },
      "outputs": [
        {
          "output_type": "stream",
          "name": "stdout",
          "text": [
            "Device cuda\n"
          ]
        }
      ],
      "source": [
        "device = torch.device(\"cuda\") if torch.cuda.is_available() else torch.device(\"cpu\")\n",
        "print(\"Device\", device)"
      ]
    },
    {
      "cell_type": "markdown",
      "metadata": {
        "id": "e0sm_NKHxpSf"
      },
      "source": [
        "Now let's create a tensor and push it to the device:"
      ]
    },
    {
      "cell_type": "code",
      "execution_count": 33,
      "metadata": {
        "colab": {
          "base_uri": "https://localhost:8080/"
        },
        "id": "U6XM2LqMxpSf",
        "outputId": "1b3ffa53-706e-4f34-d8d9-b56dadc32380",
        "pycharm": {
          "is_executing": true
        }
      },
      "outputs": [
        {
          "output_type": "stream",
          "name": "stdout",
          "text": [
            "X tensor([[0., 0., 0.],\n",
            "        [0., 0., 0.]], device='cuda:0')\n"
          ]
        }
      ],
      "source": [
        "x = torch.zeros(2, 3)\n",
        "x = x.to(device)\n",
        "print(\"X\", x)"
      ]
    },
    {
      "cell_type": "markdown",
      "metadata": {
        "id": "hLbX1FsfxpSf"
      },
      "source": [
        "In case you have a GPU, you should now see the attribute `device='cuda:0'` being printed next to your tensor. The zero next to cuda indicates that this is the zero-th GPU device on your computer. PyTorch also supports multi-GPU systems, but this you will only need once you have very big networks to train (if interested, see the [PyTorch documentation](https://pytorch.org/docs/stable/distributed.html#distributed-basics)). We can also compare the runtime of a large matrix multiplication on the CPU with a operation on the GPU:"
      ]
    },
    {
      "cell_type": "code",
      "execution_count": 34,
      "metadata": {
        "id": "mO8EvQFbxpSf",
        "pycharm": {
          "is_executing": true
        },
        "colab": {
          "base_uri": "https://localhost:8080/"
        },
        "outputId": "f6983953-34cc-409b-e63a-c20fd94cc11a"
      },
      "outputs": [
        {
          "output_type": "stream",
          "name": "stdout",
          "text": [
            "CPU time: 3.92806s\n",
            "GPU time: 0.22579s\n",
            "Speedup: >17x\n"
          ]
        }
      ],
      "source": [
        "x = torch.randn(5000, 5000)\n",
        "\n",
        "## CPU version\n",
        "start_time = time.time()\n",
        "_ = torch.matmul(x, x)\n",
        "end_time = time.time()\n",
        "cpu_elapsed_time = end_time - start_time\n",
        "print(f\"CPU time: {(cpu_elapsed_time):6.5f}s\")\n",
        "\n",
        "## GPU version\n",
        "x = x.to(device)\n",
        "# CUDA is asynchronous, so we need to use different timing functions\n",
        "start = torch.cuda.Event(enable_timing=True)\n",
        "end = torch.cuda.Event(enable_timing=True)\n",
        "start.record()\n",
        "_ = torch.matmul(x, x)\n",
        "end.record()\n",
        "torch.cuda.synchronize()  # Waits for everything to finish running on the GPU\n",
        "gpu_elapsed_time = 0.001 * start.elapsed_time(end) # Milliseconds to seconds\n",
        "print(f\"GPU time: {gpu_elapsed_time:6.5f}s\")\n",
        "print(f\"Speedup: >{int(cpu_elapsed_time/gpu_elapsed_time)}x\")"
      ]
    },
    {
      "cell_type": "markdown",
      "metadata": {
        "id": "TjqOmD_axpSf"
      },
      "source": [
        "Depending on the size of the operation and the CPU/GPU in your system, the speedup of this operation can be >50x. As `matmul` operations are very common in neural networks, we can already see the great benefit of training a NN on a GPU. The time estimate can be relatively noisy here because we haven't run it for multiple times. Feel free to extend this, but it also takes longer to run.\n",
        "\n",
        "When generating random numbers, the seed between CPU and GPU is not synchronized. Hence, we need to set the seed on the GPU separately to ensure a reproducible code. Note that due to different GPU architectures, running the same code on different GPUs does not guarantee the same random numbers. Still, we don't want that our code gives us a different output every time we run it on the exact same hardware. Hence, we also set the seed on the GPU:"
      ]
    },
    {
      "cell_type": "code",
      "execution_count": 35,
      "metadata": {
        "id": "T0HrQKsxxpSg",
        "pycharm": {
          "is_executing": true
        }
      },
      "outputs": [],
      "source": [
        "# VERY IMPORTANT!\n",
        "# GPU operations have a separate seed we also want to set\n",
        "if torch.cuda.is_available():\n",
        "    torch.cuda.manual_seed(42)\n",
        "    torch.cuda.manual_seed_all(42)\n",
        "\n",
        "# Additionally, some operations on a GPU are implemented stochastic for efficiency\n",
        "# We want to ensure that all operations are deterministic on GPU (if used) for reproducibility\n",
        "torch.backends.cudnn.determinstic = True\n",
        "torch.backends.cudnn.benchmark = False"
      ]
    },
    {
      "cell_type": "markdown",
      "metadata": {
        "id": "pJ73Hgx-xpSg"
      },
      "source": [
        "## Learning by example: Continuous XOR\n",
        "\n",
        "If we want to build a neural network in PyTorch, we could specify all our parameters (weight matrices, bias vectors) using `Tensors` (with `requires_grad=True`), ask PyTorch to calculate the gradients and then adjust the parameters. But things can quickly get cumbersome if we have a lot of parameters. In PyTorch, there is a package called `torch.nn` that makes building neural networks more convenient.\n",
        "\n",
        "We will introduce the libraries and all additional parts you might need to train a neural network in PyTorch, using a simple example classifier on a simple yet well known example: XOR. Given two binary inputs $x_1$ and $x_2$, the label to predict is $1$ if either $x_1$ or $x_2$ is $1$ while the other is $0$, or the label is $0$ in all other cases. The example became famous by the fact that a single neuron, i.e. a linear classifier, cannot learn this simple function.\n",
        "Hence, we will learn how to build a small neural network that can learn this function.\n",
        "To make it a little bit more interesting, we move the XOR into continuous space and introduce some gaussian noise on the binary inputs. Our desired separation of an XOR dataset could look as follows:\n",
        "\n",
        "<center style=\"width: 100%\"><img src=\"https://github.com/phlippe/uvadlc_notebooks/blob/master/docs/tutorial_notebooks/tutorial2/continuous_xor.svg?raw=1\" width=\"350px\"></center>"
      ]
    },
    {
      "cell_type": "markdown",
      "metadata": {
        "id": "oU7rfTWoxpSg"
      },
      "source": [
        "### The model\n",
        "\n",
        "The package `torch.nn` defines a series of useful classes like linear networks layers, activation functions, loss functions etc. A full list can be found [here](https://pytorch.org/docs/stable/nn.html). In case you need a certain network layer, check the documentation of the package first before writing the layer yourself as the package likely contains the code for it already. We import it below:"
      ]
    },
    {
      "cell_type": "code",
      "execution_count": 36,
      "metadata": {
        "id": "4o314IQyxpSg",
        "pycharm": {
          "is_executing": true
        }
      },
      "outputs": [],
      "source": [
        "import torch.nn as nn"
      ]
    },
    {
      "cell_type": "markdown",
      "metadata": {
        "id": "lDFxSMhGxpSg"
      },
      "source": [
        "Additionally to `torch.nn`, there is also `torch.nn.functional`. It contains functions that are used in network layers. This is in contrast to `torch.nn` which defines them as `nn.Modules` (more on it below), and `torch.nn` actually uses a lot of functionalities from `torch.nn.functional`. Hence, the functional package is useful in many situations, and so we import it as well here."
      ]
    },
    {
      "cell_type": "code",
      "execution_count": 37,
      "metadata": {
        "id": "nOf1FUYWxpSg",
        "pycharm": {
          "is_executing": true
        }
      },
      "outputs": [],
      "source": [
        "import torch.nn.functional as F"
      ]
    },
    {
      "cell_type": "markdown",
      "metadata": {
        "id": "cDARHc6TxpSg"
      },
      "source": [
        "#### nn.Module\n",
        "\n",
        "In PyTorch, a neural network is built up out of modules. Modules can contain other modules, and a neural network is considered to be a module itself as well. The basic template of a module is as follows:"
      ]
    },
    {
      "cell_type": "code",
      "execution_count": 38,
      "metadata": {
        "id": "XJ4vpp4kxpSg",
        "pycharm": {
          "is_executing": true
        }
      },
      "outputs": [],
      "source": [
        "class MyModule(nn.Module):\n",
        "\n",
        "    def __init__(self):\n",
        "        super().__init__()\n",
        "        # Some init for my module\n",
        "\n",
        "    def forward(self, x):\n",
        "        # Function for performing the calculation of the module.\n",
        "        pass"
      ]
    },
    {
      "cell_type": "markdown",
      "metadata": {
        "id": "yGmdt6PpxpSg"
      },
      "source": [
        "The forward function is where the computation of the module is taken place, and is executed when you call the module (`nn = MyModule(); nn(x)`). In the init function, we usually create the parameters of the module, using `nn.Parameter`, or defining other modules that are used in the forward function. The backward calculation is done automatically, but could be overwritten as well if wanted.\n",
        "\n",
        "#### Simple classifier\n",
        "We can now make use of the pre-defined modules in the `torch.nn` package, and define our own small neural network. We will use a minimal network with a input layer, one hidden layer with tanh as activation function, and a output layer. In other words, our networks should look something like this:\n",
        "\n",
        "<center width=\"100%\"><img src=\"https://github.com/phlippe/uvadlc_notebooks/blob/master/docs/tutorial_notebooks/tutorial2/small_neural_network.svg?raw=1\" width=\"300px\"></center>\n",
        "\n",
        "The input neurons are shown in blue, which represent the coordinates $x_1$ and $x_2$ of a data point. The hidden neurons including a tanh activation are shown in white, and the output neuron in red.\n",
        "In PyTorch, we can define this as follows:"
      ]
    },
    {
      "cell_type": "code",
      "execution_count": 39,
      "metadata": {
        "id": "iXkm0Xl8xpSg",
        "pycharm": {
          "is_executing": true
        }
      },
      "outputs": [],
      "source": [
        "class SimpleClassifier(nn.Module):\n",
        "\n",
        "    def __init__(self, num_inputs, num_hidden, num_outputs):\n",
        "        super().__init__()\n",
        "        # Initialize the modules we need to build the network\n",
        "        self.linear1 = nn.Linear(num_inputs, num_hidden)\n",
        "        self.act_fn = nn.Tanh()\n",
        "        self.linear2 = nn.Linear(num_hidden, num_outputs)\n",
        "\n",
        "    def forward(self, x):\n",
        "        # Perform the calculation of the model to determine the prediction\n",
        "        x = self.linear1(x)\n",
        "        x = self.act_fn(x)\n",
        "        x = self.linear2(x)\n",
        "        return x # Very Important: logits outputs!"
      ]
    },
    {
      "cell_type": "markdown",
      "metadata": {
        "id": "D-ZZRcEMxpSg"
      },
      "source": [
        "For the examples in this notebook, we will use a tiny neural network with two input neurons and four hidden neurons. As we perform binary classification, we will use a single output neuron. **Note that we do not apply a sigmoid on the output yet!** This is because other functions, especially the loss, are more efficient and precise to calculate on the original outputs instead of the sigmoid output. We will discuss the detailed reason later."
      ]
    },
    {
      "cell_type": "code",
      "execution_count": 40,
      "metadata": {
        "id": "E60TbuiYxpSg",
        "outputId": "40a2b823-0b36-4634-ffc4-7f86d6593aab",
        "pycharm": {
          "is_executing": true
        },
        "colab": {
          "base_uri": "https://localhost:8080/"
        }
      },
      "outputs": [
        {
          "output_type": "stream",
          "name": "stdout",
          "text": [
            "SimpleClassifier(\n",
            "  (linear1): Linear(in_features=2, out_features=4, bias=True)\n",
            "  (act_fn): Tanh()\n",
            "  (linear2): Linear(in_features=4, out_features=1, bias=True)\n",
            ")\n"
          ]
        }
      ],
      "source": [
        "model = SimpleClassifier(num_inputs=2, num_hidden=4, num_outputs=1)\n",
        "# Printing a module shows all its submodules\n",
        "print(model)"
      ]
    },
    {
      "cell_type": "markdown",
      "metadata": {
        "id": "ifA1HapaxpSh"
      },
      "source": [
        "Printing the model lists all submodules it contains. The parameters of a module can be obtained by using its `parameters()` functions, or `named_parameters()` to get a name to each parameter object. For our small neural network, we have the following parameters:"
      ]
    },
    {
      "cell_type": "code",
      "execution_count": 41,
      "metadata": {
        "id": "sKejfdBIxpSh",
        "outputId": "376f9eee-89dd-44e4-b70c-9e247a92df99",
        "pycharm": {
          "is_executing": true
        },
        "colab": {
          "base_uri": "https://localhost:8080/"
        }
      },
      "outputs": [
        {
          "output_type": "stream",
          "name": "stdout",
          "text": [
            "Parameter linear1.weight, shape torch.Size([4, 2])\n",
            "Parameter linear1.bias, shape torch.Size([4])\n",
            "Parameter linear2.weight, shape torch.Size([1, 4])\n",
            "Parameter linear2.bias, shape torch.Size([1])\n"
          ]
        }
      ],
      "source": [
        "for name, param in model.named_parameters():\n",
        "    print(f\"Parameter {name}, shape {param.shape}\")"
      ]
    },
    {
      "cell_type": "markdown",
      "metadata": {
        "id": "SQvusZEkxpSh"
      },
      "source": [
        "Each linear layer has a weight matrix of the shape `[output, input]`, and a bias of the shape `[output]`. The tanh activation function does not have any parameters. Note that parameters are only registered for `nn.Module` objects that are direct object attributes, i.e. `self.a = ...`. If you define a list of modules, the parameters of those are not registered for the outer module and can cause some issues when you try to optimize your module. There are alternatives, like `nn.ModuleList`, `nn.ModuleDict` and `nn.Sequential`, that allow you to have different data structures of modules. We will use them in a few later tutorials and explain them there."
      ]
    },
    {
      "cell_type": "markdown",
      "metadata": {
        "id": "KmTiOJ8axpSh"
      },
      "source": [
        "### The data\n",
        "\n",
        "PyTorch also provides a few functionalities to load the training and test data efficiently, summarized in the package `torch.utils.data`."
      ]
    },
    {
      "cell_type": "code",
      "execution_count": 42,
      "metadata": {
        "id": "zRPsgJeHxpSh",
        "pycharm": {
          "is_executing": true
        }
      },
      "outputs": [],
      "source": [
        "import torch.utils.data as data"
      ]
    },
    {
      "cell_type": "markdown",
      "metadata": {
        "id": "Q6Jx1WaXxpSh"
      },
      "source": [
        "The data package defines two classes which are the standard interface for handling data in PyTorch: `data.Dataset`, and `data.DataLoader`. The dataset class provides an uniform interface to access the training/test data, while the data loader makes sure to efficiently load and stack the data points from the dataset into batches during training."
      ]
    },
    {
      "cell_type": "markdown",
      "metadata": {
        "id": "0Iv864xfxpSh"
      },
      "source": [
        "#### The dataset class\n",
        "\n",
        "The dataset class summarizes the basic functionality of a dataset in a natural way. To define a dataset in PyTorch, we simply specify two functions: `__getitem__`, and `__len__`. The get-item function has to return the $i$-th data point in the dataset, while the len function returns the size of the dataset. For the XOR dataset, we can define the dataset class as follows:"
      ]
    },
    {
      "cell_type": "code",
      "execution_count": 43,
      "metadata": {
        "id": "Va4DiQAAxpSh",
        "pycharm": {
          "is_executing": true
        }
      },
      "outputs": [],
      "source": [
        "class XORDataset(data.Dataset):\n",
        "\n",
        "    def __init__(self, size, std=0.1):\n",
        "        \"\"\"\n",
        "        Inputs:\n",
        "            size - Number of data points we want to generate\n",
        "            std - Standard deviation of the noise (see generate_continuous_xor function)\n",
        "        \"\"\"\n",
        "        super().__init__()\n",
        "        self.size = size\n",
        "        self.std = std\n",
        "        self.generate_continuous_xor()\n",
        "\n",
        "    def generate_continuous_xor(self):\n",
        "        # Each data point in the XOR dataset has two variables, x and y, that can be either 0 or 1\n",
        "        # The label is their XOR combination, i.e. 1 if only x or only y is 1 while the other is 0.\n",
        "        # If x=y, the label is 0.\n",
        "        data = torch.randint(low=0, high=2, size=(self.size, 2), dtype=torch.float32)\n",
        "        label = (data.sum(dim=1) == 1).to(torch.long)\n",
        "        # To make it slightly more challenging, we add a bit of gaussian noise to the data points.\n",
        "        data += self.std * torch.randn(data.shape)\n",
        "\n",
        "        self.data = data\n",
        "        self.label = label\n",
        "\n",
        "    def __len__(self):\n",
        "        # Number of data point we have. Alternatively self.data.shape[0], or self.label.shape[0]\n",
        "        return self.size\n",
        "\n",
        "    def __getitem__(self, idx):\n",
        "        # Return the idx-th data point of the dataset\n",
        "        # If we have multiple things to return (data point and label), we can return them as tuple\n",
        "        data_point = self.data[idx]\n",
        "        data_label = self.label[idx]\n",
        "        return data_point, data_label"
      ]
    },
    {
      "cell_type": "markdown",
      "metadata": {
        "id": "aKfBXzNAxpSh"
      },
      "source": [
        "Let's try to create such a dataset and inspect it:"
      ]
    },
    {
      "cell_type": "code",
      "execution_count": 44,
      "metadata": {
        "id": "pvFwgBMexpSh",
        "outputId": "f24d4129-066f-49ea-e831-5aec3fc7367c",
        "pycharm": {
          "is_executing": true
        },
        "colab": {
          "base_uri": "https://localhost:8080/"
        }
      },
      "outputs": [
        {
          "output_type": "stream",
          "name": "stdout",
          "text": [
            "Size of dataset: 200\n",
            "Data point 0: (tensor([0.9632, 0.1117]), tensor(1))\n"
          ]
        }
      ],
      "source": [
        "dataset = XORDataset(size=200)\n",
        "print(\"Size of dataset:\", len(dataset))\n",
        "print(\"Data point 0:\", dataset[0])"
      ]
    },
    {
      "cell_type": "markdown",
      "metadata": {
        "id": "89FokIQSxpSh"
      },
      "source": [
        "To better relate to the dataset, we visualize the samples below."
      ]
    },
    {
      "cell_type": "code",
      "execution_count": 45,
      "metadata": {
        "id": "pszlFMNFxpSh",
        "pycharm": {
          "is_executing": true
        }
      },
      "outputs": [],
      "source": [
        "def visualize_samples(data, label):\n",
        "    if isinstance(data, torch.Tensor):\n",
        "        data = data.cpu().numpy()\n",
        "    if isinstance(label, torch.Tensor):\n",
        "        label = label.cpu().numpy()\n",
        "    data_0 = data[label == 0]\n",
        "    data_1 = data[label == 1]\n",
        "\n",
        "    plt.figure(figsize=(4,4))\n",
        "    plt.scatter(data_0[:,0], data_0[:,1], edgecolor=\"#333\", label=\"Class 0\")\n",
        "    plt.scatter(data_1[:,0], data_1[:,1], edgecolor=\"#333\", label=\"Class 1\")\n",
        "    plt.title(\"Dataset samples\")\n",
        "    plt.ylabel(r\"$x_2$\")\n",
        "    plt.xlabel(r\"$x_1$\")\n",
        "    plt.legend()"
      ]
    },
    {
      "cell_type": "code",
      "execution_count": 46,
      "metadata": {
        "id": "ixVPkMQsxpSh",
        "outputId": "df475466-a035-40d0-e915-e7a37de0a0b6",
        "pycharm": {
          "is_executing": true
        },
        "colab": {
          "base_uri": "https://localhost:8080/",
          "height": 404
        }
      },
      "outputs": [
        {
          "output_type": "display_data",
          "data": {
            "text/plain": [
              "<Figure size 400x400 with 1 Axes>"
            ],
            "image/svg+xml": "<?xml version=\"1.0\" encoding=\"utf-8\" standalone=\"no\"?>\n<!DOCTYPE svg PUBLIC \"-//W3C//DTD SVG 1.1//EN\"\n  \"http://www.w3.org/Graphics/SVG/1.1/DTD/svg11.dtd\">\n<svg xmlns:xlink=\"http://www.w3.org/1999/xlink\" width=\"289.424844pt\" height=\"287.037813pt\" viewBox=\"0 0 289.424844 287.037813\" xmlns=\"http://www.w3.org/2000/svg\" version=\"1.1\">\n <metadata>\n  <rdf:RDF xmlns:dc=\"http://purl.org/dc/elements/1.1/\" xmlns:cc=\"http://creativecommons.org/ns#\" xmlns:rdf=\"http://www.w3.org/1999/02/22-rdf-syntax-ns#\">\n   <cc:Work>\n    <dc:type rdf:resource=\"http://purl.org/dc/dcmitype/StillImage\"/>\n    <dc:date>2025-07-09T14:13:53.381505</dc:date>\n    <dc:format>image/svg+xml</dc:format>\n    <dc:creator>\n     <cc:Agent>\n      <dc:title>Matplotlib v3.10.0, https://matplotlib.org/</dc:title>\n     </cc:Agent>\n    </dc:creator>\n   </cc:Work>\n  </rdf:RDF>\n </metadata>\n <defs>\n  <style type=\"text/css\">*{stroke-linejoin: round; stroke-linecap: butt}</style>\n </defs>\n <g id=\"figure_1\">\n  <g id=\"patch_1\">\n   <path d=\"M 0 287.037813 \nL 289.424844 287.037813 \nL 289.424844 0 \nL 0 0 \nz\n\" style=\"fill: #ffffff\"/>\n  </g>\n  <g id=\"axes_1\">\n   <g id=\"patch_2\">\n    <path d=\"M 59.024844 244.078125 \nL 282.224844 244.078125 \nL 282.224844 22.318125 \nL 59.024844 22.318125 \nz\n\" style=\"fill: #eaeaf2\"/>\n   </g>\n   <g id=\"matplotlib.axis_1\">\n    <g id=\"xtick_1\">\n     <g id=\"line2d_1\">\n      <path d=\"M 104.136211 244.078125 \nL 104.136211 22.318125 \n\" clip-path=\"url(#p8eaa9a9487)\" style=\"fill: none; stroke: #ffffff; stroke-linecap: round\"/>\n     </g>\n     <g id=\"text_1\">\n      <!-- 0.0 -->\n      <g style=\"fill: #262626\" transform=\"translate(95.389492 261.936406) scale(0.11 -0.11)\">\n       <defs>\n        <path id=\"DejaVuSans-30\" d=\"M 2034 4250 \nQ 1547 4250 1301 3770 \nQ 1056 3291 1056 2328 \nQ 1056 1369 1301 889 \nQ 1547 409 2034 409 \nQ 2525 409 2770 889 \nQ 3016 1369 3016 2328 \nQ 3016 3291 2770 3770 \nQ 2525 4250 2034 4250 \nz\nM 2034 4750 \nQ 2819 4750 3233 4129 \nQ 3647 3509 3647 2328 \nQ 3647 1150 3233 529 \nQ 2819 -91 2034 -91 \nQ 1250 -91 836 529 \nQ 422 1150 422 2328 \nQ 422 3509 836 4129 \nQ 1250 4750 2034 4750 \nz\n\" transform=\"scale(0.015625)\"/>\n        <path id=\"DejaVuSans-2e\" d=\"M 684 794 \nL 1344 794 \nL 1344 0 \nL 684 0 \nL 684 794 \nz\n\" transform=\"scale(0.015625)\"/>\n       </defs>\n       <use xlink:href=\"#DejaVuSans-30\"/>\n       <use xlink:href=\"#DejaVuSans-2e\" transform=\"translate(63.623047 0)\"/>\n       <use xlink:href=\"#DejaVuSans-30\" transform=\"translate(95.410156 0)\"/>\n      </g>\n     </g>\n    </g>\n    <g id=\"xtick_2\">\n     <g id=\"line2d_2\">\n      <path d=\"M 173.488267 244.078125 \nL 173.488267 22.318125 \n\" clip-path=\"url(#p8eaa9a9487)\" style=\"fill: none; stroke: #ffffff; stroke-linecap: round\"/>\n     </g>\n     <g id=\"text_2\">\n      <!-- 0.5 -->\n      <g style=\"fill: #262626\" transform=\"translate(164.741548 261.936406) scale(0.11 -0.11)\">\n       <defs>\n        <path id=\"DejaVuSans-35\" d=\"M 691 4666 \nL 3169 4666 \nL 3169 4134 \nL 1269 4134 \nL 1269 2991 \nQ 1406 3038 1543 3061 \nQ 1681 3084 1819 3084 \nQ 2600 3084 3056 2656 \nQ 3513 2228 3513 1497 \nQ 3513 744 3044 326 \nQ 2575 -91 1722 -91 \nQ 1428 -91 1123 -41 \nQ 819 9 494 109 \nL 494 744 \nQ 775 591 1075 516 \nQ 1375 441 1709 441 \nQ 2250 441 2565 725 \nQ 2881 1009 2881 1497 \nQ 2881 1984 2565 2268 \nQ 2250 2553 1709 2553 \nQ 1456 2553 1204 2497 \nQ 953 2441 691 2322 \nL 691 4666 \nz\n\" transform=\"scale(0.015625)\"/>\n       </defs>\n       <use xlink:href=\"#DejaVuSans-30\"/>\n       <use xlink:href=\"#DejaVuSans-2e\" transform=\"translate(63.623047 0)\"/>\n       <use xlink:href=\"#DejaVuSans-35\" transform=\"translate(95.410156 0)\"/>\n      </g>\n     </g>\n    </g>\n    <g id=\"xtick_3\">\n     <g id=\"line2d_3\">\n      <path d=\"M 242.840324 244.078125 \nL 242.840324 22.318125 \n\" clip-path=\"url(#p8eaa9a9487)\" style=\"fill: none; stroke: #ffffff; stroke-linecap: round\"/>\n     </g>\n     <g id=\"text_3\">\n      <!-- 1.0 -->\n      <g style=\"fill: #262626\" transform=\"translate(234.093605 261.936406) scale(0.11 -0.11)\">\n       <defs>\n        <path id=\"DejaVuSans-31\" d=\"M 794 531 \nL 1825 531 \nL 1825 4091 \nL 703 3866 \nL 703 4441 \nL 1819 4666 \nL 2450 4666 \nL 2450 531 \nL 3481 531 \nL 3481 0 \nL 794 0 \nL 794 531 \nz\n\" transform=\"scale(0.015625)\"/>\n       </defs>\n       <use xlink:href=\"#DejaVuSans-31\"/>\n       <use xlink:href=\"#DejaVuSans-2e\" transform=\"translate(63.623047 0)\"/>\n       <use xlink:href=\"#DejaVuSans-30\" transform=\"translate(95.410156 0)\"/>\n      </g>\n     </g>\n    </g>\n    <g id=\"text_4\">\n     <!-- $x_1$ -->\n     <g style=\"fill: #262626\" transform=\"translate(164.204844 277.342188) scale(0.12 -0.12)\">\n      <defs>\n       <path id=\"DejaVuSans-Oblique-78\" d=\"M 3841 3500 \nL 2234 1784 \nL 3219 0 \nL 2559 0 \nL 1819 1388 \nL 531 0 \nL -166 0 \nL 1556 1844 \nL 641 3500 \nL 1300 3500 \nL 1972 2234 \nL 3144 3500 \nL 3841 3500 \nz\n\" transform=\"scale(0.015625)\"/>\n      </defs>\n      <use xlink:href=\"#DejaVuSans-Oblique-78\" transform=\"translate(0 0.3125)\"/>\n      <use xlink:href=\"#DejaVuSans-31\" transform=\"translate(59.179688 -16.09375) scale(0.7)\"/>\n     </g>\n    </g>\n   </g>\n   <g id=\"matplotlib.axis_2\">\n    <g id=\"ytick_1\">\n     <g id=\"line2d_4\">\n      <path d=\"M 59.024844 227.948456 \nL 282.224844 227.948456 \n\" clip-path=\"url(#p8eaa9a9487)\" style=\"fill: none; stroke: #ffffff; stroke-linecap: round\"/>\n     </g>\n     <g id=\"text_5\">\n      <!-- −0.2 -->\n      <g style=\"fill: #262626\" transform=\"translate(22.81375 232.127597) scale(0.11 -0.11)\">\n       <defs>\n        <path id=\"DejaVuSans-2212\" d=\"M 678 2272 \nL 4684 2272 \nL 4684 1741 \nL 678 1741 \nL 678 2272 \nz\n\" transform=\"scale(0.015625)\"/>\n        <path id=\"DejaVuSans-32\" d=\"M 1228 531 \nL 3431 531 \nL 3431 0 \nL 469 0 \nL 469 531 \nQ 828 903 1448 1529 \nQ 2069 2156 2228 2338 \nQ 2531 2678 2651 2914 \nQ 2772 3150 2772 3378 \nQ 2772 3750 2511 3984 \nQ 2250 4219 1831 4219 \nQ 1534 4219 1204 4116 \nQ 875 4013 500 3803 \nL 500 4441 \nQ 881 4594 1212 4672 \nQ 1544 4750 1819 4750 \nQ 2544 4750 2975 4387 \nQ 3406 4025 3406 3419 \nQ 3406 3131 3298 2873 \nQ 3191 2616 2906 2266 \nQ 2828 2175 2409 1742 \nQ 1991 1309 1228 531 \nz\n\" transform=\"scale(0.015625)\"/>\n       </defs>\n       <use xlink:href=\"#DejaVuSans-2212\"/>\n       <use xlink:href=\"#DejaVuSans-30\" transform=\"translate(83.789062 0)\"/>\n       <use xlink:href=\"#DejaVuSans-2e\" transform=\"translate(147.412109 0)\"/>\n       <use xlink:href=\"#DejaVuSans-32\" transform=\"translate(179.199219 0)\"/>\n      </g>\n     </g>\n    </g>\n    <g id=\"ytick_2\">\n     <g id=\"line2d_5\">\n      <path d=\"M 59.024844 199.792918 \nL 282.224844 199.792918 \n\" clip-path=\"url(#p8eaa9a9487)\" style=\"fill: none; stroke: #ffffff; stroke-linecap: round\"/>\n     </g>\n     <g id=\"text_6\">\n      <!-- 0.0 -->\n      <g style=\"fill: #262626\" transform=\"translate(32.031406 203.972059) scale(0.11 -0.11)\">\n       <use xlink:href=\"#DejaVuSans-30\"/>\n       <use xlink:href=\"#DejaVuSans-2e\" transform=\"translate(63.623047 0)\"/>\n       <use xlink:href=\"#DejaVuSans-30\" transform=\"translate(95.410156 0)\"/>\n      </g>\n     </g>\n    </g>\n    <g id=\"ytick_3\">\n     <g id=\"line2d_6\">\n      <path d=\"M 59.024844 171.63738 \nL 282.224844 171.63738 \n\" clip-path=\"url(#p8eaa9a9487)\" style=\"fill: none; stroke: #ffffff; stroke-linecap: round\"/>\n     </g>\n     <g id=\"text_7\">\n      <!-- 0.2 -->\n      <g style=\"fill: #262626\" transform=\"translate(32.031406 175.816521) scale(0.11 -0.11)\">\n       <use xlink:href=\"#DejaVuSans-30\"/>\n       <use xlink:href=\"#DejaVuSans-2e\" transform=\"translate(63.623047 0)\"/>\n       <use xlink:href=\"#DejaVuSans-32\" transform=\"translate(95.410156 0)\"/>\n      </g>\n     </g>\n    </g>\n    <g id=\"ytick_4\">\n     <g id=\"line2d_7\">\n      <path d=\"M 59.024844 143.481843 \nL 282.224844 143.481843 \n\" clip-path=\"url(#p8eaa9a9487)\" style=\"fill: none; stroke: #ffffff; stroke-linecap: round\"/>\n     </g>\n     <g id=\"text_8\">\n      <!-- 0.4 -->\n      <g style=\"fill: #262626\" transform=\"translate(32.031406 147.660983) scale(0.11 -0.11)\">\n       <defs>\n        <path id=\"DejaVuSans-34\" d=\"M 2419 4116 \nL 825 1625 \nL 2419 1625 \nL 2419 4116 \nz\nM 2253 4666 \nL 3047 4666 \nL 3047 1625 \nL 3713 1625 \nL 3713 1100 \nL 3047 1100 \nL 3047 0 \nL 2419 0 \nL 2419 1100 \nL 313 1100 \nL 313 1709 \nL 2253 4666 \nz\n\" transform=\"scale(0.015625)\"/>\n       </defs>\n       <use xlink:href=\"#DejaVuSans-30\"/>\n       <use xlink:href=\"#DejaVuSans-2e\" transform=\"translate(63.623047 0)\"/>\n       <use xlink:href=\"#DejaVuSans-34\" transform=\"translate(95.410156 0)\"/>\n      </g>\n     </g>\n    </g>\n    <g id=\"ytick_5\">\n     <g id=\"line2d_8\">\n      <path d=\"M 59.024844 115.326305 \nL 282.224844 115.326305 \n\" clip-path=\"url(#p8eaa9a9487)\" style=\"fill: none; stroke: #ffffff; stroke-linecap: round\"/>\n     </g>\n     <g id=\"text_9\">\n      <!-- 0.6 -->\n      <g style=\"fill: #262626\" transform=\"translate(32.031406 119.505445) scale(0.11 -0.11)\">\n       <defs>\n        <path id=\"DejaVuSans-36\" d=\"M 2113 2584 \nQ 1688 2584 1439 2293 \nQ 1191 2003 1191 1497 \nQ 1191 994 1439 701 \nQ 1688 409 2113 409 \nQ 2538 409 2786 701 \nQ 3034 994 3034 1497 \nQ 3034 2003 2786 2293 \nQ 2538 2584 2113 2584 \nz\nM 3366 4563 \nL 3366 3988 \nQ 3128 4100 2886 4159 \nQ 2644 4219 2406 4219 \nQ 1781 4219 1451 3797 \nQ 1122 3375 1075 2522 \nQ 1259 2794 1537 2939 \nQ 1816 3084 2150 3084 \nQ 2853 3084 3261 2657 \nQ 3669 2231 3669 1497 \nQ 3669 778 3244 343 \nQ 2819 -91 2113 -91 \nQ 1303 -91 875 529 \nQ 447 1150 447 2328 \nQ 447 3434 972 4092 \nQ 1497 4750 2381 4750 \nQ 2619 4750 2861 4703 \nQ 3103 4656 3366 4563 \nz\n\" transform=\"scale(0.015625)\"/>\n       </defs>\n       <use xlink:href=\"#DejaVuSans-30\"/>\n       <use xlink:href=\"#DejaVuSans-2e\" transform=\"translate(63.623047 0)\"/>\n       <use xlink:href=\"#DejaVuSans-36\" transform=\"translate(95.410156 0)\"/>\n      </g>\n     </g>\n    </g>\n    <g id=\"ytick_6\">\n     <g id=\"line2d_9\">\n      <path d=\"M 59.024844 87.170767 \nL 282.224844 87.170767 \n\" clip-path=\"url(#p8eaa9a9487)\" style=\"fill: none; stroke: #ffffff; stroke-linecap: round\"/>\n     </g>\n     <g id=\"text_10\">\n      <!-- 0.8 -->\n      <g style=\"fill: #262626\" transform=\"translate(32.031406 91.349908) scale(0.11 -0.11)\">\n       <defs>\n        <path id=\"DejaVuSans-38\" d=\"M 2034 2216 \nQ 1584 2216 1326 1975 \nQ 1069 1734 1069 1313 \nQ 1069 891 1326 650 \nQ 1584 409 2034 409 \nQ 2484 409 2743 651 \nQ 3003 894 3003 1313 \nQ 3003 1734 2745 1975 \nQ 2488 2216 2034 2216 \nz\nM 1403 2484 \nQ 997 2584 770 2862 \nQ 544 3141 544 3541 \nQ 544 4100 942 4425 \nQ 1341 4750 2034 4750 \nQ 2731 4750 3128 4425 \nQ 3525 4100 3525 3541 \nQ 3525 3141 3298 2862 \nQ 3072 2584 2669 2484 \nQ 3125 2378 3379 2068 \nQ 3634 1759 3634 1313 \nQ 3634 634 3220 271 \nQ 2806 -91 2034 -91 \nQ 1263 -91 848 271 \nQ 434 634 434 1313 \nQ 434 1759 690 2068 \nQ 947 2378 1403 2484 \nz\nM 1172 3481 \nQ 1172 3119 1398 2916 \nQ 1625 2713 2034 2713 \nQ 2441 2713 2670 2916 \nQ 2900 3119 2900 3481 \nQ 2900 3844 2670 4047 \nQ 2441 4250 2034 4250 \nQ 1625 4250 1398 4047 \nQ 1172 3844 1172 3481 \nz\n\" transform=\"scale(0.015625)\"/>\n       </defs>\n       <use xlink:href=\"#DejaVuSans-30\"/>\n       <use xlink:href=\"#DejaVuSans-2e\" transform=\"translate(63.623047 0)\"/>\n       <use xlink:href=\"#DejaVuSans-38\" transform=\"translate(95.410156 0)\"/>\n      </g>\n     </g>\n    </g>\n    <g id=\"ytick_7\">\n     <g id=\"line2d_10\">\n      <path d=\"M 59.024844 59.015229 \nL 282.224844 59.015229 \n\" clip-path=\"url(#p8eaa9a9487)\" style=\"fill: none; stroke: #ffffff; stroke-linecap: round\"/>\n     </g>\n     <g id=\"text_11\">\n      <!-- 1.0 -->\n      <g style=\"fill: #262626\" transform=\"translate(32.031406 63.19437) scale(0.11 -0.11)\">\n       <use xlink:href=\"#DejaVuSans-31\"/>\n       <use xlink:href=\"#DejaVuSans-2e\" transform=\"translate(63.623047 0)\"/>\n       <use xlink:href=\"#DejaVuSans-30\" transform=\"translate(95.410156 0)\"/>\n      </g>\n     </g>\n    </g>\n    <g id=\"ytick_8\">\n     <g id=\"line2d_11\">\n      <path d=\"M 59.024844 30.859691 \nL 282.224844 30.859691 \n\" clip-path=\"url(#p8eaa9a9487)\" style=\"fill: none; stroke: #ffffff; stroke-linecap: round\"/>\n     </g>\n     <g id=\"text_12\">\n      <!-- 1.2 -->\n      <g style=\"fill: #262626\" transform=\"translate(32.031406 35.038832) scale(0.11 -0.11)\">\n       <use xlink:href=\"#DejaVuSans-31\"/>\n       <use xlink:href=\"#DejaVuSans-2e\" transform=\"translate(63.623047 0)\"/>\n       <use xlink:href=\"#DejaVuSans-32\" transform=\"translate(95.410156 0)\"/>\n      </g>\n     </g>\n    </g>\n    <g id=\"text_13\">\n     <!-- $x_2$ -->\n     <g style=\"fill: #262626\" transform=\"translate(16.318125 139.618125) rotate(-90) scale(0.12 -0.12)\">\n      <use xlink:href=\"#DejaVuSans-Oblique-78\" transform=\"translate(0 0.3125)\"/>\n      <use xlink:href=\"#DejaVuSans-32\" transform=\"translate(59.179688 -16.09375) scale(0.7)\"/>\n     </g>\n    </g>\n   </g>\n   <g id=\"PathCollection_1\">\n    <defs>\n     <path id=\"mf9b40e51ea\" d=\"M 0 3 \nC 0.795609 3 1.55874 2.683901 2.12132 2.12132 \nC 2.683901 1.55874 3 0.795609 3 0 \nC 3 -0.795609 2.683901 -1.55874 2.12132 -2.12132 \nC 1.55874 -2.683901 0.795609 -3 0 -3 \nC -0.795609 -3 -1.55874 -2.683901 -2.12132 -2.12132 \nC -2.683901 -1.55874 -3 -0.795609 -3 0 \nC -3 0.795609 -2.683901 1.55874 -2.12132 2.12132 \nC -1.55874 2.683901 -0.795609 3 0 3 \nz\n\" style=\"stroke: #333333\"/>\n    </defs>\n    <g clip-path=\"url(#p8eaa9a9487)\">\n     <use xlink:href=\"#mf9b40e51ea\" x=\"103.175587\" y=\"196.722839\" style=\"fill: #4c72b0; stroke: #333333\"/>\n     <use xlink:href=\"#mf9b40e51ea\" x=\"238.921563\" y=\"62.936312\" style=\"fill: #4c72b0; stroke: #333333\"/>\n     <use xlink:href=\"#mf9b40e51ea\" x=\"265.843348\" y=\"64.604217\" style=\"fill: #4c72b0; stroke: #333333\"/>\n     <use xlink:href=\"#mf9b40e51ea\" x=\"115.777274\" y=\"208.027289\" style=\"fill: #4c72b0; stroke: #333333\"/>\n     <use xlink:href=\"#mf9b40e51ea\" x=\"108.189714\" y=\"208.673311\" style=\"fill: #4c72b0; stroke: #333333\"/>\n     <use xlink:href=\"#mf9b40e51ea\" x=\"77.84736\" y=\"192.883124\" style=\"fill: #4c72b0; stroke: #333333\"/>\n     <use xlink:href=\"#mf9b40e51ea\" x=\"249.749447\" y=\"59.286292\" style=\"fill: #4c72b0; stroke: #333333\"/>\n     <use xlink:href=\"#mf9b40e51ea\" x=\"238.880615\" y=\"52.019112\" style=\"fill: #4c72b0; stroke: #333333\"/>\n     <use xlink:href=\"#mf9b40e51ea\" x=\"100.84285\" y=\"208.171202\" style=\"fill: #4c72b0; stroke: #333333\"/>\n     <use xlink:href=\"#mf9b40e51ea\" x=\"244.40288\" y=\"54.192986\" style=\"fill: #4c72b0; stroke: #333333\"/>\n     <use xlink:href=\"#mf9b40e51ea\" x=\"110.407015\" y=\"203.846094\" style=\"fill: #4c72b0; stroke: #333333\"/>\n     <use xlink:href=\"#mf9b40e51ea\" x=\"262.419004\" y=\"32.398125\" style=\"fill: #4c72b0; stroke: #333333\"/>\n     <use xlink:href=\"#mf9b40e51ea\" x=\"244.921908\" y=\"63.389821\" style=\"fill: #4c72b0; stroke: #333333\"/>\n     <use xlink:href=\"#mf9b40e51ea\" x=\"239.033967\" y=\"58.458486\" style=\"fill: #4c72b0; stroke: #333333\"/>\n     <use xlink:href=\"#mf9b40e51ea\" x=\"101.128083\" y=\"216.407122\" style=\"fill: #4c72b0; stroke: #333333\"/>\n     <use xlink:href=\"#mf9b40e51ea\" x=\"96.095741\" y=\"188.27051\" style=\"fill: #4c72b0; stroke: #333333\"/>\n     <use xlink:href=\"#mf9b40e51ea\" x=\"258.131327\" y=\"92.174531\" style=\"fill: #4c72b0; stroke: #333333\"/>\n     <use xlink:href=\"#mf9b40e51ea\" x=\"261.679385\" y=\"84.973665\" style=\"fill: #4c72b0; stroke: #333333\"/>\n     <use xlink:href=\"#mf9b40e51ea\" x=\"232.969243\" y=\"59.869761\" style=\"fill: #4c72b0; stroke: #333333\"/>\n     <use xlink:href=\"#mf9b40e51ea\" x=\"88.886799\" y=\"212.915172\" style=\"fill: #4c72b0; stroke: #333333\"/>\n     <use xlink:href=\"#mf9b40e51ea\" x=\"260.837035\" y=\"32.829691\" style=\"fill: #4c72b0; stroke: #333333\"/>\n     <use xlink:href=\"#mf9b40e51ea\" x=\"252.014817\" y=\"60.703566\" style=\"fill: #4c72b0; stroke: #333333\"/>\n     <use xlink:href=\"#mf9b40e51ea\" x=\"121.285893\" y=\"178.887482\" style=\"fill: #4c72b0; stroke: #333333\"/>\n     <use xlink:href=\"#mf9b40e51ea\" x=\"235.52169\" y=\"32.535284\" style=\"fill: #4c72b0; stroke: #333333\"/>\n     <use xlink:href=\"#mf9b40e51ea\" x=\"106.644921\" y=\"198.203555\" style=\"fill: #4c72b0; stroke: #333333\"/>\n     <use xlink:href=\"#mf9b40e51ea\" x=\"234.671081\" y=\"52.08478\" style=\"fill: #4c72b0; stroke: #333333\"/>\n     <use xlink:href=\"#mf9b40e51ea\" x=\"93.74526\" y=\"182.615423\" style=\"fill: #4c72b0; stroke: #333333\"/>\n     <use xlink:href=\"#mf9b40e51ea\" x=\"257.590969\" y=\"49.299705\" style=\"fill: #4c72b0; stroke: #333333\"/>\n     <use xlink:href=\"#mf9b40e51ea\" x=\"253.260186\" y=\"62.291446\" style=\"fill: #4c72b0; stroke: #333333\"/>\n     <use xlink:href=\"#mf9b40e51ea\" x=\"247.043425\" y=\"44.118696\" style=\"fill: #4c72b0; stroke: #333333\"/>\n     <use xlink:href=\"#mf9b40e51ea\" x=\"99.204887\" y=\"187.59289\" style=\"fill: #4c72b0; stroke: #333333\"/>\n     <use xlink:href=\"#mf9b40e51ea\" x=\"111.370021\" y=\"213.43273\" style=\"fill: #4c72b0; stroke: #333333\"/>\n     <use xlink:href=\"#mf9b40e51ea\" x=\"94.224345\" y=\"172.552241\" style=\"fill: #4c72b0; stroke: #333333\"/>\n     <use xlink:href=\"#mf9b40e51ea\" x=\"104.609392\" y=\"204.875134\" style=\"fill: #4c72b0; stroke: #333333\"/>\n     <use xlink:href=\"#mf9b40e51ea\" x=\"119.066364\" y=\"204.414963\" style=\"fill: #4c72b0; stroke: #333333\"/>\n     <use xlink:href=\"#mf9b40e51ea\" x=\"100.250642\" y=\"199.146562\" style=\"fill: #4c72b0; stroke: #333333\"/>\n     <use xlink:href=\"#mf9b40e51ea\" x=\"119.826314\" y=\"215.984474\" style=\"fill: #4c72b0; stroke: #333333\"/>\n     <use xlink:href=\"#mf9b40e51ea\" x=\"220.787431\" y=\"39.964075\" style=\"fill: #4c72b0; stroke: #333333\"/>\n     <use xlink:href=\"#mf9b40e51ea\" x=\"260.272851\" y=\"65.444962\" style=\"fill: #4c72b0; stroke: #333333\"/>\n     <use xlink:href=\"#mf9b40e51ea\" x=\"245.066505\" y=\"64.58313\" style=\"fill: #4c72b0; stroke: #333333\"/>\n     <use xlink:href=\"#mf9b40e51ea\" x=\"100.198665\" y=\"209.048204\" style=\"fill: #4c72b0; stroke: #333333\"/>\n     <use xlink:href=\"#mf9b40e51ea\" x=\"229.560921\" y=\"90.419292\" style=\"fill: #4c72b0; stroke: #333333\"/>\n     <use xlink:href=\"#mf9b40e51ea\" x=\"252.931424\" y=\"57.466065\" style=\"fill: #4c72b0; stroke: #333333\"/>\n     <use xlink:href=\"#mf9b40e51ea\" x=\"104.772263\" y=\"215.89812\" style=\"fill: #4c72b0; stroke: #333333\"/>\n     <use xlink:href=\"#mf9b40e51ea\" x=\"117.472818\" y=\"221.55911\" style=\"fill: #4c72b0; stroke: #333333\"/>\n     <use xlink:href=\"#mf9b40e51ea\" x=\"126.142513\" y=\"180.101675\" style=\"fill: #4c72b0; stroke: #333333\"/>\n     <use xlink:href=\"#mf9b40e51ea\" x=\"236.295181\" y=\"72.852515\" style=\"fill: #4c72b0; stroke: #333333\"/>\n     <use xlink:href=\"#mf9b40e51ea\" x=\"223.971929\" y=\"44.796606\" style=\"fill: #4c72b0; stroke: #333333\"/>\n     <use xlink:href=\"#mf9b40e51ea\" x=\"97.284907\" y=\"209.459161\" style=\"fill: #4c72b0; stroke: #333333\"/>\n     <use xlink:href=\"#mf9b40e51ea\" x=\"237.50152\" y=\"69.402923\" style=\"fill: #4c72b0; stroke: #333333\"/>\n     <use xlink:href=\"#mf9b40e51ea\" x=\"105.506427\" y=\"204.583978\" style=\"fill: #4c72b0; stroke: #333333\"/>\n     <use xlink:href=\"#mf9b40e51ea\" x=\"249.16046\" y=\"33.833591\" style=\"fill: #4c72b0; stroke: #333333\"/>\n     <use xlink:href=\"#mf9b40e51ea\" x=\"102.030951\" y=\"192.066827\" style=\"fill: #4c72b0; stroke: #333333\"/>\n     <use xlink:href=\"#mf9b40e51ea\" x=\"234.523839\" y=\"77.653923\" style=\"fill: #4c72b0; stroke: #333333\"/>\n     <use xlink:href=\"#mf9b40e51ea\" x=\"246.0265\" y=\"47.935546\" style=\"fill: #4c72b0; stroke: #333333\"/>\n     <use xlink:href=\"#mf9b40e51ea\" x=\"77.849441\" y=\"193.95253\" style=\"fill: #4c72b0; stroke: #333333\"/>\n     <use xlink:href=\"#mf9b40e51ea\" x=\"223.848588\" y=\"47.691351\" style=\"fill: #4c72b0; stroke: #333333\"/>\n     <use xlink:href=\"#mf9b40e51ea\" x=\"254.206341\" y=\"66.4751\" style=\"fill: #4c72b0; stroke: #333333\"/>\n     <use xlink:href=\"#mf9b40e51ea\" x=\"89.806419\" y=\"200.290075\" style=\"fill: #4c72b0; stroke: #333333\"/>\n     <use xlink:href=\"#mf9b40e51ea\" x=\"101.474114\" y=\"233.998125\" style=\"fill: #4c72b0; stroke: #333333\"/>\n     <use xlink:href=\"#mf9b40e51ea\" x=\"100.92905\" y=\"203.39981\" style=\"fill: #4c72b0; stroke: #333333\"/>\n     <use xlink:href=\"#mf9b40e51ea\" x=\"82.790407\" y=\"203.53779\" style=\"fill: #4c72b0; stroke: #333333\"/>\n     <use xlink:href=\"#mf9b40e51ea\" x=\"268.426038\" y=\"66.615549\" style=\"fill: #4c72b0; stroke: #333333\"/>\n     <use xlink:href=\"#mf9b40e51ea\" x=\"234.515365\" y=\"74.78159\" style=\"fill: #4c72b0; stroke: #333333\"/>\n     <use xlink:href=\"#mf9b40e51ea\" x=\"260.429931\" y=\"40.024793\" style=\"fill: #4c72b0; stroke: #333333\"/>\n     <use xlink:href=\"#mf9b40e51ea\" x=\"83.354631\" y=\"188.559525\" style=\"fill: #4c72b0; stroke: #333333\"/>\n     <use xlink:href=\"#mf9b40e51ea\" x=\"245.761431\" y=\"83.623854\" style=\"fill: #4c72b0; stroke: #333333\"/>\n     <use xlink:href=\"#mf9b40e51ea\" x=\"256.086995\" y=\"90.999539\" style=\"fill: #4c72b0; stroke: #333333\"/>\n     <use xlink:href=\"#mf9b40e51ea\" x=\"125.251842\" y=\"222.197319\" style=\"fill: #4c72b0; stroke: #333333\"/>\n     <use xlink:href=\"#mf9b40e51ea\" x=\"115.574613\" y=\"210.741125\" style=\"fill: #4c72b0; stroke: #333333\"/>\n     <use xlink:href=\"#mf9b40e51ea\" x=\"101.824266\" y=\"193.355747\" style=\"fill: #4c72b0; stroke: #333333\"/>\n     <use xlink:href=\"#mf9b40e51ea\" x=\"102.668211\" y=\"190.997518\" style=\"fill: #4c72b0; stroke: #333333\"/>\n     <use xlink:href=\"#mf9b40e51ea\" x=\"246.373252\" y=\"54.496271\" style=\"fill: #4c72b0; stroke: #333333\"/>\n     <use xlink:href=\"#mf9b40e51ea\" x=\"233.834924\" y=\"89.462105\" style=\"fill: #4c72b0; stroke: #333333\"/>\n     <use xlink:href=\"#mf9b40e51ea\" x=\"101.780765\" y=\"198.962686\" style=\"fill: #4c72b0; stroke: #333333\"/>\n     <use xlink:href=\"#mf9b40e51ea\" x=\"113.855176\" y=\"190.119326\" style=\"fill: #4c72b0; stroke: #333333\"/>\n     <use xlink:href=\"#mf9b40e51ea\" x=\"115.431864\" y=\"197.531041\" style=\"fill: #4c72b0; stroke: #333333\"/>\n     <use xlink:href=\"#mf9b40e51ea\" x=\"246.091317\" y=\"37.893897\" style=\"fill: #4c72b0; stroke: #333333\"/>\n     <use xlink:href=\"#mf9b40e51ea\" x=\"245.18129\" y=\"36.021226\" style=\"fill: #4c72b0; stroke: #333333\"/>\n     <use xlink:href=\"#mf9b40e51ea\" x=\"103.858405\" y=\"211.79954\" style=\"fill: #4c72b0; stroke: #333333\"/>\n     <use xlink:href=\"#mf9b40e51ea\" x=\"256.895945\" y=\"38.007226\" style=\"fill: #4c72b0; stroke: #333333\"/>\n     <use xlink:href=\"#mf9b40e51ea\" x=\"239.223307\" y=\"73.3692\" style=\"fill: #4c72b0; stroke: #333333\"/>\n     <use xlink:href=\"#mf9b40e51ea\" x=\"255.063622\" y=\"33.797493\" style=\"fill: #4c72b0; stroke: #333333\"/>\n     <use xlink:href=\"#mf9b40e51ea\" x=\"95.292954\" y=\"196.343137\" style=\"fill: #4c72b0; stroke: #333333\"/>\n     <use xlink:href=\"#mf9b40e51ea\" x=\"241.134476\" y=\"48.50558\" style=\"fill: #4c72b0; stroke: #333333\"/>\n     <use xlink:href=\"#mf9b40e51ea\" x=\"105.39991\" y=\"216.294179\" style=\"fill: #4c72b0; stroke: #333333\"/>\n     <use xlink:href=\"#mf9b40e51ea\" x=\"114.664014\" y=\"207.926453\" style=\"fill: #4c72b0; stroke: #333333\"/>\n     <use xlink:href=\"#mf9b40e51ea\" x=\"94.590702\" y=\"194.572188\" style=\"fill: #4c72b0; stroke: #333333\"/>\n     <use xlink:href=\"#mf9b40e51ea\" x=\"219.680904\" y=\"54.467641\" style=\"fill: #4c72b0; stroke: #333333\"/>\n     <use xlink:href=\"#mf9b40e51ea\" x=\"232.032075\" y=\"48.348216\" style=\"fill: #4c72b0; stroke: #333333\"/>\n     <use xlink:href=\"#mf9b40e51ea\" x=\"209.50665\" y=\"45.13765\" style=\"fill: #4c72b0; stroke: #333333\"/>\n     <use xlink:href=\"#mf9b40e51ea\" x=\"93.845438\" y=\"194.89677\" style=\"fill: #4c72b0; stroke: #333333\"/>\n     <use xlink:href=\"#mf9b40e51ea\" x=\"123.551329\" y=\"210.643828\" style=\"fill: #4c72b0; stroke: #333333\"/>\n     <use xlink:href=\"#mf9b40e51ea\" x=\"98.640687\" y=\"213.543031\" style=\"fill: #4c72b0; stroke: #333333\"/>\n     <use xlink:href=\"#mf9b40e51ea\" x=\"232.756002\" y=\"92.064122\" style=\"fill: #4c72b0; stroke: #333333\"/>\n     <use xlink:href=\"#mf9b40e51ea\" x=\"108.951144\" y=\"198.740065\" style=\"fill: #4c72b0; stroke: #333333\"/>\n     <use xlink:href=\"#mf9b40e51ea\" x=\"101.769149\" y=\"192.46262\" style=\"fill: #4c72b0; stroke: #333333\"/>\n     <use xlink:href=\"#mf9b40e51ea\" x=\"96.379894\" y=\"203.757936\" style=\"fill: #4c72b0; stroke: #333333\"/>\n     <use xlink:href=\"#mf9b40e51ea\" x=\"106.03107\" y=\"211.899265\" style=\"fill: #4c72b0; stroke: #333333\"/>\n     <use xlink:href=\"#mf9b40e51ea\" x=\"218.441851\" y=\"58.574265\" style=\"fill: #4c72b0; stroke: #333333\"/>\n     <use xlink:href=\"#mf9b40e51ea\" x=\"227.615319\" y=\"41.850088\" style=\"fill: #4c72b0; stroke: #333333\"/>\n     <use xlink:href=\"#mf9b40e51ea\" x=\"79.001684\" y=\"218.262582\" style=\"fill: #4c72b0; stroke: #333333\"/>\n     <use xlink:href=\"#mf9b40e51ea\" x=\"242.780269\" y=\"81.620158\" style=\"fill: #4c72b0; stroke: #333333\"/>\n    </g>\n   </g>\n   <g id=\"PathCollection_2\">\n    <defs>\n     <path id=\"m45ec68caa6\" d=\"M 0 3 \nC 0.795609 3 1.55874 2.683901 2.12132 2.12132 \nC 2.683901 1.55874 3 0.795609 3 0 \nC 3 -0.795609 2.683901 -1.55874 2.12132 -2.12132 \nC 1.55874 -2.683901 0.795609 -3 0 -3 \nC -0.795609 -3 -1.55874 -2.683901 -2.12132 -2.12132 \nC -2.683901 -1.55874 -3 -0.795609 -3 0 \nC -3 0.795609 -2.683901 1.55874 -2.12132 2.12132 \nC -1.55874 2.683901 -0.795609 3 0 3 \nz\n\" style=\"stroke: #333333\"/>\n    </defs>\n    <g clip-path=\"url(#p8eaa9a9487)\">\n     <use xlink:href=\"#m45ec68caa6\" x=\"237.740969\" y=\"184.064459\" style=\"fill: #dd8452; stroke: #333333\"/>\n     <use xlink:href=\"#m45ec68caa6\" x=\"250.706334\" y=\"184.340261\" style=\"fill: #dd8452; stroke: #333333\"/>\n     <use xlink:href=\"#m45ec68caa6\" x=\"238.881003\" y=\"202.441215\" style=\"fill: #dd8452; stroke: #333333\"/>\n     <use xlink:href=\"#m45ec68caa6\" x=\"96.610282\" y=\"45.851439\" style=\"fill: #dd8452; stroke: #333333\"/>\n     <use xlink:href=\"#m45ec68caa6\" x=\"257.550343\" y=\"205.161614\" style=\"fill: #dd8452; stroke: #333333\"/>\n     <use xlink:href=\"#m45ec68caa6\" x=\"107.264311\" y=\"64.372734\" style=\"fill: #dd8452; stroke: #333333\"/>\n     <use xlink:href=\"#m45ec68caa6\" x=\"226.725944\" y=\"215.105614\" style=\"fill: #dd8452; stroke: #333333\"/>\n     <use xlink:href=\"#m45ec68caa6\" x=\"137.462566\" y=\"60.339707\" style=\"fill: #dd8452; stroke: #333333\"/>\n     <use xlink:href=\"#m45ec68caa6\" x=\"254.399964\" y=\"221.068731\" style=\"fill: #dd8452; stroke: #333333\"/>\n     <use xlink:href=\"#m45ec68caa6\" x=\"221.661073\" y=\"188.801084\" style=\"fill: #dd8452; stroke: #333333\"/>\n     <use xlink:href=\"#m45ec68caa6\" x=\"236.770813\" y=\"176.011923\" style=\"fill: #dd8452; stroke: #333333\"/>\n     <use xlink:href=\"#m45ec68caa6\" x=\"72.595048\" y=\"45.008831\" style=\"fill: #dd8452; stroke: #333333\"/>\n     <use xlink:href=\"#m45ec68caa6\" x=\"123.449481\" y=\"45.994237\" style=\"fill: #dd8452; stroke: #333333\"/>\n     <use xlink:href=\"#m45ec68caa6\" x=\"103.341406\" y=\"77.572203\" style=\"fill: #dd8452; stroke: #333333\"/>\n     <use xlink:href=\"#m45ec68caa6\" x=\"103.652293\" y=\"42.484313\" style=\"fill: #dd8452; stroke: #333333\"/>\n     <use xlink:href=\"#m45ec68caa6\" x=\"82.572453\" y=\"39.362608\" style=\"fill: #dd8452; stroke: #333333\"/>\n     <use xlink:href=\"#m45ec68caa6\" x=\"240.785963\" y=\"205.322233\" style=\"fill: #dd8452; stroke: #333333\"/>\n     <use xlink:href=\"#m45ec68caa6\" x=\"223.146677\" y=\"183.914717\" style=\"fill: #dd8452; stroke: #333333\"/>\n     <use xlink:href=\"#m45ec68caa6\" x=\"232.809459\" y=\"186.021764\" style=\"fill: #dd8452; stroke: #333333\"/>\n     <use xlink:href=\"#m45ec68caa6\" x=\"114.75275\" y=\"59.992966\" style=\"fill: #dd8452; stroke: #333333\"/>\n     <use xlink:href=\"#m45ec68caa6\" x=\"219.13022\" y=\"195.521501\" style=\"fill: #dd8452; stroke: #333333\"/>\n     <use xlink:href=\"#m45ec68caa6\" x=\"263.953319\" y=\"204.08342\" style=\"fill: #dd8452; stroke: #333333\"/>\n     <use xlink:href=\"#m45ec68caa6\" x=\"255.392004\" y=\"201.600425\" style=\"fill: #dd8452; stroke: #333333\"/>\n     <use xlink:href=\"#m45ec68caa6\" x=\"230.139566\" y=\"205.687898\" style=\"fill: #dd8452; stroke: #333333\"/>\n     <use xlink:href=\"#m45ec68caa6\" x=\"261.488557\" y=\"179.518498\" style=\"fill: #dd8452; stroke: #333333\"/>\n     <use xlink:href=\"#m45ec68caa6\" x=\"90.064639\" y=\"71.126184\" style=\"fill: #dd8452; stroke: #333333\"/>\n     <use xlink:href=\"#m45ec68caa6\" x=\"258.588002\" y=\"182.510698\" style=\"fill: #dd8452; stroke: #333333\"/>\n     <use xlink:href=\"#m45ec68caa6\" x=\"117.683193\" y=\"55.774959\" style=\"fill: #dd8452; stroke: #333333\"/>\n     <use xlink:href=\"#m45ec68caa6\" x=\"238.990257\" y=\"181.775374\" style=\"fill: #dd8452; stroke: #333333\"/>\n     <use xlink:href=\"#m45ec68caa6\" x=\"75.361809\" y=\"57.662146\" style=\"fill: #dd8452; stroke: #333333\"/>\n     <use xlink:href=\"#m45ec68caa6\" x=\"102.090572\" y=\"66.990484\" style=\"fill: #dd8452; stroke: #333333\"/>\n     <use xlink:href=\"#m45ec68caa6\" x=\"230.25688\" y=\"212.375041\" style=\"fill: #dd8452; stroke: #333333\"/>\n     <use xlink:href=\"#m45ec68caa6\" x=\"221.809167\" y=\"186.328734\" style=\"fill: #dd8452; stroke: #333333\"/>\n     <use xlink:href=\"#m45ec68caa6\" x=\"107.069524\" y=\"61.423422\" style=\"fill: #dd8452; stroke: #333333\"/>\n     <use xlink:href=\"#m45ec68caa6\" x=\"250.99108\" y=\"187.069023\" style=\"fill: #dd8452; stroke: #333333\"/>\n     <use xlink:href=\"#m45ec68caa6\" x=\"107.646006\" y=\"69.452204\" style=\"fill: #dd8452; stroke: #333333\"/>\n     <use xlink:href=\"#m45ec68caa6\" x=\"104.549879\" y=\"72.257232\" style=\"fill: #dd8452; stroke: #333333\"/>\n     <use xlink:href=\"#m45ec68caa6\" x=\"268.105097\" y=\"213.073602\" style=\"fill: #dd8452; stroke: #333333\"/>\n     <use xlink:href=\"#m45ec68caa6\" x=\"238.400187\" y=\"183.208803\" style=\"fill: #dd8452; stroke: #333333\"/>\n     <use xlink:href=\"#m45ec68caa6\" x=\"91.295948\" y=\"56.491819\" style=\"fill: #dd8452; stroke: #333333\"/>\n     <use xlink:href=\"#m45ec68caa6\" x=\"121.568333\" y=\"58.587926\" style=\"fill: #dd8452; stroke: #333333\"/>\n     <use xlink:href=\"#m45ec68caa6\" x=\"125.003489\" y=\"40.639434\" style=\"fill: #dd8452; stroke: #333333\"/>\n     <use xlink:href=\"#m45ec68caa6\" x=\"251.195219\" y=\"209.984157\" style=\"fill: #dd8452; stroke: #333333\"/>\n     <use xlink:href=\"#m45ec68caa6\" x=\"91.801361\" y=\"60.733388\" style=\"fill: #dd8452; stroke: #333333\"/>\n     <use xlink:href=\"#m45ec68caa6\" x=\"235.974935\" y=\"188.491788\" style=\"fill: #dd8452; stroke: #333333\"/>\n     <use xlink:href=\"#m45ec68caa6\" x=\"106.729752\" y=\"74.521377\" style=\"fill: #dd8452; stroke: #333333\"/>\n     <use xlink:href=\"#m45ec68caa6\" x=\"114.638428\" y=\"50.680713\" style=\"fill: #dd8452; stroke: #333333\"/>\n     <use xlink:href=\"#m45ec68caa6\" x=\"113.545439\" y=\"54.197282\" style=\"fill: #dd8452; stroke: #333333\"/>\n     <use xlink:href=\"#m45ec68caa6\" x=\"227.164001\" y=\"189.409162\" style=\"fill: #dd8452; stroke: #333333\"/>\n     <use xlink:href=\"#m45ec68caa6\" x=\"91.795046\" y=\"78.604599\" style=\"fill: #dd8452; stroke: #333333\"/>\n     <use xlink:href=\"#m45ec68caa6\" x=\"112.355405\" y=\"48.675045\" style=\"fill: #dd8452; stroke: #333333\"/>\n     <use xlink:href=\"#m45ec68caa6\" x=\"218.881785\" y=\"185.380972\" style=\"fill: #dd8452; stroke: #333333\"/>\n     <use xlink:href=\"#m45ec68caa6\" x=\"245.64443\" y=\"214.332575\" style=\"fill: #dd8452; stroke: #333333\"/>\n     <use xlink:href=\"#m45ec68caa6\" x=\"109.784851\" y=\"49.194851\" style=\"fill: #dd8452; stroke: #333333\"/>\n     <use xlink:href=\"#m45ec68caa6\" x=\"116.091024\" y=\"68.69468\" style=\"fill: #dd8452; stroke: #333333\"/>\n     <use xlink:href=\"#m45ec68caa6\" x=\"225.780417\" y=\"198.5437\" style=\"fill: #dd8452; stroke: #333333\"/>\n     <use xlink:href=\"#m45ec68caa6\" x=\"217.276378\" y=\"201.294091\" style=\"fill: #dd8452; stroke: #333333\"/>\n     <use xlink:href=\"#m45ec68caa6\" x=\"113.27314\" y=\"63.165772\" style=\"fill: #dd8452; stroke: #333333\"/>\n     <use xlink:href=\"#m45ec68caa6\" x=\"69.170298\" y=\"70.4775\" style=\"fill: #dd8452; stroke: #333333\"/>\n     <use xlink:href=\"#m45ec68caa6\" x=\"98.698359\" y=\"78.564893\" style=\"fill: #dd8452; stroke: #333333\"/>\n     <use xlink:href=\"#m45ec68caa6\" x=\"116.347165\" y=\"52.708383\" style=\"fill: #dd8452; stroke: #333333\"/>\n     <use xlink:href=\"#m45ec68caa6\" x=\"94.391267\" y=\"64.035928\" style=\"fill: #dd8452; stroke: #333333\"/>\n     <use xlink:href=\"#m45ec68caa6\" x=\"100.898505\" y=\"56.433368\" style=\"fill: #dd8452; stroke: #333333\"/>\n     <use xlink:href=\"#m45ec68caa6\" x=\"116.977273\" y=\"69.173857\" style=\"fill: #dd8452; stroke: #333333\"/>\n     <use xlink:href=\"#m45ec68caa6\" x=\"264.182211\" y=\"205.893872\" style=\"fill: #dd8452; stroke: #333333\"/>\n     <use xlink:href=\"#m45ec68caa6\" x=\"86.626022\" y=\"40.196254\" style=\"fill: #dd8452; stroke: #333333\"/>\n     <use xlink:href=\"#m45ec68caa6\" x=\"264.912405\" y=\"188.24511\" style=\"fill: #dd8452; stroke: #333333\"/>\n     <use xlink:href=\"#m45ec68caa6\" x=\"251.653068\" y=\"174.836438\" style=\"fill: #dd8452; stroke: #333333\"/>\n     <use xlink:href=\"#m45ec68caa6\" x=\"221.338296\" y=\"215.053945\" style=\"fill: #dd8452; stroke: #333333\"/>\n     <use xlink:href=\"#m45ec68caa6\" x=\"225.251741\" y=\"231.325231\" style=\"fill: #dd8452; stroke: #333333\"/>\n     <use xlink:href=\"#m45ec68caa6\" x=\"105.110938\" y=\"41.725431\" style=\"fill: #dd8452; stroke: #333333\"/>\n     <use xlink:href=\"#m45ec68caa6\" x=\"227.955126\" y=\"182.071913\" style=\"fill: #dd8452; stroke: #333333\"/>\n     <use xlink:href=\"#m45ec68caa6\" x=\"214.647143\" y=\"167.860073\" style=\"fill: #dd8452; stroke: #333333\"/>\n     <use xlink:href=\"#m45ec68caa6\" x=\"91.350295\" y=\"47.613063\" style=\"fill: #dd8452; stroke: #333333\"/>\n     <use xlink:href=\"#m45ec68caa6\" x=\"115.184403\" y=\"60.592713\" style=\"fill: #dd8452; stroke: #333333\"/>\n     <use xlink:href=\"#m45ec68caa6\" x=\"253.888856\" y=\"187.512004\" style=\"fill: #dd8452; stroke: #333333\"/>\n     <use xlink:href=\"#m45ec68caa6\" x=\"98.888029\" y=\"51.977778\" style=\"fill: #dd8452; stroke: #333333\"/>\n     <use xlink:href=\"#m45ec68caa6\" x=\"110.839939\" y=\"62.358549\" style=\"fill: #dd8452; stroke: #333333\"/>\n     <use xlink:href=\"#m45ec68caa6\" x=\"109.239359\" y=\"65.661131\" style=\"fill: #dd8452; stroke: #333333\"/>\n     <use xlink:href=\"#m45ec68caa6\" x=\"237.390927\" y=\"180.24788\" style=\"fill: #dd8452; stroke: #333333\"/>\n     <use xlink:href=\"#m45ec68caa6\" x=\"245.348705\" y=\"170.843528\" style=\"fill: #dd8452; stroke: #333333\"/>\n     <use xlink:href=\"#m45ec68caa6\" x=\"254.203911\" y=\"188.41563\" style=\"fill: #dd8452; stroke: #333333\"/>\n     <use xlink:href=\"#m45ec68caa6\" x=\"141.672506\" y=\"60.039544\" style=\"fill: #dd8452; stroke: #333333\"/>\n     <use xlink:href=\"#m45ec68caa6\" x=\"220.590559\" y=\"217.37803\" style=\"fill: #dd8452; stroke: #333333\"/>\n     <use xlink:href=\"#m45ec68caa6\" x=\"272.079389\" y=\"216.407409\" style=\"fill: #dd8452; stroke: #333333\"/>\n     <use xlink:href=\"#m45ec68caa6\" x=\"233.703348\" y=\"213.313899\" style=\"fill: #dd8452; stroke: #333333\"/>\n     <use xlink:href=\"#m45ec68caa6\" x=\"95.318892\" y=\"70.745677\" style=\"fill: #dd8452; stroke: #333333\"/>\n     <use xlink:href=\"#m45ec68caa6\" x=\"93.064547\" y=\"60.036238\" style=\"fill: #dd8452; stroke: #333333\"/>\n     <use xlink:href=\"#m45ec68caa6\" x=\"256.572474\" y=\"216.244964\" style=\"fill: #dd8452; stroke: #333333\"/>\n     <use xlink:href=\"#m45ec68caa6\" x=\"93.50362\" y=\"67.616948\" style=\"fill: #dd8452; stroke: #333333\"/>\n     <use xlink:href=\"#m45ec68caa6\" x=\"79.412994\" y=\"62.572016\" style=\"fill: #dd8452; stroke: #333333\"/>\n     <use xlink:href=\"#m45ec68caa6\" x=\"123.191141\" y=\"49.138967\" style=\"fill: #dd8452; stroke: #333333\"/>\n     <use xlink:href=\"#m45ec68caa6\" x=\"96.488538\" y=\"52.173154\" style=\"fill: #dd8452; stroke: #333333\"/>\n     <use xlink:href=\"#m45ec68caa6\" x=\"264.233882\" y=\"213.711341\" style=\"fill: #dd8452; stroke: #333333\"/>\n     <use xlink:href=\"#m45ec68caa6\" x=\"216.198134\" y=\"195.325995\" style=\"fill: #dd8452; stroke: #333333\"/>\n     <use xlink:href=\"#m45ec68caa6\" x=\"105.002662\" y=\"45.008294\" style=\"fill: #dd8452; stroke: #333333\"/>\n     <use xlink:href=\"#m45ec68caa6\" x=\"261.482984\" y=\"211.240618\" style=\"fill: #dd8452; stroke: #333333\"/>\n    </g>\n   </g>\n   <g id=\"patch_3\">\n    <path d=\"M 59.024844 244.078125 \nL 59.024844 22.318125 \n\" style=\"fill: none; stroke: #ffffff; stroke-width: 1.25; stroke-linejoin: miter; stroke-linecap: square\"/>\n   </g>\n   <g id=\"patch_4\">\n    <path d=\"M 282.224844 244.078125 \nL 282.224844 22.318125 \n\" style=\"fill: none; stroke: #ffffff; stroke-width: 1.25; stroke-linejoin: miter; stroke-linecap: square\"/>\n   </g>\n   <g id=\"patch_5\">\n    <path d=\"M 59.024844 244.078125 \nL 282.224844 244.078125 \n\" style=\"fill: none; stroke: #ffffff; stroke-width: 1.25; stroke-linejoin: miter; stroke-linecap: square\"/>\n   </g>\n   <g id=\"patch_6\">\n    <path d=\"M 59.024844 22.318125 \nL 282.224844 22.318125 \n\" style=\"fill: none; stroke: #ffffff; stroke-width: 1.25; stroke-linejoin: miter; stroke-linecap: square\"/>\n   </g>\n   <g id=\"text_14\">\n    <!-- Dataset samples -->\n    <g style=\"fill: #262626\" transform=\"translate(120.282031 16.318125) scale(0.12 -0.12)\">\n     <defs>\n      <path id=\"DejaVuSans-44\" d=\"M 1259 4147 \nL 1259 519 \nL 2022 519 \nQ 2988 519 3436 956 \nQ 3884 1394 3884 2338 \nQ 3884 3275 3436 3711 \nQ 2988 4147 2022 4147 \nL 1259 4147 \nz\nM 628 4666 \nL 1925 4666 \nQ 3281 4666 3915 4102 \nQ 4550 3538 4550 2338 \nQ 4550 1131 3912 565 \nQ 3275 0 1925 0 \nL 628 0 \nL 628 4666 \nz\n\" transform=\"scale(0.015625)\"/>\n      <path id=\"DejaVuSans-61\" d=\"M 2194 1759 \nQ 1497 1759 1228 1600 \nQ 959 1441 959 1056 \nQ 959 750 1161 570 \nQ 1363 391 1709 391 \nQ 2188 391 2477 730 \nQ 2766 1069 2766 1631 \nL 2766 1759 \nL 2194 1759 \nz\nM 3341 1997 \nL 3341 0 \nL 2766 0 \nL 2766 531 \nQ 2569 213 2275 61 \nQ 1981 -91 1556 -91 \nQ 1019 -91 701 211 \nQ 384 513 384 1019 \nQ 384 1609 779 1909 \nQ 1175 2209 1959 2209 \nL 2766 2209 \nL 2766 2266 \nQ 2766 2663 2505 2880 \nQ 2244 3097 1772 3097 \nQ 1472 3097 1187 3025 \nQ 903 2953 641 2809 \nL 641 3341 \nQ 956 3463 1253 3523 \nQ 1550 3584 1831 3584 \nQ 2591 3584 2966 3190 \nQ 3341 2797 3341 1997 \nz\n\" transform=\"scale(0.015625)\"/>\n      <path id=\"DejaVuSans-74\" d=\"M 1172 4494 \nL 1172 3500 \nL 2356 3500 \nL 2356 3053 \nL 1172 3053 \nL 1172 1153 \nQ 1172 725 1289 603 \nQ 1406 481 1766 481 \nL 2356 481 \nL 2356 0 \nL 1766 0 \nQ 1100 0 847 248 \nQ 594 497 594 1153 \nL 594 3053 \nL 172 3053 \nL 172 3500 \nL 594 3500 \nL 594 4494 \nL 1172 4494 \nz\n\" transform=\"scale(0.015625)\"/>\n      <path id=\"DejaVuSans-73\" d=\"M 2834 3397 \nL 2834 2853 \nQ 2591 2978 2328 3040 \nQ 2066 3103 1784 3103 \nQ 1356 3103 1142 2972 \nQ 928 2841 928 2578 \nQ 928 2378 1081 2264 \nQ 1234 2150 1697 2047 \nL 1894 2003 \nQ 2506 1872 2764 1633 \nQ 3022 1394 3022 966 \nQ 3022 478 2636 193 \nQ 2250 -91 1575 -91 \nQ 1294 -91 989 -36 \nQ 684 19 347 128 \nL 347 722 \nQ 666 556 975 473 \nQ 1284 391 1588 391 \nQ 1994 391 2212 530 \nQ 2431 669 2431 922 \nQ 2431 1156 2273 1281 \nQ 2116 1406 1581 1522 \nL 1381 1569 \nQ 847 1681 609 1914 \nQ 372 2147 372 2553 \nQ 372 3047 722 3315 \nQ 1072 3584 1716 3584 \nQ 2034 3584 2315 3537 \nQ 2597 3491 2834 3397 \nz\n\" transform=\"scale(0.015625)\"/>\n      <path id=\"DejaVuSans-65\" d=\"M 3597 1894 \nL 3597 1613 \nL 953 1613 \nQ 991 1019 1311 708 \nQ 1631 397 2203 397 \nQ 2534 397 2845 478 \nQ 3156 559 3463 722 \nL 3463 178 \nQ 3153 47 2828 -22 \nQ 2503 -91 2169 -91 \nQ 1331 -91 842 396 \nQ 353 884 353 1716 \nQ 353 2575 817 3079 \nQ 1281 3584 2069 3584 \nQ 2775 3584 3186 3129 \nQ 3597 2675 3597 1894 \nz\nM 3022 2063 \nQ 3016 2534 2758 2815 \nQ 2500 3097 2075 3097 \nQ 1594 3097 1305 2825 \nQ 1016 2553 972 2059 \nL 3022 2063 \nz\n\" transform=\"scale(0.015625)\"/>\n      <path id=\"DejaVuSans-20\" transform=\"scale(0.015625)\"/>\n      <path id=\"DejaVuSans-6d\" d=\"M 3328 2828 \nQ 3544 3216 3844 3400 \nQ 4144 3584 4550 3584 \nQ 5097 3584 5394 3201 \nQ 5691 2819 5691 2113 \nL 5691 0 \nL 5113 0 \nL 5113 2094 \nQ 5113 2597 4934 2840 \nQ 4756 3084 4391 3084 \nQ 3944 3084 3684 2787 \nQ 3425 2491 3425 1978 \nL 3425 0 \nL 2847 0 \nL 2847 2094 \nQ 2847 2600 2669 2842 \nQ 2491 3084 2119 3084 \nQ 1678 3084 1418 2786 \nQ 1159 2488 1159 1978 \nL 1159 0 \nL 581 0 \nL 581 3500 \nL 1159 3500 \nL 1159 2956 \nQ 1356 3278 1631 3431 \nQ 1906 3584 2284 3584 \nQ 2666 3584 2933 3390 \nQ 3200 3197 3328 2828 \nz\n\" transform=\"scale(0.015625)\"/>\n      <path id=\"DejaVuSans-70\" d=\"M 1159 525 \nL 1159 -1331 \nL 581 -1331 \nL 581 3500 \nL 1159 3500 \nL 1159 2969 \nQ 1341 3281 1617 3432 \nQ 1894 3584 2278 3584 \nQ 2916 3584 3314 3078 \nQ 3713 2572 3713 1747 \nQ 3713 922 3314 415 \nQ 2916 -91 2278 -91 \nQ 1894 -91 1617 61 \nQ 1341 213 1159 525 \nz\nM 3116 1747 \nQ 3116 2381 2855 2742 \nQ 2594 3103 2138 3103 \nQ 1681 3103 1420 2742 \nQ 1159 2381 1159 1747 \nQ 1159 1113 1420 752 \nQ 1681 391 2138 391 \nQ 2594 391 2855 752 \nQ 3116 1113 3116 1747 \nz\n\" transform=\"scale(0.015625)\"/>\n      <path id=\"DejaVuSans-6c\" d=\"M 603 4863 \nL 1178 4863 \nL 1178 0 \nL 603 0 \nL 603 4863 \nz\n\" transform=\"scale(0.015625)\"/>\n     </defs>\n     <use xlink:href=\"#DejaVuSans-44\"/>\n     <use xlink:href=\"#DejaVuSans-61\" transform=\"translate(77.001953 0)\"/>\n     <use xlink:href=\"#DejaVuSans-74\" transform=\"translate(138.28125 0)\"/>\n     <use xlink:href=\"#DejaVuSans-61\" transform=\"translate(177.490234 0)\"/>\n     <use xlink:href=\"#DejaVuSans-73\" transform=\"translate(238.769531 0)\"/>\n     <use xlink:href=\"#DejaVuSans-65\" transform=\"translate(290.869141 0)\"/>\n     <use xlink:href=\"#DejaVuSans-74\" transform=\"translate(352.392578 0)\"/>\n     <use xlink:href=\"#DejaVuSans-20\" transform=\"translate(391.601562 0)\"/>\n     <use xlink:href=\"#DejaVuSans-73\" transform=\"translate(423.388672 0)\"/>\n     <use xlink:href=\"#DejaVuSans-61\" transform=\"translate(475.488281 0)\"/>\n     <use xlink:href=\"#DejaVuSans-6d\" transform=\"translate(536.767578 0)\"/>\n     <use xlink:href=\"#DejaVuSans-70\" transform=\"translate(634.179688 0)\"/>\n     <use xlink:href=\"#DejaVuSans-6c\" transform=\"translate(697.65625 0)\"/>\n     <use xlink:href=\"#DejaVuSans-65\" transform=\"translate(725.439453 0)\"/>\n     <use xlink:href=\"#DejaVuSans-73\" transform=\"translate(786.962891 0)\"/>\n    </g>\n   </g>\n   <g id=\"legend_1\">\n    <g id=\"patch_7\">\n     <path d=\"M 199.891562 150.994063 \nL 274.524844 150.994063 \nQ 276.724844 150.994063 276.724844 148.794063 \nL 276.724844 117.602188 \nQ 276.724844 115.402188 274.524844 115.402188 \nL 199.891562 115.402188 \nQ 197.691562 115.402188 197.691562 117.602188 \nL 197.691562 148.794063 \nQ 197.691562 150.994063 199.891562 150.994063 \nz\n\" style=\"fill: #eaeaf2; opacity: 0.8; stroke: #cccccc; stroke-linejoin: miter\"/>\n    </g>\n    <g id=\"PathCollection_3\">\n     <g>\n      <use xlink:href=\"#mf9b40e51ea\" x=\"213.091562\" y=\"125.272969\" style=\"fill: #4c72b0; stroke: #333333\"/>\n     </g>\n    </g>\n    <g id=\"text_15\">\n     <!-- Class 0 -->\n     <g style=\"fill: #262626\" transform=\"translate(232.891562 128.160469) scale(0.11 -0.11)\">\n      <defs>\n       <path id=\"DejaVuSans-43\" d=\"M 4122 4306 \nL 4122 3641 \nQ 3803 3938 3442 4084 \nQ 3081 4231 2675 4231 \nQ 1875 4231 1450 3742 \nQ 1025 3253 1025 2328 \nQ 1025 1406 1450 917 \nQ 1875 428 2675 428 \nQ 3081 428 3442 575 \nQ 3803 722 4122 1019 \nL 4122 359 \nQ 3791 134 3420 21 \nQ 3050 -91 2638 -91 \nQ 1578 -91 968 557 \nQ 359 1206 359 2328 \nQ 359 3453 968 4101 \nQ 1578 4750 2638 4750 \nQ 3056 4750 3426 4639 \nQ 3797 4528 4122 4306 \nz\n\" transform=\"scale(0.015625)\"/>\n      </defs>\n      <use xlink:href=\"#DejaVuSans-43\"/>\n      <use xlink:href=\"#DejaVuSans-6c\" transform=\"translate(69.824219 0)\"/>\n      <use xlink:href=\"#DejaVuSans-61\" transform=\"translate(97.607422 0)\"/>\n      <use xlink:href=\"#DejaVuSans-73\" transform=\"translate(158.886719 0)\"/>\n      <use xlink:href=\"#DejaVuSans-73\" transform=\"translate(210.986328 0)\"/>\n      <use xlink:href=\"#DejaVuSans-20\" transform=\"translate(263.085938 0)\"/>\n      <use xlink:href=\"#DejaVuSans-30\" transform=\"translate(294.873047 0)\"/>\n     </g>\n    </g>\n    <g id=\"PathCollection_4\">\n     <g>\n      <use xlink:href=\"#m45ec68caa6\" x=\"213.091562\" y=\"141.418906\" style=\"fill: #dd8452; stroke: #333333\"/>\n     </g>\n    </g>\n    <g id=\"text_16\">\n     <!-- Class 1 -->\n     <g style=\"fill: #262626\" transform=\"translate(232.891562 144.306406) scale(0.11 -0.11)\">\n      <use xlink:href=\"#DejaVuSans-43\"/>\n      <use xlink:href=\"#DejaVuSans-6c\" transform=\"translate(69.824219 0)\"/>\n      <use xlink:href=\"#DejaVuSans-61\" transform=\"translate(97.607422 0)\"/>\n      <use xlink:href=\"#DejaVuSans-73\" transform=\"translate(158.886719 0)\"/>\n      <use xlink:href=\"#DejaVuSans-73\" transform=\"translate(210.986328 0)\"/>\n      <use xlink:href=\"#DejaVuSans-20\" transform=\"translate(263.085938 0)\"/>\n      <use xlink:href=\"#DejaVuSans-31\" transform=\"translate(294.873047 0)\"/>\n     </g>\n    </g>\n   </g>\n  </g>\n </g>\n <defs>\n  <clipPath id=\"p8eaa9a9487\">\n   <rect x=\"59.024844\" y=\"22.318125\" width=\"223.2\" height=\"221.76\"/>\n  </clipPath>\n </defs>\n</svg>\n",
            "application/pdf": "[encoded data removed]"
          },
          "metadata": {}
        }
      ],
      "source": [
        "visualize_samples(dataset.data, dataset.label)\n",
        "plt.show()"
      ]
    },
    {
      "cell_type": "markdown",
      "metadata": {
        "id": "weRvxijrxpSi"
      },
      "source": [
        "#### The data loader class\n",
        "\n",
        "The class `torch.utils.data.DataLoader` represents a Python iterable over a dataset with support for automatic batching, multi-process data loading and many more features. The data loader communicates with the dataset using the function `__getitem__`, and stacks its outputs as tensors over the first dimension to form a batch.\n",
        "In contrast to the dataset class, we usually don't have to define our own data loader class, but can just create an object of it with the dataset as input. Additionally, we can configure our data loader with the following input arguments (only a selection, see full list [here](https://pytorch.org/docs/stable/data.html#torch.utils.data.DataLoader)):\n",
        "\n",
        "* `batch_size`: Number of samples to stack per batch\n",
        "* `shuffle`: If True, the data is returned in a random order. This is important during training for introducing stochasticity.\n",
        "* `num_workers`: Number of subprocesses to use for data loading. The default, 0, means that the data will be loaded in the main process which can slow down training for datasets where loading a data point takes a considerable amount of time (e.g. large images). More workers are recommended for those, but can cause issues on Windows computers. For tiny datasets as ours, 0 workers are usually faster.\n",
        "* `pin_memory`: If True, the data loader will copy Tensors into CUDA pinned memory before returning them. This can save some time for large data points on GPUs. Usually a good practice to use for a training set, but not necessarily for validation and test to save memory on the GPU.\n",
        "* `drop_last`: If True, the last batch is dropped in case it is smaller than the specified batch size. This occurs when the dataset size is not a multiple of the batch size. Only potentially helpful during training to keep a consistent batch size.\n",
        "\n",
        "Let's create a simple data loader below:"
      ]
    },
    {
      "cell_type": "code",
      "execution_count": 47,
      "metadata": {
        "id": "Bcxic1SnxpSi",
        "pycharm": {
          "is_executing": true
        }
      },
      "outputs": [],
      "source": [
        "data_loader = data.DataLoader(dataset, batch_size=8, shuffle=True)"
      ]
    },
    {
      "cell_type": "code",
      "execution_count": 50,
      "metadata": {
        "id": "6oCM3SKBxpSi",
        "outputId": "ace4cdc1-58cd-41d7-bdfe-66e2c30b048c",
        "pycharm": {
          "is_executing": true
        },
        "colab": {
          "base_uri": "https://localhost:8080/"
        }
      },
      "outputs": [
        {
          "output_type": "stream",
          "name": "stdout",
          "text": [
            "Data inputs torch.Size([8, 2]) \n",
            " tensor([[ 1.0833, -0.1511],\n",
            "        [-0.0551,  1.0486],\n",
            "        [ 0.0452, -0.0288],\n",
            "        [ 1.1658,  0.9603],\n",
            "        [ 0.2706,  0.9927],\n",
            "        [ 0.8631,  1.0804],\n",
            "        [ 0.9043,  0.7769],\n",
            "        [ 1.0661,  0.9880]])\n",
            "Data labels torch.Size([8]) \n",
            " tensor([1, 1, 0, 0, 1, 0, 0, 0])\n"
          ]
        }
      ],
      "source": [
        "# next(iter(...)) catches the first batch of the data loader\n",
        "# If shuffle is True, this will return a different batch every time we run this cell\n",
        "# For iterating over the whole dataset, we can simple use \"for batch in data_loader: ...\"\n",
        "data_inputs, data_labels = next(iter(data_loader))\n",
        "\n",
        "# The shape of the outputs are [batch_size, d_1,...,d_N] where d_1,...,d_N are the\n",
        "# dimensions of the data point returned from the dataset class\n",
        "print(\"Data inputs\", data_inputs.shape, \"\\n\", data_inputs)\n",
        "print(\"Data labels\", data_labels.shape, \"\\n\", data_labels)"
      ]
    },
    {
      "cell_type": "markdown",
      "metadata": {
        "id": "Z2-DEkdxxpSi"
      },
      "source": [
        "### Optimization\n",
        "\n",
        "After defining the model and the dataset, it is time to prepare the optimization of the model. During training, we will perform the following steps:\n",
        "\n",
        "1. Get a batch from the data loader\n",
        "2. Obtain the predictions from the model for the batch\n",
        "3. Calculate the loss based on the difference between predictions and labels\n",
        "4. Backpropagation: calculate the gradients for every parameter with respect to the loss\n",
        "5. Update the parameters of the model in the direction of the gradients\n",
        "\n",
        "We have seen how we can do step 1, 2 and 4 in PyTorch. Now, we will look at step 3 and 5."
      ]
    },
    {
      "cell_type": "markdown",
      "metadata": {
        "id": "ce3VBa-JxpSi"
      },
      "source": [
        "#### Loss modules\n",
        "\n",
        "We can calculate the loss for a batch by simply performing a few tensor operations as those are automatically added to the computation graph. For instance, for binary classification, we can use Binary Cross Entropy (BCE) which is defined as follows:\n",
        "\n",
        "$$\\mathcal{L}_{BCE} = -\\sum_i \\left[ y_i \\log x_i + (1 - y_i) \\log (1 - x_i) \\right]$$\n",
        "\n",
        "where $y$ are our labels, and $x$ our predictions, both in the range of $[0,1]$. However, PyTorch already provides a list of predefined loss functions which we can use (see [here](https://pytorch.org/docs/stable/nn.html#loss-functions) for a full list). For instance, for BCE, PyTorch has two modules: `nn.BCELoss()`, `nn.BCEWithLogitsLoss()`. While `nn.BCELoss` expects the inputs $x$ to be in the range $[0,1]$, i.e. the output of a sigmoid, `nn.BCEWithLogitsLoss` combines a sigmoid layer and the BCE loss in a single class. This version is numerically more stable than using a plain Sigmoid followed by a BCE loss because of the logarithms applied in the loss function. Hence, it is adviced to use loss functions applied on [\"logits\"](https://it.wikipedia.org/wiki/Logit) where possible (remember to not apply a sigmoid on the output of the model in this case!). For our model defined above, we therefore use the module `nn.BCEWithLogitsLoss`."
      ]
    },
    {
      "cell_type": "code",
      "execution_count": 51,
      "metadata": {
        "id": "fGS6CeBGxpSi",
        "pycharm": {
          "is_executing": true
        }
      },
      "outputs": [],
      "source": [
        "loss_module = nn.BCEWithLogitsLoss()"
      ]
    },
    {
      "cell_type": "markdown",
      "metadata": {
        "id": "yA-ZlHwoxpSi"
      },
      "source": [
        "#### Stochastic Gradient Descent\n",
        "\n",
        "For updating the parameters, PyTorch provides the package `torch.optim` that has most popular optimizers implemented. We will discuss the specific optimizers and their differences later in the course, but will for now use the simplest of them: `torch.optim.SGD`. Stochastic Gradient Descent updates parameters by multiplying the gradients with a small constant, called learning rate, and subtracting those from the parameters (hence minimizing the loss). Therefore, we slowly move towards the direction of minimizing the loss. A good default value of the learning rate for a small network as ours is 0.1."
      ]
    },
    {
      "cell_type": "code",
      "execution_count": 52,
      "metadata": {
        "id": "bI5fFw6kxpSi",
        "pycharm": {
          "is_executing": true
        }
      },
      "outputs": [],
      "source": [
        "# Input to the optimizer are the parameters of the model: model.parameters()\n",
        "optimizer = torch.optim.SGD(model.parameters(), lr=0.1)"
      ]
    },
    {
      "cell_type": "markdown",
      "metadata": {
        "id": "BslwcdCzxpSi"
      },
      "source": [
        "The optimizer provides two useful functions: `optimizer.step()`, and `optimizer.zero_grad()`. The step function updates the parameters based on the gradients as explained above. The function `optimizer.zero_grad()` sets the gradients of all parameters to zero. While this function seems less relevant at first, it is a crucial pre-step before performing backpropagation. If we would call the `backward` function on the loss while the parameter gradients are non-zero from the previous batch, the new gradients would actually be added to the previous ones instead of overwriting them. This is done because a parameter might occur multiple times in a computation graph, and we need to sum the gradients in this case instead of replacing them. Hence, remember to call `optimizer.zero_grad()` before calculating the gradients of a batch."
      ]
    },
    {
      "cell_type": "markdown",
      "metadata": {
        "id": "65AQzfJvxpSj"
      },
      "source": [
        "### Training\n",
        "\n",
        "Finally, we are ready to train our model. As a first step, we create a slightly larger dataset and specify a data loader with a larger batch size."
      ]
    },
    {
      "cell_type": "code",
      "execution_count": 53,
      "metadata": {
        "id": "VWg5sw-IxpSj",
        "pycharm": {
          "is_executing": true
        }
      },
      "outputs": [],
      "source": [
        "train_dataset = XORDataset(size=2500)\n",
        "train_data_loader = data.DataLoader(train_dataset, batch_size=128, shuffle=True)"
      ]
    },
    {
      "cell_type": "markdown",
      "metadata": {
        "id": "rOlDFJuGxpSj"
      },
      "source": [
        "Now, we can write a small training function. Remember our five steps: load a batch, obtain the predictions, calculate the loss, backpropagate, and update. Additionally, we have to push all data and model parameters to the device of our choice (GPU if available). For the tiny neural network we have, communicating the data to the GPU actually takes much more time than we could save from running the operation on GPU. For large networks, the communication time is significantly smaller than the actual runtime making a GPU crucial in these cases. Still, to practice, we will push the data to GPU here."
      ]
    },
    {
      "cell_type": "code",
      "execution_count": 54,
      "metadata": {
        "id": "5SeM6U-axpSj",
        "outputId": "250b8c93-e36c-4339-c63e-317929902090",
        "pycharm": {
          "is_executing": true
        },
        "colab": {
          "base_uri": "https://localhost:8080/"
        }
      },
      "outputs": [
        {
          "output_type": "execute_result",
          "data": {
            "text/plain": [
              "SimpleClassifier(\n",
              "  (linear1): Linear(in_features=2, out_features=4, bias=True)\n",
              "  (act_fn): Tanh()\n",
              "  (linear2): Linear(in_features=4, out_features=1, bias=True)\n",
              ")"
            ]
          },
          "metadata": {},
          "execution_count": 54
        }
      ],
      "source": [
        "# Push model to device. Has to be only done once\n",
        "model.to(device)"
      ]
    },
    {
      "cell_type": "markdown",
      "metadata": {
        "id": "j7XEcq7NxpSj"
      },
      "source": [
        "In addition, we set our model to training mode. This is done by calling `model.train()`. There exist certain modules that need to perform a different forward step during training than during testing (e.g. BatchNorm and Dropout), and we can switch between them using `model.train()` and `model.eval()`."
      ]
    },
    {
      "cell_type": "code",
      "execution_count": 55,
      "metadata": {
        "id": "JpH6LBNBxpSj",
        "pycharm": {
          "is_executing": true
        }
      },
      "outputs": [],
      "source": [
        "def train_model(model, optimizer, data_loader, loss_module, num_epochs=100):\n",
        "    # Set model to train mode\n",
        "    model.train()\n",
        "\n",
        "    # Training loop\n",
        "    for epoch in tqdm(range(num_epochs)):\n",
        "        for data_inputs, data_labels in data_loader:\n",
        "\n",
        "            ## Step 1: Move input data to device (only strictly necessary if we use GPU)\n",
        "            data_inputs = data_inputs.to(device)\n",
        "            data_labels = data_labels.to(device)\n",
        "\n",
        "            ## Step 2: Run the model on the input data\n",
        "            preds = model(data_inputs)\n",
        "            preds = preds.squeeze(dim=1) # Output is [Batch size, 1], but we want [Batch size]\n",
        "\n",
        "            ## Step 3: Calculate the loss\n",
        "            loss = loss_module(preds, data_labels.float())\n",
        "\n",
        "            ## Step 4: Perform backpropagation\n",
        "            # Before calculating the gradients, we need to ensure that they are all zero.\n",
        "            # The gradients would not be overwritten, but actually added to the existing ones.\n",
        "            optimizer.zero_grad()\n",
        "            # Perform backpropagation\n",
        "            loss.backward()\n",
        "\n",
        "            ## Step 5: Update the parameters\n",
        "            optimizer.step()"
      ]
    },
    {
      "cell_type": "code",
      "execution_count": null,
      "metadata": {
        "id": "x30Awk6xxpSj",
        "pycharm": {
          "is_executing": true
        }
      },
      "outputs": [],
      "source": [
        "train_model(model, optimizer, train_data_loader, loss_module)"
      ]
    },
    {
      "cell_type": "markdown",
      "metadata": {
        "id": "Lk9Gm3EMxpSj"
      },
      "source": [
        "#### Saving a model\n",
        "\n",
        "After finish training a model, we save the model to disk so that we can load the same weights at a later time. For this, we extract the so-called `state_dict` from the model which contains all learnable parameters. For our simple model, the state dict contains the following entries:"
      ]
    },
    {
      "cell_type": "code",
      "execution_count": 57,
      "metadata": {
        "id": "PTpl2-5yxpSj",
        "outputId": "2aad505f-a08e-4be9-b10e-452e2038285f",
        "pycharm": {
          "is_executing": true
        },
        "colab": {
          "base_uri": "https://localhost:8080/"
        }
      },
      "outputs": [
        {
          "output_type": "stream",
          "name": "stdout",
          "text": [
            "OrderedDict([('linear1.weight', tensor([[-2.6016, -3.3056],\n",
            "        [ 2.0088, -2.4362],\n",
            "        [-2.6063, -1.5452],\n",
            "        [-0.6530, -0.9362]], device='cuda:0')), ('linear1.bias', tensor([ 1.4228, -1.4128,  2.9698, -0.0914], device='cuda:0')), ('linear2.weight', tensor([[-4.4173,  3.1496,  4.4072, -0.2660]], device='cuda:0')), ('linear2.bias', tensor([-1.6888], device='cuda:0'))])\n"
          ]
        }
      ],
      "source": [
        "state_dict = model.state_dict()\n",
        "print(state_dict)"
      ]
    },
    {
      "cell_type": "markdown",
      "metadata": {
        "id": "Dg2xXRpuxpSk"
      },
      "source": [
        "To save the state dictionary, we can use `torch.save`:"
      ]
    },
    {
      "cell_type": "code",
      "execution_count": 58,
      "metadata": {
        "id": "k6PjH_vSxpSk",
        "pycharm": {
          "is_executing": true
        }
      },
      "outputs": [],
      "source": [
        "# torch.save(object, filename). For the filename, any extension can be used\n",
        "torch.save(state_dict, \"our_model.tar\")"
      ]
    },
    {
      "cell_type": "markdown",
      "metadata": {
        "id": "ZI2IOVULxpSk"
      },
      "source": [
        "To load a model from a state dict, we use the function `torch.load` to load the state dict from the disk, and the module function `load_state_dict` to overwrite our parameters with the new values:"
      ]
    },
    {
      "cell_type": "code",
      "execution_count": 59,
      "metadata": {
        "id": "LL1S0ATXxpSk",
        "outputId": "5b173eed-a2f0-4b05-c8fb-de107846d469",
        "pycharm": {
          "is_executing": true
        },
        "colab": {
          "base_uri": "https://localhost:8080/"
        }
      },
      "outputs": [
        {
          "output_type": "stream",
          "name": "stdout",
          "text": [
            "Original model\n",
            " OrderedDict([('linear1.weight', tensor([[-2.6016, -3.3056],\n",
            "        [ 2.0088, -2.4362],\n",
            "        [-2.6063, -1.5452],\n",
            "        [-0.6530, -0.9362]], device='cuda:0')), ('linear1.bias', tensor([ 1.4228, -1.4128,  2.9698, -0.0914], device='cuda:0')), ('linear2.weight', tensor([[-4.4173,  3.1496,  4.4072, -0.2660]], device='cuda:0')), ('linear2.bias', tensor([-1.6888], device='cuda:0'))])\n",
            "\n",
            "Loaded model\n",
            " OrderedDict([('linear1.weight', tensor([[-2.6016, -3.3056],\n",
            "        [ 2.0088, -2.4362],\n",
            "        [-2.6063, -1.5452],\n",
            "        [-0.6530, -0.9362]])), ('linear1.bias', tensor([ 1.4228, -1.4128,  2.9698, -0.0914])), ('linear2.weight', tensor([[-4.4173,  3.1496,  4.4072, -0.2660]])), ('linear2.bias', tensor([-1.6888]))])\n"
          ]
        }
      ],
      "source": [
        "# Load state dict from the disk (make sure it is the same name as above)\n",
        "state_dict = torch.load(\"our_model.tar\")\n",
        "\n",
        "# Create a new model and load the state\n",
        "new_model = SimpleClassifier(num_inputs=2, num_hidden=4, num_outputs=1)\n",
        "new_model.load_state_dict(state_dict)\n",
        "\n",
        "# Verify that the parameters are the same\n",
        "print(\"Original model\\n\", model.state_dict())\n",
        "print(\"\\nLoaded model\\n\", new_model.state_dict())"
      ]
    },
    {
      "cell_type": "markdown",
      "metadata": {
        "id": "obT5XnPHxpSk"
      },
      "source": [
        "A detailed tutorial on saving and loading models in PyTorch can be found [here](https://pytorch.org/tutorials/beginner/saving_loading_models.html)."
      ]
    },
    {
      "cell_type": "markdown",
      "metadata": {
        "id": "_6VTNVKAxpSk"
      },
      "source": [
        "### Evaluation\n",
        "\n",
        "Once we have trained a model, it is time to evaluate it on a held-out test set. As our dataset consist of randomly generated data points, we need to first create a test set with a corresponding data loader."
      ]
    },
    {
      "cell_type": "code",
      "execution_count": 60,
      "metadata": {
        "id": "fTiu-p37xpSk",
        "pycharm": {
          "is_executing": true
        }
      },
      "outputs": [],
      "source": [
        "test_dataset = XORDataset(size=500)\n",
        "# drop_last -> Don't drop the last batch although it is smaller than 128\n",
        "test_data_loader = data.DataLoader(test_dataset, batch_size=128, shuffle=False, drop_last=False)"
      ]
    },
    {
      "cell_type": "markdown",
      "metadata": {
        "id": "oJyGn878xpSk"
      },
      "source": [
        "As metric, we will use accuracy which is calculated as follows:\n",
        "\n",
        "$$acc = \\frac{\\#\\text{correct predictions}}{\\#\\text{all predictions}} = \\frac{TP+TN}{TP+TN+FP+FN}$$\n",
        "\n",
        "where TP are the true positives, TN true negatives, FP false positives, and FN the fale negatives.\n",
        "\n",
        "When evaluating the model, we don't need to keep track of the computation graph as we don't intend to calculate the gradients. This reduces the required memory and speed up the model. In PyTorch, we can deactivate the computation graph using `with torch.no_grad(): ...`. Remember to additionally set the model to eval mode."
      ]
    },
    {
      "cell_type": "code",
      "execution_count": 62,
      "metadata": {
        "id": "XzfxJ0WPxpSk",
        "pycharm": {
          "is_executing": true
        }
      },
      "outputs": [],
      "source": [
        "def eval_model(model, data_loader):\n",
        "    model.eval() # Set model to eval mode\n",
        "    true_preds, num_preds = 0., 0.\n",
        "\n",
        "    with torch.no_grad(): # Deactivate gradients for the following code\n",
        "        for data_inputs, data_labels in data_loader:\n",
        "\n",
        "            # Determine prediction of model on dev set\n",
        "            data_inputs, data_labels = data_inputs.to(device), data_labels.to(device)\n",
        "            preds = model(data_inputs)\n",
        "            preds = preds.squeeze(dim=1)\n",
        "            preds = torch.sigmoid(preds) # Sigmoid to map predictions between 0 and 1\n",
        "            pred_labels = (preds >= 0.5).long() # Binarize predictions to 0 and 1\n",
        "\n",
        "            # Keep records of predictions for the accuracy metric (true_preds=TP+TN, num_preds=TP+TN+FP+FN)\n",
        "            true_preds += (pred_labels == data_labels).sum()\n",
        "            num_preds += data_labels.shape[0]\n",
        "\n",
        "    acc = true_preds / num_preds\n",
        "    print(f\"Accuracy of the model: {100.0*acc:4.2f}%\")"
      ]
    },
    {
      "cell_type": "code",
      "execution_count": 63,
      "metadata": {
        "id": "78uja8-3xpSl",
        "outputId": "1de1446e-0bbf-4280-ab68-b6209dd74e54",
        "pycharm": {
          "is_executing": true
        },
        "colab": {
          "base_uri": "https://localhost:8080/"
        }
      },
      "outputs": [
        {
          "output_type": "stream",
          "name": "stdout",
          "text": [
            "Accuracy of the model: 100.00%\n"
          ]
        }
      ],
      "source": [
        "eval_model(model, test_data_loader)"
      ]
    },
    {
      "cell_type": "markdown",
      "metadata": {
        "id": "5JwrMMKcxpSl"
      },
      "source": [
        "If we trained our model correctly, we should see a score close to 100% accuracy. However, this is only possible because of our simple task, and unfortunately, we usually don't get such high scores on test sets of more complex tasks."
      ]
    },
    {
      "cell_type": "markdown",
      "metadata": {
        "id": "vSmAavukxpSl"
      },
      "source": [
        "#### Visualizing classification boundaries\n",
        "\n",
        "To visualize what our model has learned, we can perform a prediction for every data point in a range of $[-0.5, 1.5]$, and visualize the predicted class as in the sample figure at the beginning of this section. This shows where the model has created decision boundaries, and which points would be classified as $0$, and which as $1$. We therefore get a background image out of blue (class 0) and orange (class 1) (For the color coding in matplitlib see [here](https://matplotlib.org/2.0.2/users/colors.html)). The spots where the model is uncertain we will see a blurry overlap. The specific code is less relevant compared to the output figure which should hopefully show us a clear separation of classes:"
      ]
    },
    {
      "cell_type": "code",
      "execution_count": 64,
      "metadata": {
        "id": "Hrpc9rczxpSl",
        "outputId": "22a69960-f4b5-4297-f4d0-ab17405c0eed",
        "pycharm": {
          "is_executing": true
        },
        "colab": {
          "base_uri": "https://localhost:8080/",
          "height": 404
        }
      },
      "outputs": [
        {
          "output_type": "display_data",
          "data": {
            "text/plain": [
              "<Figure size 2000x2000 with 1 Axes>"
            ],
            "image/svg+xml": "<?xml version=\"1.0\" encoding=\"utf-8\" standalone=\"no\"?>\n<!DOCTYPE svg PUBLIC \"-//W3C//DTD SVG 1.1//EN\"\n  \"http://www.w3.org/Graphics/SVG/1.1/DTD/svg11.dtd\">\n<svg xmlns:xlink=\"http://www.w3.org/1999/xlink\" width=\"303.730313pt\" height=\"287.037813pt\" viewBox=\"0 0 303.730313 287.037813\" xmlns=\"http://www.w3.org/2000/svg\" version=\"1.1\">\n <metadata>\n  <rdf:RDF xmlns:dc=\"http://purl.org/dc/elements/1.1/\" xmlns:cc=\"http://creativecommons.org/ns#\" xmlns:rdf=\"http://www.w3.org/1999/02/22-rdf-syntax-ns#\">\n   <cc:Work>\n    <dc:type rdf:resource=\"http://purl.org/dc/dcmitype/StillImage\"/>\n    <dc:date>2025-07-09T14:45:31.997842</dc:date>\n    <dc:format>image/svg+xml</dc:format>\n    <dc:creator>\n     <cc:Agent>\n      <dc:title>Matplotlib v3.10.0, https://matplotlib.org/</dc:title>\n     </cc:Agent>\n    </dc:creator>\n   </cc:Work>\n  </rdf:RDF>\n </metadata>\n <defs>\n  <style type=\"text/css\">*{stroke-linejoin: round; stroke-linecap: butt}</style>\n </defs>\n <g id=\"figure_1\">\n  <g id=\"patch_1\">\n   <path d=\"M 0 287.037813 \nL 303.730313 287.037813 \nL 303.730313 0 \nL 0 0 \nz\n\" style=\"fill: #ffffff\"/>\n  </g>\n  <g id=\"axes_1\">\n   <g id=\"patch_2\">\n    <path d=\"M 66.023594 244.078125 \nL 287.783594 244.078125 \nL 287.783594 22.318125 \nL 66.023594 22.318125 \nz\n\" style=\"fill: #eaeaf2\"/>\n   </g>\n   <g clip-path=\"url(#p088d7b4b17)\">\n    <image xlink:href=\"data:image/png;base64,\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\" id=\"imageffdeaed4e2\" transform=\"scale(1 -1) translate(0 -221.904)\" x=\"66.023594\" y=\"-22.174125\" width=\"221.904\" height=\"221.904\"/>\n   </g>\n   <g id=\"matplotlib.axis_1\">\n    <g id=\"xtick_1\">\n     <g id=\"text_1\">\n      <!-- −0.5 -->\n      <g style=\"fill: #262626\" transform=\"translate(52.668047 261.936406) scale(0.11 -0.11)\">\n       <defs>\n        <path id=\"DejaVuSans-2212\" d=\"M 678 2272 \nL 4684 2272 \nL 4684 1741 \nL 678 1741 \nL 678 2272 \nz\n\" transform=\"scale(0.015625)\"/>\n        <path id=\"DejaVuSans-30\" d=\"M 2034 4250 \nQ 1547 4250 1301 3770 \nQ 1056 3291 1056 2328 \nQ 1056 1369 1301 889 \nQ 1547 409 2034 409 \nQ 2525 409 2770 889 \nQ 3016 1369 3016 2328 \nQ 3016 3291 2770 3770 \nQ 2525 4250 2034 4250 \nz\nM 2034 4750 \nQ 2819 4750 3233 4129 \nQ 3647 3509 3647 2328 \nQ 3647 1150 3233 529 \nQ 2819 -91 2034 -91 \nQ 1250 -91 836 529 \nQ 422 1150 422 2328 \nQ 422 3509 836 4129 \nQ 1250 4750 2034 4750 \nz\n\" transform=\"scale(0.015625)\"/>\n        <path id=\"DejaVuSans-2e\" d=\"M 684 794 \nL 1344 794 \nL 1344 0 \nL 684 0 \nL 684 794 \nz\n\" transform=\"scale(0.015625)\"/>\n        <path id=\"DejaVuSans-35\" d=\"M 691 4666 \nL 3169 4666 \nL 3169 4134 \nL 1269 4134 \nL 1269 2991 \nQ 1406 3038 1543 3061 \nQ 1681 3084 1819 3084 \nQ 2600 3084 3056 2656 \nQ 3513 2228 3513 1497 \nQ 3513 744 3044 326 \nQ 2575 -91 1722 -91 \nQ 1428 -91 1123 -41 \nQ 819 9 494 109 \nL 494 744 \nQ 775 591 1075 516 \nQ 1375 441 1709 441 \nQ 2250 441 2565 725 \nQ 2881 1009 2881 1497 \nQ 2881 1984 2565 2268 \nQ 2250 2553 1709 2553 \nQ 1456 2553 1204 2497 \nQ 953 2441 691 2322 \nL 691 4666 \nz\n\" transform=\"scale(0.015625)\"/>\n       </defs>\n       <use xlink:href=\"#DejaVuSans-2212\"/>\n       <use xlink:href=\"#DejaVuSans-30\" transform=\"translate(83.789062 0)\"/>\n       <use xlink:href=\"#DejaVuSans-2e\" transform=\"translate(147.412109 0)\"/>\n       <use xlink:href=\"#DejaVuSans-35\" transform=\"translate(179.199219 0)\"/>\n      </g>\n     </g>\n    </g>\n    <g id=\"xtick_2\">\n     <g id=\"text_2\">\n      <!-- 0.0 -->\n      <g style=\"fill: #262626\" transform=\"translate(112.716875 261.936406) scale(0.11 -0.11)\">\n       <use xlink:href=\"#DejaVuSans-30\"/>\n       <use xlink:href=\"#DejaVuSans-2e\" transform=\"translate(63.623047 0)\"/>\n       <use xlink:href=\"#DejaVuSans-30\" transform=\"translate(95.410156 0)\"/>\n      </g>\n     </g>\n    </g>\n    <g id=\"xtick_3\">\n     <g id=\"text_3\">\n      <!-- 0.5 -->\n      <g style=\"fill: #262626\" transform=\"translate(168.156875 261.936406) scale(0.11 -0.11)\">\n       <use xlink:href=\"#DejaVuSans-30\"/>\n       <use xlink:href=\"#DejaVuSans-2e\" transform=\"translate(63.623047 0)\"/>\n       <use xlink:href=\"#DejaVuSans-35\" transform=\"translate(95.410156 0)\"/>\n      </g>\n     </g>\n    </g>\n    <g id=\"xtick_4\">\n     <g id=\"text_4\">\n      <!-- 1.0 -->\n      <g style=\"fill: #262626\" transform=\"translate(223.596875 261.936406) scale(0.11 -0.11)\">\n       <defs>\n        <path id=\"DejaVuSans-31\" d=\"M 794 531 \nL 1825 531 \nL 1825 4091 \nL 703 3866 \nL 703 4441 \nL 1819 4666 \nL 2450 4666 \nL 2450 531 \nL 3481 531 \nL 3481 0 \nL 794 0 \nL 794 531 \nz\n\" transform=\"scale(0.015625)\"/>\n       </defs>\n       <use xlink:href=\"#DejaVuSans-31\"/>\n       <use xlink:href=\"#DejaVuSans-2e\" transform=\"translate(63.623047 0)\"/>\n       <use xlink:href=\"#DejaVuSans-30\" transform=\"translate(95.410156 0)\"/>\n      </g>\n     </g>\n    </g>\n    <g id=\"xtick_5\">\n     <g id=\"text_5\">\n      <!-- 1.5 -->\n      <g style=\"fill: #262626\" transform=\"translate(279.036875 261.936406) scale(0.11 -0.11)\">\n       <use xlink:href=\"#DejaVuSans-31\"/>\n       <use xlink:href=\"#DejaVuSans-2e\" transform=\"translate(63.623047 0)\"/>\n       <use xlink:href=\"#DejaVuSans-35\" transform=\"translate(95.410156 0)\"/>\n      </g>\n     </g>\n    </g>\n    <g id=\"text_6\">\n     <!-- $x_1$ -->\n     <g style=\"fill: #262626\" transform=\"translate(170.483594 277.342188) scale(0.12 -0.12)\">\n      <defs>\n       <path id=\"DejaVuSans-Oblique-78\" d=\"M 3841 3500 \nL 2234 1784 \nL 3219 0 \nL 2559 0 \nL 1819 1388 \nL 531 0 \nL -166 0 \nL 1556 1844 \nL 641 3500 \nL 1300 3500 \nL 1972 2234 \nL 3144 3500 \nL 3841 3500 \nz\n\" transform=\"scale(0.015625)\"/>\n      </defs>\n      <use xlink:href=\"#DejaVuSans-Oblique-78\" transform=\"translate(0 0.3125)\"/>\n      <use xlink:href=\"#DejaVuSans-31\" transform=\"translate(59.179688 -16.09375) scale(0.7)\"/>\n     </g>\n    </g>\n   </g>\n   <g id=\"matplotlib.axis_2\">\n    <g id=\"ytick_1\">\n     <g id=\"text_7\">\n      <!-- −0.50 -->\n      <g style=\"fill: #262626\" transform=\"translate(22.81375 248.257266) scale(0.11 -0.11)\">\n       <use xlink:href=\"#DejaVuSans-2212\"/>\n       <use xlink:href=\"#DejaVuSans-30\" transform=\"translate(83.789062 0)\"/>\n       <use xlink:href=\"#DejaVuSans-2e\" transform=\"translate(147.412109 0)\"/>\n       <use xlink:href=\"#DejaVuSans-35\" transform=\"translate(179.199219 0)\"/>\n       <use xlink:href=\"#DejaVuSans-30\" transform=\"translate(242.822266 0)\"/>\n      </g>\n     </g>\n    </g>\n    <g id=\"ytick_2\">\n     <g id=\"text_8\">\n      <!-- −0.25 -->\n      <g style=\"fill: #262626\" transform=\"translate(22.81375 220.537266) scale(0.11 -0.11)\">\n       <defs>\n        <path id=\"DejaVuSans-32\" d=\"M 1228 531 \nL 3431 531 \nL 3431 0 \nL 469 0 \nL 469 531 \nQ 828 903 1448 1529 \nQ 2069 2156 2228 2338 \nQ 2531 2678 2651 2914 \nQ 2772 3150 2772 3378 \nQ 2772 3750 2511 3984 \nQ 2250 4219 1831 4219 \nQ 1534 4219 1204 4116 \nQ 875 4013 500 3803 \nL 500 4441 \nQ 881 4594 1212 4672 \nQ 1544 4750 1819 4750 \nQ 2544 4750 2975 4387 \nQ 3406 4025 3406 3419 \nQ 3406 3131 3298 2873 \nQ 3191 2616 2906 2266 \nQ 2828 2175 2409 1742 \nQ 1991 1309 1228 531 \nz\n\" transform=\"scale(0.015625)\"/>\n       </defs>\n       <use xlink:href=\"#DejaVuSans-2212\"/>\n       <use xlink:href=\"#DejaVuSans-30\" transform=\"translate(83.789062 0)\"/>\n       <use xlink:href=\"#DejaVuSans-2e\" transform=\"translate(147.412109 0)\"/>\n       <use xlink:href=\"#DejaVuSans-32\" transform=\"translate(179.199219 0)\"/>\n       <use xlink:href=\"#DejaVuSans-35\" transform=\"translate(242.822266 0)\"/>\n      </g>\n     </g>\n    </g>\n    <g id=\"ytick_3\">\n     <g id=\"text_9\">\n      <!-- 0.00 -->\n      <g style=\"fill: #262626\" transform=\"translate(32.031406 192.817266) scale(0.11 -0.11)\">\n       <use xlink:href=\"#DejaVuSans-30\"/>\n       <use xlink:href=\"#DejaVuSans-2e\" transform=\"translate(63.623047 0)\"/>\n       <use xlink:href=\"#DejaVuSans-30\" transform=\"translate(95.410156 0)\"/>\n       <use xlink:href=\"#DejaVuSans-30\" transform=\"translate(159.033203 0)\"/>\n      </g>\n     </g>\n    </g>\n    <g id=\"ytick_4\">\n     <g id=\"text_10\">\n      <!-- 0.25 -->\n      <g style=\"fill: #262626\" transform=\"translate(32.031406 165.097266) scale(0.11 -0.11)\">\n       <use xlink:href=\"#DejaVuSans-30\"/>\n       <use xlink:href=\"#DejaVuSans-2e\" transform=\"translate(63.623047 0)\"/>\n       <use xlink:href=\"#DejaVuSans-32\" transform=\"translate(95.410156 0)\"/>\n       <use xlink:href=\"#DejaVuSans-35\" transform=\"translate(159.033203 0)\"/>\n      </g>\n     </g>\n    </g>\n    <g id=\"ytick_5\">\n     <g id=\"text_11\">\n      <!-- 0.50 -->\n      <g style=\"fill: #262626\" transform=\"translate(32.031406 137.377266) scale(0.11 -0.11)\">\n       <use xlink:href=\"#DejaVuSans-30\"/>\n       <use xlink:href=\"#DejaVuSans-2e\" transform=\"translate(63.623047 0)\"/>\n       <use xlink:href=\"#DejaVuSans-35\" transform=\"translate(95.410156 0)\"/>\n       <use xlink:href=\"#DejaVuSans-30\" transform=\"translate(159.033203 0)\"/>\n      </g>\n     </g>\n    </g>\n    <g id=\"ytick_6\">\n     <g id=\"text_12\">\n      <!-- 0.75 -->\n      <g style=\"fill: #262626\" transform=\"translate(32.031406 109.657266) scale(0.11 -0.11)\">\n       <defs>\n        <path id=\"DejaVuSans-37\" d=\"M 525 4666 \nL 3525 4666 \nL 3525 4397 \nL 1831 0 \nL 1172 0 \nL 2766 4134 \nL 525 4134 \nL 525 4666 \nz\n\" transform=\"scale(0.015625)\"/>\n       </defs>\n       <use xlink:href=\"#DejaVuSans-30\"/>\n       <use xlink:href=\"#DejaVuSans-2e\" transform=\"translate(63.623047 0)\"/>\n       <use xlink:href=\"#DejaVuSans-37\" transform=\"translate(95.410156 0)\"/>\n       <use xlink:href=\"#DejaVuSans-35\" transform=\"translate(159.033203 0)\"/>\n      </g>\n     </g>\n    </g>\n    <g id=\"ytick_7\">\n     <g id=\"text_13\">\n      <!-- 1.00 -->\n      <g style=\"fill: #262626\" transform=\"translate(32.031406 81.937266) scale(0.11 -0.11)\">\n       <use xlink:href=\"#DejaVuSans-31\"/>\n       <use xlink:href=\"#DejaVuSans-2e\" transform=\"translate(63.623047 0)\"/>\n       <use xlink:href=\"#DejaVuSans-30\" transform=\"translate(95.410156 0)\"/>\n       <use xlink:href=\"#DejaVuSans-30\" transform=\"translate(159.033203 0)\"/>\n      </g>\n     </g>\n    </g>\n    <g id=\"ytick_8\">\n     <g id=\"text_14\">\n      <!-- 1.25 -->\n      <g style=\"fill: #262626\" transform=\"translate(32.031406 54.217266) scale(0.11 -0.11)\">\n       <use xlink:href=\"#DejaVuSans-31\"/>\n       <use xlink:href=\"#DejaVuSans-2e\" transform=\"translate(63.623047 0)\"/>\n       <use xlink:href=\"#DejaVuSans-32\" transform=\"translate(95.410156 0)\"/>\n       <use xlink:href=\"#DejaVuSans-35\" transform=\"translate(159.033203 0)\"/>\n      </g>\n     </g>\n    </g>\n    <g id=\"ytick_9\">\n     <g id=\"text_15\">\n      <!-- 1.50 -->\n      <g style=\"fill: #262626\" transform=\"translate(32.031406 26.497266) scale(0.11 -0.11)\">\n       <use xlink:href=\"#DejaVuSans-31\"/>\n       <use xlink:href=\"#DejaVuSans-2e\" transform=\"translate(63.623047 0)\"/>\n       <use xlink:href=\"#DejaVuSans-35\" transform=\"translate(95.410156 0)\"/>\n       <use xlink:href=\"#DejaVuSans-30\" transform=\"translate(159.033203 0)\"/>\n      </g>\n     </g>\n    </g>\n    <g id=\"text_16\">\n     <!-- $x_2$ -->\n     <g style=\"fill: #262626\" transform=\"translate(16.318125 139.618125) rotate(-90) scale(0.12 -0.12)\">\n      <use xlink:href=\"#DejaVuSans-Oblique-78\" transform=\"translate(0 0.3125)\"/>\n      <use xlink:href=\"#DejaVuSans-32\" transform=\"translate(59.179688 -16.09375) scale(0.7)\"/>\n     </g>\n    </g>\n   </g>\n   <g id=\"PathCollection_1\">\n    <defs>\n     <path id=\"me65a1426ad\" d=\"M 0 3 \nC 0.795609 3 1.55874 2.683901 2.12132 2.12132 \nC 2.683901 1.55874 3 0.795609 3 0 \nC 3 -0.795609 2.683901 -1.55874 2.12132 -2.12132 \nC 1.55874 -2.683901 0.795609 -3 0 -3 \nC -0.795609 -3 -1.55874 -2.683901 -2.12132 -2.12132 \nC -2.683901 -1.55874 -3 -0.795609 -3 0 \nC -3 0.795609 -2.683901 1.55874 -2.12132 2.12132 \nC -1.55874 2.683901 -0.795609 3 0 3 \nz\n\" style=\"stroke: #333333\"/>\n    </defs>\n    <g clip-path=\"url(#p088d7b4b17)\">\n     <use xlink:href=\"#me65a1426ad\" x=\"120.695671\" y=\"186.220054\" style=\"fill: #4c72b0; stroke: #333333\"/>\n     <use xlink:href=\"#me65a1426ad\" x=\"229.210939\" y=\"80.846467\" style=\"fill: #4c72b0; stroke: #333333\"/>\n     <use xlink:href=\"#me65a1426ad\" x=\"250.732201\" y=\"82.16015\" style=\"fill: #4c72b0; stroke: #333333\"/>\n     <use xlink:href=\"#me65a1426ad\" x=\"130.769454\" y=\"195.12372\" style=\"fill: #4c72b0; stroke: #333333\"/>\n     <use xlink:href=\"#me65a1426ad\" x=\"124.703962\" y=\"195.632543\" style=\"fill: #4c72b0; stroke: #333333\"/>\n     <use xlink:href=\"#me65a1426ad\" x=\"100.448299\" y=\"183.1958\" style=\"fill: #4c72b0; stroke: #333333\"/>\n     <use xlink:href=\"#me65a1426ad\" x=\"237.866744\" y=\"77.971621\" style=\"fill: #4c72b0; stroke: #333333\"/>\n     <use xlink:href=\"#me65a1426ad\" x=\"229.178204\" y=\"72.24781\" style=\"fill: #4c72b0; stroke: #333333\"/>\n     <use xlink:href=\"#me65a1426ad\" x=\"118.830882\" y=\"195.237069\" style=\"fill: #4c72b0; stroke: #333333\"/>\n     <use xlink:href=\"#me65a1426ad\" x=\"233.592701\" y=\"73.960007\" style=\"fill: #4c72b0; stroke: #333333\"/>\n     <use xlink:href=\"#me65a1426ad\" x=\"126.476472\" y=\"191.830507\" style=\"fill: #4c72b0; stroke: #333333\"/>\n     <use xlink:href=\"#me65a1426ad\" x=\"247.994781\" y=\"56.793833\" style=\"fill: #4c72b0; stroke: #333333\"/>\n     <use xlink:href=\"#me65a1426ad\" x=\"234.007612\" y=\"81.203662\" style=\"fill: #4c72b0; stroke: #333333\"/>\n     <use xlink:href=\"#me65a1426ad\" x=\"229.300794\" y=\"77.31962\" style=\"fill: #4c72b0; stroke: #333333\"/>\n     <use xlink:href=\"#me65a1426ad\" x=\"119.058898\" y=\"201.723884\" style=\"fill: #4c72b0; stroke: #333333\"/>\n     <use xlink:href=\"#me65a1426ad\" x=\"115.036046\" y=\"179.56279\" style=\"fill: #4c72b0; stroke: #333333\"/>\n     <use xlink:href=\"#me65a1426ad\" x=\"244.567215\" y=\"103.875214\" style=\"fill: #4c72b0; stroke: #333333\"/>\n     <use xlink:href=\"#me65a1426ad\" x=\"247.40353\" y=\"98.203633\" style=\"fill: #4c72b0; stroke: #333333\"/>\n     <use xlink:href=\"#me65a1426ad\" x=\"224.452657\" y=\"78.431175\" style=\"fill: #4c72b0; stroke: #333333\"/>\n     <use xlink:href=\"#me65a1426ad\" x=\"109.273221\" y=\"198.973538\" style=\"fill: #4c72b0; stroke: #333333\"/>\n     <use xlink:href=\"#me65a1426ad\" x=\"246.730156\" y=\"57.133746\" style=\"fill: #4c72b0; stroke: #333333\"/>\n     <use xlink:href=\"#me65a1426ad\" x=\"239.677679\" y=\"79.087901\" style=\"fill: #4c72b0; stroke: #333333\"/>\n     <use xlink:href=\"#me65a1426ad\" x=\"135.173042\" y=\"172.172485\" style=\"fill: #4c72b0; stroke: #333333\"/>\n     <use xlink:href=\"#me65a1426ad\" x=\"226.493082\" y=\"56.901864\" style=\"fill: #4c72b0; stroke: #333333\"/>\n     <use xlink:href=\"#me65a1426ad\" x=\"123.469055\" y=\"187.386303\" style=\"fill: #4c72b0; stroke: #333333\"/>\n     <use xlink:href=\"#me65a1426ad\" x=\"225.813106\" y=\"72.299531\" style=\"fill: #4c72b0; stroke: #333333\"/>\n     <use xlink:href=\"#me65a1426ad\" x=\"113.157073\" y=\"175.108704\" style=\"fill: #4c72b0; stroke: #333333\"/>\n     <use xlink:href=\"#me65a1426ad\" x=\"244.135253\" y=\"70.105937\" style=\"fill: #4c72b0; stroke: #333333\"/>\n     <use xlink:href=\"#me65a1426ad\" x=\"240.673227\" y=\"80.338555\" style=\"fill: #4c72b0; stroke: #333333\"/>\n     <use xlink:href=\"#me65a1426ad\" x=\"235.703551\" y=\"66.025246\" style=\"fill: #4c72b0; stroke: #333333\"/>\n     <use xlink:href=\"#me65a1426ad\" x=\"117.521496\" y=\"179.02908\" style=\"fill: #4c72b0; stroke: #333333\"/>\n     <use xlink:href=\"#me65a1426ad\" x=\"127.246298\" y=\"199.381179\" style=\"fill: #4c72b0; stroke: #333333\"/>\n     <use xlink:href=\"#me65a1426ad\" x=\"113.540053\" y=\"167.182692\" style=\"fill: #4c72b0; stroke: #333333\"/>\n     <use xlink:href=\"#me65a1426ad\" x=\"121.841855\" y=\"192.641004\" style=\"fill: #4c72b0; stroke: #333333\"/>\n     <use xlink:href=\"#me65a1426ad\" x=\"133.398751\" y=\"192.278562\" style=\"fill: #4c72b0; stroke: #333333\"/>\n     <use xlink:href=\"#me65a1426ad\" x=\"118.357472\" y=\"188.129039\" style=\"fill: #4c72b0; stroke: #333333\"/>\n     <use xlink:href=\"#me65a1426ad\" x=\"134.006255\" y=\"201.390996\" style=\"fill: #4c72b0; stroke: #333333\"/>\n     <use xlink:href=\"#me65a1426ad\" x=\"214.714522\" y=\"62.752964\" style=\"fill: #4c72b0; stroke: #333333\"/>\n     <use xlink:href=\"#me65a1426ad\" x=\"246.279147\" y=\"82.822342\" style=\"fill: #4c72b0; stroke: #333333\"/>\n     <use xlink:href=\"#me65a1426ad\" x=\"234.123202\" y=\"82.143542\" style=\"fill: #4c72b0; stroke: #333333\"/>\n     <use xlink:href=\"#me65a1426ad\" x=\"118.315922\" y=\"195.927818\" style=\"fill: #4c72b0; stroke: #333333\"/>\n     <use xlink:href=\"#me65a1426ad\" x=\"221.728046\" y=\"102.492744\" style=\"fill: #4c72b0; stroke: #333333\"/>\n     <use xlink:href=\"#me65a1426ad\" x=\"240.410415\" y=\"76.537965\" style=\"fill: #4c72b0; stroke: #333333\"/>\n     <use xlink:href=\"#me65a1426ad\" x=\"121.972053\" y=\"201.322981\" style=\"fill: #4c72b0; stroke: #333333\"/>\n     <use xlink:href=\"#me65a1426ad\" x=\"132.124871\" y=\"205.781717\" style=\"fill: #4c72b0; stroke: #333333\"/>\n     <use xlink:href=\"#me65a1426ad\" x=\"139.055421\" y=\"173.128814\" style=\"fill: #4c72b0; stroke: #333333\"/>\n     <use xlink:href=\"#me65a1426ad\" x=\"227.11141\" y=\"88.656715\" style=\"fill: #4c72b0; stroke: #333333\"/>\n     <use xlink:href=\"#me65a1426ad\" x=\"217.260209\" y=\"66.559184\" style=\"fill: #4c72b0; stroke: #333333\"/>\n     <use xlink:href=\"#me65a1426ad\" x=\"115.986665\" y=\"196.251498\" style=\"fill: #4c72b0; stroke: #333333\"/>\n     <use xlink:href=\"#me65a1426ad\" x=\"228.075757\" y=\"85.93973\" style=\"fill: #4c72b0; stroke: #333333\"/>\n     <use xlink:href=\"#me65a1426ad\" x=\"122.558944\" y=\"192.411682\" style=\"fill: #4c72b0; stroke: #333333\"/>\n     <use xlink:href=\"#me65a1426ad\" x=\"237.395908\" y=\"57.924442\" style=\"fill: #4c72b0; stroke: #333333\"/>\n     <use xlink:href=\"#me65a1426ad\" x=\"119.78065\" y=\"182.552864\" style=\"fill: #4c72b0; stroke: #333333\"/>\n     <use xlink:href=\"#me65a1426ad\" x=\"225.6954\" y=\"92.438423\" style=\"fill: #4c72b0; stroke: #333333\"/>\n     <use xlink:href=\"#me65a1426ad\" x=\"234.890622\" y=\"69.031492\" style=\"fill: #4c72b0; stroke: #333333\"/>\n     <use xlink:href=\"#me65a1426ad\" x=\"100.449963\" y=\"184.038091\" style=\"fill: #4c72b0; stroke: #333333\"/>\n     <use xlink:href=\"#me65a1426ad\" x=\"217.161609\" y=\"68.839158\" style=\"fill: #4c72b0; stroke: #333333\"/>\n     <use xlink:href=\"#me65a1426ad\" x=\"241.429583\" y=\"83.633705\" style=\"fill: #4c72b0; stroke: #333333\"/>\n     <use xlink:href=\"#me65a1426ad\" x=\"110.008365\" y=\"189.029698\" style=\"fill: #4c72b0; stroke: #333333\"/>\n     <use xlink:href=\"#me65a1426ad\" x=\"119.335514\" y=\"215.578994\" style=\"fill: #4c72b0; stroke: #333333\"/>\n     <use xlink:href=\"#me65a1426ad\" x=\"118.899791\" y=\"191.479002\" style=\"fill: #4c72b0; stroke: #333333\"/>\n     <use xlink:href=\"#me65a1426ad\" x=\"104.399768\" y=\"191.587679\" style=\"fill: #4c72b0; stroke: #333333\"/>\n     <use xlink:href=\"#me65a1426ad\" x=\"252.796801\" y=\"83.744325\" style=\"fill: #4c72b0; stroke: #333333\"/>\n     <use xlink:href=\"#me65a1426ad\" x=\"225.688626\" y=\"90.176102\" style=\"fill: #4c72b0; stroke: #333333\"/>\n     <use xlink:href=\"#me65a1426ad\" x=\"246.404718\" y=\"62.800786\" style=\"fill: #4c72b0; stroke: #333333\"/>\n     <use xlink:href=\"#me65a1426ad\" x=\"104.850809\" y=\"179.790426\" style=\"fill: #4c72b0; stroke: #333333\"/>\n     <use xlink:href=\"#me65a1426ad\" x=\"234.678725\" y=\"97.140489\" style=\"fill: #4c72b0; stroke: #333333\"/>\n     <use xlink:href=\"#me65a1426ad\" x=\"242.932977\" y=\"102.94976\" style=\"fill: #4c72b0; stroke: #333333\"/>\n     <use xlink:href=\"#me65a1426ad\" x=\"138.343419\" y=\"206.284387\" style=\"fill: #4c72b0; stroke: #333333\"/>\n     <use xlink:href=\"#me65a1426ad\" x=\"130.607447\" y=\"197.261204\" style=\"fill: #4c72b0; stroke: #333333\"/>\n     <use xlink:href=\"#me65a1426ad\" x=\"119.615426\" y=\"183.56805\" style=\"fill: #4c72b0; stroke: #333333\"/>\n     <use xlink:href=\"#me65a1426ad\" x=\"120.290075\" y=\"181.71065\" style=\"fill: #4c72b0; stroke: #333333\"/>\n     <use xlink:href=\"#me65a1426ad\" x=\"235.167815\" y=\"74.198881\" style=\"fill: #4c72b0; stroke: #333333\"/>\n     <use xlink:href=\"#me65a1426ad\" x=\"225.144682\" y=\"101.73884\" style=\"fill: #4c72b0; stroke: #333333\"/>\n     <use xlink:href=\"#me65a1426ad\" x=\"119.580652\" y=\"187.984213\" style=\"fill: #4c72b0; stroke: #333333\"/>\n     <use xlink:href=\"#me65a1426ad\" x=\"129.23293\" y=\"181.018964\" style=\"fill: #4c72b0; stroke: #333333\"/>\n     <use xlink:href=\"#me65a1426ad\" x=\"130.493333\" y=\"186.856615\" style=\"fill: #4c72b0; stroke: #333333\"/>\n     <use xlink:href=\"#me65a1426ad\" x=\"234.942436\" y=\"61.12244\" style=\"fill: #4c72b0; stroke: #333333\"/>\n     <use xlink:href=\"#me65a1426ad\" x=\"234.214961\" y=\"59.647478\" style=\"fill: #4c72b0; stroke: #333333\"/>\n     <use xlink:href=\"#me65a1426ad\" x=\"121.241516\" y=\"198.094838\" style=\"fill: #4c72b0; stroke: #333333\"/>\n     <use xlink:href=\"#me65a1426ad\" x=\"243.57965\" y=\"61.2117\" style=\"fill: #4c72b0; stroke: #333333\"/>\n     <use xlink:href=\"#me65a1426ad\" x=\"229.452153\" y=\"89.063668\" style=\"fill: #4c72b0; stroke: #333333\"/>\n     <use xlink:href=\"#me65a1426ad\" x=\"242.114893\" y=\"57.89601\" style=\"fill: #4c72b0; stroke: #333333\"/>\n     <use xlink:href=\"#me65a1426ad\" x=\"114.394298\" y=\"185.920992\" style=\"fill: #4c72b0; stroke: #333333\"/>\n     <use xlink:href=\"#me65a1426ad\" x=\"230.97994\" y=\"69.480465\" style=\"fill: #4c72b0; stroke: #333333\"/>\n     <use xlink:href=\"#me65a1426ad\" x=\"122.473795\" y=\"201.634928\" style=\"fill: #4c72b0; stroke: #333333\"/>\n     <use xlink:href=\"#me65a1426ad\" x=\"129.879514\" y=\"195.044299\" style=\"fill: #4c72b0; stroke: #333333\"/>\n     <use xlink:href=\"#me65a1426ad\" x=\"113.832919\" y=\"184.526148\" style=\"fill: #4c72b0; stroke: #333333\"/>\n     <use xlink:href=\"#me65a1426ad\" x=\"213.829965\" y=\"74.176331\" style=\"fill: #4c72b0; stroke: #333333\"/>\n     <use xlink:href=\"#me65a1426ad\" x=\"223.703485\" y=\"69.35652\" style=\"fill: #4c72b0; stroke: #333333\"/>\n     <use xlink:href=\"#me65a1426ad\" x=\"205.696671\" y=\"66.827799\" style=\"fill: #4c72b0; stroke: #333333\"/>\n     <use xlink:href=\"#me65a1426ad\" x=\"113.237155\" y=\"184.781798\" style=\"fill: #4c72b0; stroke: #333333\"/>\n     <use xlink:href=\"#me65a1426ad\" x=\"136.98403\" y=\"197.184571\" style=\"fill: #4c72b0; stroke: #333333\"/>\n     <use xlink:href=\"#me65a1426ad\" x=\"117.070475\" y=\"199.468055\" style=\"fill: #4c72b0; stroke: #333333\"/>\n     <use xlink:href=\"#me65a1426ad\" x=\"224.282192\" y=\"103.788253\" style=\"fill: #4c72b0; stroke: #333333\"/>\n     <use xlink:href=\"#me65a1426ad\" x=\"125.312649\" y=\"187.808871\" style=\"fill: #4c72b0; stroke: #333333\"/>\n     <use xlink:href=\"#me65a1426ad\" x=\"119.571366\" y=\"182.8646\" style=\"fill: #4c72b0; stroke: #333333\"/>\n     <use xlink:href=\"#me65a1426ad\" x=\"115.263198\" y=\"191.761072\" style=\"fill: #4c72b0; stroke: #333333\"/>\n     <use xlink:href=\"#me65a1426ad\" x=\"122.978343\" y=\"198.173384\" style=\"fill: #4c72b0; stroke: #333333\"/>\n     <use xlink:href=\"#me65a1426ad\" x=\"212.839467\" y=\"77.410811\" style=\"fill: #4c72b0; stroke: #333333\"/>\n     <use xlink:href=\"#me65a1426ad\" x=\"220.172732\" y=\"64.238434\" style=\"fill: #4c72b0; stroke: #333333\"/>\n     <use xlink:href=\"#me65a1426ad\" x=\"101.371066\" y=\"203.18529\" style=\"fill: #4c72b0; stroke: #333333\"/>\n     <use xlink:href=\"#me65a1426ad\" x=\"232.295586\" y=\"95.562328\" style=\"fill: #4c72b0; stroke: #333333\"/>\n    </g>\n   </g>\n   <g id=\"PathCollection_2\">\n    <defs>\n     <path id=\"m9e8101b7ea\" d=\"M 0 3 \nC 0.795609 3 1.55874 2.683901 2.12132 2.12132 \nC 2.683901 1.55874 3 0.795609 3 0 \nC 3 -0.795609 2.683901 -1.55874 2.12132 -2.12132 \nC 1.55874 -2.683901 0.795609 -3 0 -3 \nC -0.795609 -3 -1.55874 -2.683901 -2.12132 -2.12132 \nC -2.683901 -1.55874 -3 -0.795609 -3 0 \nC -3 0.795609 -2.683901 1.55874 -2.12132 2.12132 \nC -1.55874 2.683901 -0.795609 3 0 3 \nz\n\" style=\"stroke: #333333\"/>\n    </defs>\n    <g clip-path=\"url(#p088d7b4b17)\">\n     <use xlink:href=\"#m9e8101b7ea\" x=\"228.267172\" y=\"176.250001\" style=\"fill: #dd8452; stroke: #333333\"/>\n     <use xlink:href=\"#m9e8101b7ea\" x=\"238.631678\" y=\"176.467229\" style=\"fill: #dd8452; stroke: #333333\"/>\n     <use xlink:href=\"#m9e8101b7ea\" x=\"229.178515\" y=\"190.72399\" style=\"fill: #dd8452; stroke: #333333\"/>\n     <use xlink:href=\"#m9e8101b7ea\" x=\"115.44737\" y=\"67.389997\" style=\"fill: #dd8452; stroke: #333333\"/>\n     <use xlink:href=\"#m9e8101b7ea\" x=\"244.102776\" y=\"192.866643\" style=\"fill: #dd8452; stroke: #333333\"/>\n     <use xlink:href=\"#m9e8101b7ea\" x=\"123.964196\" y=\"81.977829\" style=\"fill: #dd8452; stroke: #333333\"/>\n     <use xlink:href=\"#m9e8101b7ea\" x=\"219.461767\" y=\"200.698784\" style=\"fill: #dd8452; stroke: #333333\"/>\n     <use xlink:href=\"#m9e8101b7ea\" x=\"148.104666\" y=\"78.801317\" style=\"fill: #dd8452; stroke: #333333\"/>\n     <use xlink:href=\"#m9e8101b7ea\" x=\"241.584365\" y=\"205.395483\" style=\"fill: #dd8452; stroke: #333333\"/>\n     <use xlink:href=\"#m9e8101b7ea\" x=\"215.412911\" y=\"179.980683\" style=\"fill: #dd8452; stroke: #333333\"/>\n     <use xlink:href=\"#m9e8101b7ea\" x=\"227.49163\" y=\"169.907623\" style=\"fill: #dd8452; stroke: #333333\"/>\n     <use xlink:href=\"#m9e8101b7ea\" x=\"96.249603\" y=\"66.726338\" style=\"fill: #dd8452; stroke: #333333\"/>\n     <use xlink:href=\"#m9e8101b7ea\" x=\"136.902612\" y=\"67.502468\" style=\"fill: #dd8452; stroke: #333333\"/>\n     <use xlink:href=\"#m9e8101b7ea\" x=\"120.828227\" y=\"92.374058\" style=\"fill: #dd8452; stroke: #333333\"/>\n     <use xlink:href=\"#m9e8101b7ea\" x=\"121.07675\" y=\"64.737966\" style=\"fill: #dd8452; stroke: #333333\"/>\n     <use xlink:href=\"#m9e8101b7ea\" x=\"104.225536\" y=\"62.279233\" style=\"fill: #dd8452; stroke: #333333\"/>\n     <use xlink:href=\"#m9e8101b7ea\" x=\"230.701339\" y=\"192.99315\" style=\"fill: #dd8452; stroke: #333333\"/>\n     <use xlink:href=\"#m9e8101b7ea\" x=\"216.600502\" y=\"176.132059\" style=\"fill: #dd8452; stroke: #333333\"/>\n     <use xlink:href=\"#m9e8101b7ea\" x=\"224.324926\" y=\"177.791622\" style=\"fill: #dd8452; stroke: #333333\"/>\n     <use xlink:href=\"#m9e8101b7ea\" x=\"129.95045\" y=\"78.528215\" style=\"fill: #dd8452; stroke: #333333\"/>\n     <use xlink:href=\"#m9e8101b7ea\" x=\"213.389749\" y=\"185.273851\" style=\"fill: #dd8452; stroke: #333333\"/>\n     <use xlink:href=\"#m9e8101b7ea\" x=\"249.221312\" y=\"192.01743\" style=\"fill: #dd8452; stroke: #333333\"/>\n     <use xlink:href=\"#m9e8101b7ea\" x=\"242.377401\" y=\"190.061763\" style=\"fill: #dd8452; stroke: #333333\"/>\n     <use xlink:href=\"#m9e8101b7ea\" x=\"222.190614\" y=\"193.281157\" style=\"fill: #dd8452; stroke: #333333\"/>\n     <use xlink:href=\"#m9e8101b7ea\" x=\"247.250982\" y=\"172.669489\" style=\"fill: #dd8452; stroke: #333333\"/>\n     <use xlink:href=\"#m9e8101b7ea\" x=\"110.214786\" y=\"87.297013\" style=\"fill: #dd8452; stroke: #333333\"/>\n     <use xlink:href=\"#m9e8101b7ea\" x=\"244.93228\" y=\"175.02622\" style=\"fill: #dd8452; stroke: #333333\"/>\n     <use xlink:href=\"#m9e8101b7ea\" x=\"132.293045\" y=\"75.206008\" style=\"fill: #dd8452; stroke: #333333\"/>\n     <use xlink:href=\"#m9e8101b7ea\" x=\"229.265853\" y=\"174.447061\" style=\"fill: #dd8452; stroke: #333333\"/>\n     <use xlink:href=\"#m9e8101b7ea\" x=\"98.461351\" y=\"76.692403\" style=\"fill: #dd8452; stroke: #333333\"/>\n     <use xlink:href=\"#m9e8101b7ea\" x=\"119.828311\" y=\"84.039634\" style=\"fill: #dd8452; stroke: #333333\"/>\n     <use xlink:href=\"#m9e8101b7ea\" x=\"222.284395\" y=\"198.548117\" style=\"fill: #dd8452; stroke: #333333\"/>\n     <use xlink:href=\"#m9e8101b7ea\" x=\"215.531297\" y=\"178.033399\" style=\"fill: #dd8452; stroke: #333333\"/>\n     <use xlink:href=\"#m9e8101b7ea\" x=\"123.808483\" y=\"79.654878\" style=\"fill: #dd8452; stroke: #333333\"/>\n     <use xlink:href=\"#m9e8101b7ea\" x=\"238.859304\" y=\"178.616469\" style=\"fill: #dd8452; stroke: #333333\"/>\n     <use xlink:href=\"#m9e8101b7ea\" x=\"124.269322\" y=\"85.978545\" style=\"fill: #dd8452; stroke: #333333\"/>\n     <use xlink:href=\"#m9e8101b7ea\" x=\"121.79428\" y=\"88.187855\" style=\"fill: #dd8452; stroke: #333333\"/>\n     <use xlink:href=\"#m9e8101b7ea\" x=\"252.540241\" y=\"199.098321\" style=\"fill: #dd8452; stroke: #333333\"/>\n     <use xlink:href=\"#m9e8101b7ea\" x=\"228.794151\" y=\"175.576065\" style=\"fill: #dd8452; stroke: #333333\"/>\n     <use xlink:href=\"#m9e8101b7ea\" x=\"111.199094\" y=\"75.770625\" style=\"fill: #dd8452; stroke: #333333\"/>\n     <use xlink:href=\"#m9e8101b7ea\" x=\"135.398824\" y=\"77.42157\" style=\"fill: #dd8452; stroke: #333333\"/>\n     <use xlink:href=\"#m9e8101b7ea\" x=\"138.144886\" y=\"63.284893\" style=\"fill: #dd8452; stroke: #333333\"/>\n     <use xlink:href=\"#m9e8101b7ea\" x=\"239.022493\" y=\"196.664997\" style=\"fill: #dd8452; stroke: #333333\"/>\n     <use xlink:href=\"#m9e8101b7ea\" x=\"111.603121\" y=\"79.111389\" style=\"fill: #dd8452; stroke: #333333\"/>\n     <use xlink:href=\"#m9e8101b7ea\" x=\"226.855405\" y=\"179.737074\" style=\"fill: #dd8452; stroke: #333333\"/>\n     <use xlink:href=\"#m9e8101b7ea\" x=\"123.53687\" y=\"89.971152\" style=\"fill: #dd8452; stroke: #333333\"/>\n     <use xlink:href=\"#m9e8101b7ea\" x=\"129.859061\" y=\"71.193654\" style=\"fill: #dd8452; stroke: #333333\"/>\n     <use xlink:href=\"#m9e8101b7ea\" x=\"128.985326\" y=\"73.963391\" style=\"fill: #dd8452; stroke: #333333\"/>\n     <use xlink:href=\"#m9e8101b7ea\" x=\"219.811949\" y=\"180.459621\" style=\"fill: #dd8452; stroke: #333333\"/>\n     <use xlink:href=\"#m9e8101b7ea\" x=\"111.598072\" y=\"93.187199\" style=\"fill: #dd8452; stroke: #333333\"/>\n     <use xlink:href=\"#m9e8101b7ea\" x=\"128.034013\" y=\"69.61394\" style=\"fill: #dd8452; stroke: #333333\"/>\n     <use xlink:href=\"#m9e8101b7ea\" x=\"213.191149\" y=\"177.286919\" style=\"fill: #dd8452; stroke: #333333\"/>\n     <use xlink:href=\"#m9e8101b7ea\" x=\"234.585195\" y=\"200.08992\" style=\"fill: #dd8452; stroke: #333333\"/>\n     <use xlink:href=\"#m9e8101b7ea\" x=\"125.979114\" y=\"70.023352\" style=\"fill: #dd8452; stroke: #333333\"/>\n     <use xlink:href=\"#m9e8101b7ea\" x=\"131.020266\" y=\"85.381901\" style=\"fill: #dd8452; stroke: #333333\"/>\n     <use xlink:href=\"#m9e8101b7ea\" x=\"218.705913\" y=\"187.65421\" style=\"fill: #dd8452; stroke: #333333\"/>\n     <use xlink:href=\"#m9e8101b7ea\" x=\"211.907788\" y=\"189.820486\" style=\"fill: #dd8452; stroke: #333333\"/>\n     <use xlink:href=\"#m9e8101b7ea\" x=\"128.76765\" y=\"81.027196\" style=\"fill: #dd8452; stroke: #333333\"/>\n     <use xlink:href=\"#m9e8101b7ea\" x=\"93.51186\" y=\"86.786094\" style=\"fill: #dd8452; stroke: #333333\"/>\n     <use xlink:href=\"#m9e8101b7ea\" x=\"117.116578\" y=\"93.155925\" style=\"fill: #dd8452; stroke: #333333\"/>\n     <use xlink:href=\"#m9e8101b7ea\" x=\"131.225025\" y=\"72.790696\" style=\"fill: #dd8452; stroke: #333333\"/>\n     <use xlink:href=\"#m9e8101b7ea\" x=\"113.67349\" y=\"81.712552\" style=\"fill: #dd8452; stroke: #333333\"/>\n     <use xlink:href=\"#m9e8101b7ea\" x=\"118.875374\" y=\"75.724587\" style=\"fill: #dd8452; stroke: #333333\"/>\n     <use xlink:href=\"#m9e8101b7ea\" x=\"131.728733\" y=\"85.759312\" style=\"fill: #dd8452; stroke: #333333\"/>\n     <use xlink:href=\"#m9e8101b7ea\" x=\"249.404288\" y=\"193.443387\" style=\"fill: #dd8452; stroke: #333333\"/>\n     <use xlink:href=\"#m9e8101b7ea\" x=\"107.465957\" y=\"62.935834\" style=\"fill: #dd8452; stroke: #333333\"/>\n     <use xlink:href=\"#m9e8101b7ea\" x=\"249.988005\" y=\"179.542785\" style=\"fill: #dd8452; stroke: #333333\"/>\n     <use xlink:href=\"#m9e8101b7ea\" x=\"239.388497\" y=\"168.981782\" style=\"fill: #dd8452; stroke: #333333\"/>\n     <use xlink:href=\"#m9e8101b7ea\" x=\"215.154884\" y=\"200.658088\" style=\"fill: #dd8452; stroke: #333333\"/>\n     <use xlink:href=\"#m9e8101b7ea\" x=\"218.283289\" y=\"213.473757\" style=\"fill: #dd8452; stroke: #333333\"/>\n     <use xlink:href=\"#m9e8101b7ea\" x=\"122.24279\" y=\"64.140251\" style=\"fill: #dd8452; stroke: #333333\"/>\n     <use xlink:href=\"#m9e8101b7ea\" x=\"220.444374\" y=\"174.680621\" style=\"fill: #dd8452; stroke: #333333\"/>\n     <use xlink:href=\"#m9e8101b7ea\" x=\"209.805979\" y=\"163.487024\" style=\"fill: #dd8452; stroke: #333333\"/>\n     <use xlink:href=\"#m9e8101b7ea\" x=\"111.242539\" y=\"68.777496\" style=\"fill: #dd8452; stroke: #333333\"/>\n     <use xlink:href=\"#m9e8101b7ea\" x=\"130.295513\" y=\"79.00059\" style=\"fill: #dd8452; stroke: #333333\"/>\n     <use xlink:href=\"#m9e8101b7ea\" x=\"241.175785\" y=\"178.965372\" style=\"fill: #dd8452; stroke: #333333\"/>\n     <use xlink:href=\"#m9e8101b7ea\" x=\"117.2682\" y=\"72.215254\" style=\"fill: #dd8452; stroke: #333333\"/>\n     <use xlink:href=\"#m9e8101b7ea\" x=\"126.822551\" y=\"80.391407\" style=\"fill: #dd8452; stroke: #333333\"/>\n     <use xlink:href=\"#m9e8101b7ea\" x=\"125.543048\" y=\"82.992602\" style=\"fill: #dd8452; stroke: #333333\"/>\n     <use xlink:href=\"#m9e8101b7ea\" x=\"227.987349\" y=\"173.243968\" style=\"fill: #dd8452; stroke: #333333\"/>\n     <use xlink:href=\"#m9e8101b7ea\" x=\"234.348793\" y=\"165.836867\" style=\"fill: #dd8452; stroke: #333333\"/>\n     <use xlink:href=\"#m9e8101b7ea\" x=\"241.42764\" y=\"179.677091\" style=\"fill: #dd8452; stroke: #333333\"/>\n     <use xlink:href=\"#m9e8101b7ea\" x=\"151.47009\" y=\"78.564901\" style=\"fill: #dd8452; stroke: #333333\"/>\n     <use xlink:href=\"#m9e8101b7ea\" x=\"214.557143\" y=\"202.488595\" style=\"fill: #dd8452; stroke: #333333\"/>\n     <use xlink:href=\"#m9e8101b7ea\" x=\"255.717289\" y=\"201.72411\" style=\"fill: #dd8452; stroke: #333333\"/>\n     <use xlink:href=\"#m9e8101b7ea\" x=\"225.0395\" y=\"199.287585\" style=\"fill: #dd8452; stroke: #333333\"/>\n     <use xlink:href=\"#m9e8101b7ea\" x=\"114.415033\" y=\"86.997317\" style=\"fill: #dd8452; stroke: #333333\"/>\n     <use xlink:href=\"#m9e8101b7ea\" x=\"112.612911\" y=\"78.562297\" style=\"fill: #dd8452; stroke: #333333\"/>\n     <use xlink:href=\"#m9e8101b7ea\" x=\"243.321068\" y=\"201.596164\" style=\"fill: #dd8452; stroke: #333333\"/>\n     <use xlink:href=\"#m9e8101b7ea\" x=\"112.963906\" y=\"84.533052\" style=\"fill: #dd8452; stroke: #333333\"/>\n     <use xlink:href=\"#m9e8101b7ea\" x=\"101.699867\" y=\"80.559539\" style=\"fill: #dd8452; stroke: #333333\"/>\n     <use xlink:href=\"#m9e8101b7ea\" x=\"136.696095\" y=\"69.979336\" style=\"fill: #dd8452; stroke: #333333\"/>\n     <use xlink:href=\"#m9e8101b7ea\" x=\"115.350048\" y=\"72.369137\" style=\"fill: #dd8452; stroke: #333333\"/>\n     <use xlink:href=\"#m9e8101b7ea\" x=\"249.445594\" y=\"199.60062\" style=\"fill: #dd8452; stroke: #333333\"/>\n     <use xlink:href=\"#m9e8101b7ea\" x=\"211.04584\" y=\"185.119865\" style=\"fill: #dd8452; stroke: #333333\"/>\n     <use xlink:href=\"#m9e8101b7ea\" x=\"122.156234\" y=\"66.725915\" style=\"fill: #dd8452; stroke: #333333\"/>\n     <use xlink:href=\"#m9e8101b7ea\" x=\"247.246528\" y=\"197.654618\" style=\"fill: #dd8452; stroke: #333333\"/>\n    </g>\n   </g>\n   <g id=\"patch_3\">\n    <path d=\"M 66.023594 244.078125 \nL 66.023594 22.318125 \n\" style=\"fill: none; stroke: #ffffff; stroke-width: 1.25; stroke-linejoin: miter; stroke-linecap: square\"/>\n   </g>\n   <g id=\"patch_4\">\n    <path d=\"M 287.783594 244.078125 \nL 287.783594 22.318125 \n\" style=\"fill: none; stroke: #ffffff; stroke-width: 1.25; stroke-linejoin: miter; stroke-linecap: square\"/>\n   </g>\n   <g id=\"patch_5\">\n    <path d=\"M 66.023594 244.078125 \nL 287.783594 244.078125 \n\" style=\"fill: none; stroke: #ffffff; stroke-width: 1.25; stroke-linejoin: miter; stroke-linecap: square\"/>\n   </g>\n   <g id=\"patch_6\">\n    <path d=\"M 66.023594 22.318125 \nL 287.783594 22.318125 \n\" style=\"fill: none; stroke: #ffffff; stroke-width: 1.25; stroke-linejoin: miter; stroke-linecap: square\"/>\n   </g>\n   <g id=\"text_17\">\n    <!-- Dataset samples -->\n    <g style=\"fill: #262626\" transform=\"translate(126.560781 16.318125) scale(0.12 -0.12)\">\n     <defs>\n      <path id=\"DejaVuSans-44\" d=\"M 1259 4147 \nL 1259 519 \nL 2022 519 \nQ 2988 519 3436 956 \nQ 3884 1394 3884 2338 \nQ 3884 3275 3436 3711 \nQ 2988 4147 2022 4147 \nL 1259 4147 \nz\nM 628 4666 \nL 1925 4666 \nQ 3281 4666 3915 4102 \nQ 4550 3538 4550 2338 \nQ 4550 1131 3912 565 \nQ 3275 0 1925 0 \nL 628 0 \nL 628 4666 \nz\n\" transform=\"scale(0.015625)\"/>\n      <path id=\"DejaVuSans-61\" d=\"M 2194 1759 \nQ 1497 1759 1228 1600 \nQ 959 1441 959 1056 \nQ 959 750 1161 570 \nQ 1363 391 1709 391 \nQ 2188 391 2477 730 \nQ 2766 1069 2766 1631 \nL 2766 1759 \nL 2194 1759 \nz\nM 3341 1997 \nL 3341 0 \nL 2766 0 \nL 2766 531 \nQ 2569 213 2275 61 \nQ 1981 -91 1556 -91 \nQ 1019 -91 701 211 \nQ 384 513 384 1019 \nQ 384 1609 779 1909 \nQ 1175 2209 1959 2209 \nL 2766 2209 \nL 2766 2266 \nQ 2766 2663 2505 2880 \nQ 2244 3097 1772 3097 \nQ 1472 3097 1187 3025 \nQ 903 2953 641 2809 \nL 641 3341 \nQ 956 3463 1253 3523 \nQ 1550 3584 1831 3584 \nQ 2591 3584 2966 3190 \nQ 3341 2797 3341 1997 \nz\n\" transform=\"scale(0.015625)\"/>\n      <path id=\"DejaVuSans-74\" d=\"M 1172 4494 \nL 1172 3500 \nL 2356 3500 \nL 2356 3053 \nL 1172 3053 \nL 1172 1153 \nQ 1172 725 1289 603 \nQ 1406 481 1766 481 \nL 2356 481 \nL 2356 0 \nL 1766 0 \nQ 1100 0 847 248 \nQ 594 497 594 1153 \nL 594 3053 \nL 172 3053 \nL 172 3500 \nL 594 3500 \nL 594 4494 \nL 1172 4494 \nz\n\" transform=\"scale(0.015625)\"/>\n      <path id=\"DejaVuSans-73\" d=\"M 2834 3397 \nL 2834 2853 \nQ 2591 2978 2328 3040 \nQ 2066 3103 1784 3103 \nQ 1356 3103 1142 2972 \nQ 928 2841 928 2578 \nQ 928 2378 1081 2264 \nQ 1234 2150 1697 2047 \nL 1894 2003 \nQ 2506 1872 2764 1633 \nQ 3022 1394 3022 966 \nQ 3022 478 2636 193 \nQ 2250 -91 1575 -91 \nQ 1294 -91 989 -36 \nQ 684 19 347 128 \nL 347 722 \nQ 666 556 975 473 \nQ 1284 391 1588 391 \nQ 1994 391 2212 530 \nQ 2431 669 2431 922 \nQ 2431 1156 2273 1281 \nQ 2116 1406 1581 1522 \nL 1381 1569 \nQ 847 1681 609 1914 \nQ 372 2147 372 2553 \nQ 372 3047 722 3315 \nQ 1072 3584 1716 3584 \nQ 2034 3584 2315 3537 \nQ 2597 3491 2834 3397 \nz\n\" transform=\"scale(0.015625)\"/>\n      <path id=\"DejaVuSans-65\" d=\"M 3597 1894 \nL 3597 1613 \nL 953 1613 \nQ 991 1019 1311 708 \nQ 1631 397 2203 397 \nQ 2534 397 2845 478 \nQ 3156 559 3463 722 \nL 3463 178 \nQ 3153 47 2828 -22 \nQ 2503 -91 2169 -91 \nQ 1331 -91 842 396 \nQ 353 884 353 1716 \nQ 353 2575 817 3079 \nQ 1281 3584 2069 3584 \nQ 2775 3584 3186 3129 \nQ 3597 2675 3597 1894 \nz\nM 3022 2063 \nQ 3016 2534 2758 2815 \nQ 2500 3097 2075 3097 \nQ 1594 3097 1305 2825 \nQ 1016 2553 972 2059 \nL 3022 2063 \nz\n\" transform=\"scale(0.015625)\"/>\n      <path id=\"DejaVuSans-20\" transform=\"scale(0.015625)\"/>\n      <path id=\"DejaVuSans-6d\" d=\"M 3328 2828 \nQ 3544 3216 3844 3400 \nQ 4144 3584 4550 3584 \nQ 5097 3584 5394 3201 \nQ 5691 2819 5691 2113 \nL 5691 0 \nL 5113 0 \nL 5113 2094 \nQ 5113 2597 4934 2840 \nQ 4756 3084 4391 3084 \nQ 3944 3084 3684 2787 \nQ 3425 2491 3425 1978 \nL 3425 0 \nL 2847 0 \nL 2847 2094 \nQ 2847 2600 2669 2842 \nQ 2491 3084 2119 3084 \nQ 1678 3084 1418 2786 \nQ 1159 2488 1159 1978 \nL 1159 0 \nL 581 0 \nL 581 3500 \nL 1159 3500 \nL 1159 2956 \nQ 1356 3278 1631 3431 \nQ 1906 3584 2284 3584 \nQ 2666 3584 2933 3390 \nQ 3200 3197 3328 2828 \nz\n\" transform=\"scale(0.015625)\"/>\n      <path id=\"DejaVuSans-70\" d=\"M 1159 525 \nL 1159 -1331 \nL 581 -1331 \nL 581 3500 \nL 1159 3500 \nL 1159 2969 \nQ 1341 3281 1617 3432 \nQ 1894 3584 2278 3584 \nQ 2916 3584 3314 3078 \nQ 3713 2572 3713 1747 \nQ 3713 922 3314 415 \nQ 2916 -91 2278 -91 \nQ 1894 -91 1617 61 \nQ 1341 213 1159 525 \nz\nM 3116 1747 \nQ 3116 2381 2855 2742 \nQ 2594 3103 2138 3103 \nQ 1681 3103 1420 2742 \nQ 1159 2381 1159 1747 \nQ 1159 1113 1420 752 \nQ 1681 391 2138 391 \nQ 2594 391 2855 752 \nQ 3116 1113 3116 1747 \nz\n\" transform=\"scale(0.015625)\"/>\n      <path id=\"DejaVuSans-6c\" d=\"M 603 4863 \nL 1178 4863 \nL 1178 0 \nL 603 0 \nL 603 4863 \nz\n\" transform=\"scale(0.015625)\"/>\n     </defs>\n     <use xlink:href=\"#DejaVuSans-44\"/>\n     <use xlink:href=\"#DejaVuSans-61\" transform=\"translate(77.001953 0)\"/>\n     <use xlink:href=\"#DejaVuSans-74\" transform=\"translate(138.28125 0)\"/>\n     <use xlink:href=\"#DejaVuSans-61\" transform=\"translate(177.490234 0)\"/>\n     <use xlink:href=\"#DejaVuSans-73\" transform=\"translate(238.769531 0)\"/>\n     <use xlink:href=\"#DejaVuSans-65\" transform=\"translate(290.869141 0)\"/>\n     <use xlink:href=\"#DejaVuSans-74\" transform=\"translate(352.392578 0)\"/>\n     <use xlink:href=\"#DejaVuSans-20\" transform=\"translate(391.601562 0)\"/>\n     <use xlink:href=\"#DejaVuSans-73\" transform=\"translate(423.388672 0)\"/>\n     <use xlink:href=\"#DejaVuSans-61\" transform=\"translate(475.488281 0)\"/>\n     <use xlink:href=\"#DejaVuSans-6d\" transform=\"translate(536.767578 0)\"/>\n     <use xlink:href=\"#DejaVuSans-70\" transform=\"translate(634.179688 0)\"/>\n     <use xlink:href=\"#DejaVuSans-6c\" transform=\"translate(697.65625 0)\"/>\n     <use xlink:href=\"#DejaVuSans-65\" transform=\"translate(725.439453 0)\"/>\n     <use xlink:href=\"#DejaVuSans-73\" transform=\"translate(786.962891 0)\"/>\n    </g>\n   </g>\n   <g id=\"legend_1\">\n    <g id=\"patch_7\">\n     <path d=\"M 205.450312 150.994063 \nL 280.083594 150.994063 \nQ 282.283594 150.994063 282.283594 148.794063 \nL 282.283594 117.602188 \nQ 282.283594 115.402188 280.083594 115.402188 \nL 205.450312 115.402188 \nQ 203.250313 115.402188 203.250313 117.602188 \nL 203.250313 148.794063 \nQ 203.250313 150.994063 205.450312 150.994063 \nz\n\" style=\"fill: #eaeaf2; opacity: 0.8; stroke: #cccccc; stroke-linejoin: miter\"/>\n    </g>\n    <g id=\"PathCollection_3\">\n     <g>\n      <use xlink:href=\"#me65a1426ad\" x=\"218.650313\" y=\"125.272969\" style=\"fill: #4c72b0; stroke: #333333\"/>\n     </g>\n    </g>\n    <g id=\"text_18\">\n     <!-- Class 0 -->\n     <g style=\"fill: #262626\" transform=\"translate(238.450313 128.160469) scale(0.11 -0.11)\">\n      <defs>\n       <path id=\"DejaVuSans-43\" d=\"M 4122 4306 \nL 4122 3641 \nQ 3803 3938 3442 4084 \nQ 3081 4231 2675 4231 \nQ 1875 4231 1450 3742 \nQ 1025 3253 1025 2328 \nQ 1025 1406 1450 917 \nQ 1875 428 2675 428 \nQ 3081 428 3442 575 \nQ 3803 722 4122 1019 \nL 4122 359 \nQ 3791 134 3420 21 \nQ 3050 -91 2638 -91 \nQ 1578 -91 968 557 \nQ 359 1206 359 2328 \nQ 359 3453 968 4101 \nQ 1578 4750 2638 4750 \nQ 3056 4750 3426 4639 \nQ 3797 4528 4122 4306 \nz\n\" transform=\"scale(0.015625)\"/>\n      </defs>\n      <use xlink:href=\"#DejaVuSans-43\"/>\n      <use xlink:href=\"#DejaVuSans-6c\" transform=\"translate(69.824219 0)\"/>\n      <use xlink:href=\"#DejaVuSans-61\" transform=\"translate(97.607422 0)\"/>\n      <use xlink:href=\"#DejaVuSans-73\" transform=\"translate(158.886719 0)\"/>\n      <use xlink:href=\"#DejaVuSans-73\" transform=\"translate(210.986328 0)\"/>\n      <use xlink:href=\"#DejaVuSans-20\" transform=\"translate(263.085938 0)\"/>\n      <use xlink:href=\"#DejaVuSans-30\" transform=\"translate(294.873047 0)\"/>\n     </g>\n    </g>\n    <g id=\"PathCollection_4\">\n     <g>\n      <use xlink:href=\"#m9e8101b7ea\" x=\"218.650313\" y=\"141.418906\" style=\"fill: #dd8452; stroke: #333333\"/>\n     </g>\n    </g>\n    <g id=\"text_19\">\n     <!-- Class 1 -->\n     <g style=\"fill: #262626\" transform=\"translate(238.450313 144.306406) scale(0.11 -0.11)\">\n      <use xlink:href=\"#DejaVuSans-43\"/>\n      <use xlink:href=\"#DejaVuSans-6c\" transform=\"translate(69.824219 0)\"/>\n      <use xlink:href=\"#DejaVuSans-61\" transform=\"translate(97.607422 0)\"/>\n      <use xlink:href=\"#DejaVuSans-73\" transform=\"translate(158.886719 0)\"/>\n      <use xlink:href=\"#DejaVuSans-73\" transform=\"translate(210.986328 0)\"/>\n      <use xlink:href=\"#DejaVuSans-20\" transform=\"translate(263.085938 0)\"/>\n      <use xlink:href=\"#DejaVuSans-31\" transform=\"translate(294.873047 0)\"/>\n     </g>\n    </g>\n   </g>\n  </g>\n </g>\n <defs>\n  <clipPath id=\"p088d7b4b17\">\n   <rect x=\"66.023594\" y=\"22.318125\" width=\"221.76\" height=\"221.76\"/>\n  </clipPath>\n </defs>\n</svg>\n",
            "application/pdf": "[encoded data removed]"
          },
          "metadata": {}
        }
      ],
      "source": [
        "@torch.no_grad() # Decorator, same effect as \"with torch.no_grad(): ...\" over the whole function.\n",
        "def visualize_classification(model, data, label):\n",
        "    if isinstance(data, torch.Tensor):\n",
        "        data = data.cpu().numpy()\n",
        "    if isinstance(label, torch.Tensor):\n",
        "        label = label.cpu().numpy()\n",
        "    data_0 = data[label == 0]\n",
        "    data_1 = data[label == 1]\n",
        "\n",
        "    fig = plt.figure(figsize=(4,4), dpi=500)\n",
        "    plt.scatter(data_0[:,0], data_0[:,1], edgecolor=\"#333\", label=\"Class 0\")\n",
        "    plt.scatter(data_1[:,0], data_1[:,1], edgecolor=\"#333\", label=\"Class 1\")\n",
        "    plt.title(\"Dataset samples\")\n",
        "    plt.ylabel(r\"$x_2$\")\n",
        "    plt.xlabel(r\"$x_1$\")\n",
        "    plt.legend()\n",
        "\n",
        "    # Let's make use of a lot of operations we have learned above\n",
        "    model.to(device)\n",
        "    c0 = torch.Tensor(to_rgba(\"C0\")).to(device)\n",
        "    c1 = torch.Tensor(to_rgba(\"C1\")).to(device)\n",
        "    x1 = torch.arange(-0.5, 1.5, step=0.01, device=device)\n",
        "    x2 = torch.arange(-0.5, 1.5, step=0.01, device=device)\n",
        "    xx1, xx2 = torch.meshgrid(x1, x2, indexing='ij')  # Meshgrid function as in numpy\n",
        "    model_inputs = torch.stack([xx1, xx2], dim=-1)\n",
        "    preds = model(model_inputs)\n",
        "    preds = torch.sigmoid(preds)\n",
        "    output_image = (1 - preds) * c0[None,None] + preds * c1[None,None]  # Specifying \"None\" in a dimension creates a new one\n",
        "    output_image = output_image.cpu().numpy()  # Convert to numpy array. This only works for tensors on CPU, hence first push to CPU\n",
        "    plt.imshow(output_image, origin='lower', extent=(-0.5, 1.5, -0.5, 1.5))\n",
        "    plt.grid(False)\n",
        "    return fig\n",
        "\n",
        "_ = visualize_classification(model, dataset.data, dataset.label)\n",
        "plt.show()"
      ]
    },
    {
      "cell_type": "markdown",
      "metadata": {
        "id": "JjyG-XD7xpSl"
      },
      "source": [
        "The decision boundaries might not look exactly as in the figure in the preamble of this section which can be caused by running it on CPU or a different GPU architecture. Nevertheless, the result on the accuracy metric should be the approximately the same."
      ]
    },
    {
      "cell_type": "markdown",
      "metadata": {
        "id": "MVHQt-JCxpSl"
      },
      "source": [
        "## Additional features we didn't get to discuss yet\n",
        "\n",
        "Finally, you are all set to start with your own PyTorch project! In summary, we have looked at how we can build neural networks in PyTorch, and train and test them on data. However, there is still much more to PyTorch we haven't discussed yet. In the comming series of Jupyter notebooks, we will discover more and more functionalities of PyTorch, so that you also get familiar to PyTorch concepts beyond the basics. If you are already interested in learning more of PyTorch, we recommend the official [tutorial website](https://pytorch.org/tutorials/) that contains many tutorials on various topics. Especially logging with Tensorboard ([official tutorial here](https://pytorch.org/tutorials/intermediate/tensorboard_tutorial.html)) is a good practice that we will explore further from Tutorial 5 on in combination with PyTorch Lightning.\n",
        "Nonetheless, let's check it shortly out how we could use TensorBoard in our small example."
      ]
    },
    {
      "cell_type": "markdown",
      "metadata": {
        "id": "zlV7AHo1xpSl"
      },
      "source": [
        "### TensorBoard logging\n",
        "\n",
        "TensorBoard is a logging and visualization tool that is a popular choice for training deep learning models. Although initially published for TensorFlow, TensorBoard is also integrated in PyTorch allowing us to easily use it. First, let's import it below."
      ]
    },
    {
      "cell_type": "code",
      "execution_count": 65,
      "metadata": {
        "id": "qm1E-kRtxpSl",
        "pycharm": {
          "is_executing": true
        }
      },
      "outputs": [],
      "source": [
        "# Import tensorboard logger from PyTorch\n",
        "from torch.utils.tensorboard import SummaryWriter\n",
        "\n",
        "# Load tensorboard extension for Jupyter Notebook, only need to start TB in the notebook\n",
        "%load_ext tensorboard"
      ]
    },
    {
      "cell_type": "markdown",
      "metadata": {
        "id": "4e4x5mhExpSl"
      },
      "source": [
        "The last line is required if you want to run TensorBoard directly in the Jupyter Notebook. Otherwise, you can start TensorBoard from the terminal.\n",
        "\n",
        "PyTorch's TensorBoard API is simple to use. We start the logging process by creating a new object, `writer = SummaryWriter(...)`, where we specify the directory in which the logging file should be saved. With this object, we can log different aspects of our model by calling functions of the style `writer.add_...`. For example, we can visualize the computation graph with the function `writer.add_graph`, or add a scalar value like the loss with `writer.add_scalar`. Let's adapt our initial training function with adding a TensorBoard logger below."
      ]
    },
    {
      "cell_type": "code",
      "execution_count": 66,
      "metadata": {
        "id": "LSwcd0PnxpSl",
        "pycharm": {
          "is_executing": true
        }
      },
      "outputs": [],
      "source": [
        "def train_model_with_logger(model, optimizer, data_loader, loss_module, val_dataset, num_epochs=100, logging_dir='runs/our_experiment'):\n",
        "    # Create TensorBoard logger\n",
        "    writer = SummaryWriter(logging_dir)\n",
        "    model_plotted = False\n",
        "\n",
        "    # Set model to train mode\n",
        "    model.train()\n",
        "\n",
        "    # Training loop\n",
        "    for epoch in tqdm(range(num_epochs)):\n",
        "        epoch_loss = 0.0\n",
        "        for data_inputs, data_labels in data_loader:\n",
        "\n",
        "            ## Step 1: Move input data to device (only strictly necessary if we use GPU)\n",
        "            data_inputs = data_inputs.to(device)\n",
        "            data_labels = data_labels.to(device)\n",
        "\n",
        "            # For the very first batch, we visualize the computation graph in TensorBoard\n",
        "            if not model_plotted:\n",
        "                writer.add_graph(model, data_inputs)\n",
        "                model_plotted = True\n",
        "\n",
        "            ## Step 2: Run the model on the input data\n",
        "            preds = model(data_inputs)\n",
        "            preds = preds.squeeze(dim=1) # Output is [Batch size, 1], but we want [Batch size]\n",
        "\n",
        "            ## Step 3: Calculate the loss\n",
        "            loss = loss_module(preds, data_labels.float())\n",
        "\n",
        "            ## Step 4: Perform backpropagation\n",
        "            # Before calculating the gradients, we need to ensure that they are all zero.\n",
        "            # The gradients would not be overwritten, but actually added to the existing ones.\n",
        "            optimizer.zero_grad()\n",
        "            # Perform backpropagation\n",
        "            loss.backward()\n",
        "\n",
        "            ## Step 5: Update the parameters\n",
        "            optimizer.step()\n",
        "\n",
        "            ## Step 6: Take the running average of the loss\n",
        "            epoch_loss += loss.item()\n",
        "\n",
        "        # Add average loss to TensorBoard\n",
        "        epoch_loss /= len(data_loader)\n",
        "        writer.add_scalar('training_loss',\n",
        "                          epoch_loss,\n",
        "                          global_step = epoch + 1)\n",
        "\n",
        "        # Visualize prediction and add figure to TensorBoard\n",
        "        # Since matplotlib figures can be slow in rendering, we only do it every 10th epoch\n",
        "        if (epoch + 1) % 10 == 0:\n",
        "            fig = visualize_classification(model, val_dataset.data, val_dataset.label)\n",
        "            writer.add_figure('predictions',\n",
        "                              fig,\n",
        "                              global_step = epoch + 1)\n",
        "\n",
        "    writer.close()"
      ]
    },
    {
      "cell_type": "markdown",
      "metadata": {
        "id": "ZZ_8l3xcxpSm"
      },
      "source": [
        "Let's use this method to train a model as before, with a new model and optimizer."
      ]
    },
    {
      "cell_type": "code",
      "execution_count": null,
      "metadata": {
        "id": "LJe9N8YWxpSm"
      },
      "outputs": [],
      "source": [
        "model = SimpleClassifier(num_inputs=2, num_hidden=4, num_outputs=1).to(device)\n",
        "optimizer = torch.optim.SGD(model.parameters(), lr=0.1)\n",
        "train_model_with_logger(model, optimizer, train_data_loader, loss_module, val_dataset=dataset)"
      ]
    },
    {
      "cell_type": "markdown",
      "metadata": {
        "id": "bF3TpoPsxpSm"
      },
      "source": [
        "The TensorBoard file in the folder `runs/our_experiment` now contains a loss curve, the computation graph of our network, and a visualization of the learned predictions over number of epochs. To start the TensorBoard visualizer, simply run the following statement:"
      ]
    },
    {
      "cell_type": "code",
      "execution_count": null,
      "metadata": {
        "id": "LnF3gUV9xpSm"
      },
      "outputs": [],
      "source": [
        "%tensorboard --logdir runs/our_experiment"
      ]
    },
    {
      "cell_type": "markdown",
      "metadata": {
        "id": "0GtdO2DqxpSm"
      },
      "source": [
        "<center><img src=\"https://github.com/phlippe/uvadlc_notebooks/blob/master/docs/tutorial_notebooks/tutorial2/tensorboard_screenshot.png?raw=1\" width=\"1100px\"></center>\n",
        "\n",
        "TensorBoard visualizations can help to identify possible issues with your model, and identify situations such as overfitting. You can also track the training progress while a model is training, since the logger automatically writes everything added to it to the logging file."
      ]
    }
  ],
  "metadata": {
    "accelerator": "GPU",
    "colab": {
      "name": "Introduction_to_PyTorch.ipynb",
      "provenance": [],
      "include_colab_link": true
    },
    "kernelspec": {
      "display_name": "Python 3 (ipykernel)",
      "language": "python",
      "name": "python3"
    },
    "language_info": {
      "codemirror_mode": {
        "name": "ipython",
        "version": 3
      },
      "file_extension": ".py",
      "mimetype": "text/x-python",
      "name": "python",
      "nbconvert_exporter": "python",
      "pygments_lexer": "ipython3",
      "version": "3.10.6"
    }
  },
  "nbformat": 4,
  "nbformat_minor": 0
}